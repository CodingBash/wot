{
 "cells": [
  {
   "cell_type": "code",
   "execution_count": 1,
   "metadata": {
    "colab": {},
    "colab_type": "code",
    "id": "feb7MpFF4hKl",
    "pycharm": {}
   },
   "outputs": [],
   "source": [
    "#!pip install -q wot"
   ]
  },
  {
   "cell_type": "code",
   "execution_count": 2,
   "metadata": {
    "colab": {},
    "colab_type": "code",
    "id": "JvT_bLlR4hKq",
    "pycharm": {}
   },
   "outputs": [],
   "source": [
    "import wot"
   ]
  },
  {
   "cell_type": "code",
   "execution_count": 5,
   "metadata": {
    "colab": {
     "base_uri": "https://localhost:8080/",
     "height": 34
    },
    "colab_type": "code",
    "id": "5lFF4FfhAexV",
    "outputId": "e5befe29-2896-45a2-ddc2-f37458648d5c",
    "pycharm": {}
   },
   "outputs": [
    {
     "data": {
      "text/plain": [
       "AnnData object with n_obs × n_vars = 6507 × 3815 "
      ]
     },
     "execution_count": 5,
     "metadata": {},
     "output_type": "execute_result"
    }
   ],
   "source": [
    "tmap_model = wot.tmap.TransportMapModel.from_directory('tmaps/serum')\n",
    "tmap = tmap_model.get_coupling(7, 8)\n",
    "tmap"
   ]
  }
 ],
 "metadata": {
  "colab": {
   "name": "wot-3.ipynb",
   "provenance": [],
   "version": "0.3.2"
  },
  "kernelspec": {
   "display_name": "Python 3",
   "language": "python",
   "name": "python3"
  },
  "language_info": {
   "codemirror_mode": {
    "name": "ipython",
    "version": 3
   },
   "file_extension": ".py",
   "mimetype": "text/x-python",
   "name": "python",
   "nbconvert_exporter": "python",
   "pygments_lexer": "ipython3",
   "version": "3.6.8"
  }
 },
 "nbformat": 4,
 "nbformat_minor": 2
}
