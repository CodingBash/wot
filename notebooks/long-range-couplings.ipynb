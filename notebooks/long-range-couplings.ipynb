{
 "cells": [
  {
   "cell_type": "code",
   "execution_count": 1,
   "metadata": {
    "colab": {},
    "colab_type": "code",
    "id": "feb7MpFF4hKl",
    "pycharm": {}
   },
   "outputs": [],
   "source": [
    "#!pip install -q wot"
   ]
  },
  {
   "cell_type": "code",
   "execution_count": 6,
   "metadata": {
    "colab": {},
    "colab_type": "code",
    "id": "JvT_bLlR4hKq",
    "pycharm": {}
   },
   "outputs": [],
   "source": [
    "import wot\n",
    "import matplotlib.pyplot as plt"
   ]
  },
  {
   "cell_type": "code",
   "execution_count": 26,
   "metadata": {
    "colab": {
     "base_uri": "https://localhost:8080/",
     "height": 34
    },
    "colab_type": "code",
    "id": "5lFF4FfhAexV",
    "outputId": "e5befe29-2896-45a2-ddc2-f37458648d5c",
    "pycharm": {}
   },
   "outputs": [],
   "source": [
    "tmap_model = wot.tmap.TransportMapModel.from_directory('tmaps/serum')"
   ]
  },
  {
   "cell_type": "code",
   "execution_count": 18,
   "metadata": {},
   "outputs": [
    {
     "data": {
      "text/plain": [
       "(6507, 3815)"
      ]
     },
     "execution_count": 18,
     "metadata": {},
     "output_type": "execute_result"
    }
   ],
   "source": [
    "tmap = tmap_model.get_coupling(7, 8)\n",
    "tmap"
   ]
  },
  {
   "cell_type": "code",
   "execution_count": 27,
   "metadata": {},
   "outputs": [
    {
     "name": "stdout",
     "output_type": "stream",
     "text": [
      "(6507, 5061)\n"
     ]
    },
    {
     "data": {
      "text/plain": [
       "(array([  22.,  144.,  614., 1563., 2170., 1177.,  500.,  235.,   74.,\n",
       "           8.]),\n",
       " array([3653.77441406, 3954.3234375 , 4254.87246094, 4555.42148437,\n",
       "        4855.97050781, 5156.51953125, 5457.06855469, 5757.61757813,\n",
       "        6058.16660156, 6358.715625  , 6659.26464844]),\n",
       " <a list of 10 Patch objects>)"
      ]
     },
     "execution_count": 27,
     "metadata": {},
     "output_type": "execute_result"
    },
    {
     "name": "stderr",
     "output_type": "stream",
     "text": [
      "/anaconda3/lib/python3.6/site-packages/matplotlib/figure.py:2366: UserWarning: This figure includes Axes that are not compatible with tight_layout, so results might be incorrect.\n",
      "  warnings.warn(\"This figure includes Axes that are not compatible \"\n"
     ]
    },
    {
     "data": {
      "image/png": "[encoded data removed]",
      "text/plain": [
       "<Figure size 432x288 with 2 Axes>"
      ]
     },
     "metadata": {},
     "output_type": "display_data"
    }
   ],
   "source": [
    "tmap775 = tmap_model.get_coupling(7,7.5)\n",
    "\n",
    "print(tmap775.shape)\n",
    "\n",
    "fig, axs = plt.subplots(1, 2, sharey=True, tight_layout=True)\n",
    "\n",
    "n_bins = 10\n",
    "# We can set the number of bins with the `bins` kwarg\n",
    "axs[0].hist(tmap775.X.sum(axis=0), bins=n_bins) # column sums\n",
    "axs[1].hist(tmap775.X.sum(axis=1), bins=n_bins) # row sums"
   ]
  }
 ],
 "metadata": {
  "colab": {
   "name": "wot-3.ipynb",
   "provenance": [],
   "version": "0.3.2"
  },
  "kernelspec": {
   "display_name": "Python 3",
   "language": "python",
   "name": "python3"
  },
  "language_info": {
   "codemirror_mode": {
    "name": "ipython",
    "version": 3
   },
   "file_extension": ".py",
   "mimetype": "text/x-python",
   "name": "python",
   "nbconvert_exporter": "python",
   "pygments_lexer": "ipython3",
   "version": "3.6.4"
  }
 },
 "nbformat": 4,
 "nbformat_minor": 2
}
