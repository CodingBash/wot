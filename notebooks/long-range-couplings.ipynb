{
 "cells": [
  {
   "cell_type": "code",
   "execution_count": 1,
   "metadata": {
    "colab": {},
    "colab_type": "code",
    "id": "feb7MpFF4hKl",
    "pycharm": {}
   },
   "outputs": [],
   "source": [
    "#!pip install -q wot"
   ]
  },
  {
   "cell_type": "code",
   "execution_count": 2,
   "metadata": {
    "colab": {},
    "colab_type": "code",
    "id": "JvT_bLlR4hKq",
    "pycharm": {}
   },
   "outputs": [],
   "source": [
    "import wot\n",
    "import matplotlib.pyplot as plt"
   ]
  },
  {
   "cell_type": "code",
   "execution_count": 3,
   "metadata": {
    "colab": {
     "base_uri": "https://localhost:8080/",
     "height": 34
    },
    "colab_type": "code",
    "id": "5lFF4FfhAexV",
    "outputId": "e5befe29-2896-45a2-ddc2-f37458648d5c",
    "pycharm": {}
   },
   "outputs": [],
   "source": [
    "tmap_model = wot.tmap.TransportMapModel.from_directory('tmaps/serum')"
   ]
  },
  {
   "cell_type": "code",
   "execution_count": 4,
   "metadata": {},
   "outputs": [
    {
     "data": {
      "text/plain": [
       "AnnData object with n_obs × n_vars = 6507 × 3815 \n",
       "    obs: 'g0', 'g1', 'g2', 'g3'"
      ]
     },
     "execution_count": 4,
     "metadata": {},
     "output_type": "execute_result"
    }
   ],
   "source": [
    "tmap = tmap_model.get_coupling(7, 8)\n",
    "tmap"
   ]
  },
  {
   "cell_type": "code",
   "execution_count": 7,
   "metadata": {},
   "outputs": [
    {
     "data": {
      "text/plain": [
       "(array([2.440e+02, 1.718e+03, 1.970e+03, 1.318e+03, 7.120e+02, 3.480e+02,\n",
       "        1.390e+02, 5.000e+01, 7.000e+00, 1.000e+00]),\n",
       " array([0.36275527, 0.61655754, 0.87035984, 1.1241621 , 1.3779644 ,\n",
       "        1.6317667 , 1.885569  , 2.1393712 , 2.3931735 , 2.6469758 ,\n",
       "        2.900778  ], dtype=float32),\n",
       " <a list of 10 Patch objects>)"
      ]
     },
     "execution_count": 7,
     "metadata": {},
     "output_type": "execute_result"
    },
    {
     "data": {
      "image/png": "[encoded data removed]",
      "text/plain": [
       "<Figure size 432x288 with 2 Axes>"
      ]
     },
     "metadata": {
      "needs_background": "light"
     },
     "output_type": "display_data"
    }
   ],
   "source": [
    "tmap775 = tmap_model.get_coupling(7,7.5)\n",
    "\n",
    "fig, axs = plt.subplots(1, 2, sharey=True)\n",
    "\n",
    "n_bins = 10\n",
    "axs[0].hist(tmap775.X.sum(axis=0), bins=n_bins) # column sums\n",
    "axs[1].hist(tmap775.X.sum(axis=1), bins=n_bins) # row sums"
   ]
  }
 ],
 "metadata": {
  "colab": {
   "name": "wot-3.ipynb",
   "provenance": [],
   "version": "0.3.2"
  },
  "kernelspec": {
   "display_name": "Python 3",
   "language": "python",
   "name": "python3"
  },
  "language_info": {
   "codemirror_mode": {
    "name": "ipython",
    "version": 3
   },
   "file_extension": ".py",
   "mimetype": "text/x-python",
   "name": "python",
   "nbconvert_exporter": "python",
   "pygments_lexer": "ipython3",
   "version": "3.7.3"
  }
 },
 "nbformat": 4,
 "nbformat_minor": 2
}
