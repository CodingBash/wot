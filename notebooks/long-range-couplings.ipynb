{
  "cells": [
    {
      "cell_type": "code",
      "execution_count": null,
      "metadata": {
        "colab": {},
        "colab_type": "code",
        "id": "feb7MpFF4hKl",
        "pycharm": {}
      },
      "outputs": [],
      "source": [
        "#!pip install -q wot"
      ]
    },
    {
      "cell_type": "code",
      "execution_count": null,
      "metadata": {
        "colab": {},
        "colab_type": "code",
        "id": "JvT_bLlR4hKq",
        "pycharm": {}
      },
      "outputs": [],
      "source": [
        "import wot.tmap"
      ]
    },
    {
      "cell_type": "code",
      "execution_count": null,
      "metadata": {
        "colab": {
          "base_uri": "https://localhost:8080/",
          "height": 34
        },
        "colab_type": "code",
        "id": "5lFF4FfhAexV",
        "outputId": "e5befe29-2896-45a2-ddc2-f37458648d5c",
        "pycharm": {}
      },
      "outputs": [
        {
          "name": "stdout",
          "output_type": "stream",
          "text": [
            "Days information missing for 14918 cells\n"
          ]
        }
      ],
      "source": "tmap_model \u003d wot.tmap.TransportMapModel.from_directory(\u0027tmaps/serum\u0027)\ntmap \u003d tmap_model.get_coupling(7, 8)"
    }
  ],
  "metadata": {
    "colab": {
      "name": "wot-3.ipynb",
      "provenance": [],
      "version": "0.3.2"
    },
    "kernelspec": {
      "display_name": "Python 3",
      "language": "python",
      "name": "python3"
    },
    "language_info": {
      "codemirror_mode": {
        "name": "ipython",
        "version": 3
      },
      "file_extension": ".py",
      "mimetype": "text/x-python",
      "name": "python",
      "nbconvert_exporter": "python",
      "pygments_lexer": "ipython3",
      "version": "3.6.8"
    }
  },
  "nbformat": 4,
  "nbformat_minor": 2
}