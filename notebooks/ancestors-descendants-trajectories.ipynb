{
 "cells": [
  {
   "cell_type": "markdown",
   "metadata": {},
   "source": []
  },
  {
   "cell_type": "code",
   "execution_count": 56,
   "metadata": {
    "pycharm": {}
   },
   "outputs": [],
   "source": [
    "### if you haven't yet installed wot, run the line below\n",
    "#!pip install -q wot\n",
    "\n",
    "import ipywidgets as widgets\n",
    "import numpy as np\n",
    "import pandas as pd\n",
    "from matplotlib import pyplot as plt\n",
    "\n",
    "import wot"
   ]
  },
  {
   "cell_type": "markdown",
   "metadata": {
    "pycharm": {}
   },
   "source": [
    "Load transport map model and cell sets"
   ]
  },
  {
   "cell_type": "code",
   "execution_count": 57,
   "metadata": {
    "pycharm": {}
   },
   "outputs": [],
   "source": [
    "tmap_model = wot.tmap.TransportMapModel.from_directory('tmaps/serum')\n",
    "cell_sets = wot.io.read_sets('data/cell_sets.gmt', as_dict=True)"
   ]
  },
  {
   "cell_type": "markdown",
   "metadata": {
    "pycharm": {}
   },
   "source": [
    "Convert cell sets indicating whether a cell at time t is in a cell set"
   ]
  },
  {
   "cell_type": "code",
   "execution_count": 58,
   "metadata": {
    "pycharm": {}
   },
   "outputs": [],
   "source": [
    "populations = tmap_model.population_from_cell_sets(cell_sets, at_time=18)"
   ]
  },
  {
   "cell_type": "markdown",
   "metadata": {
    "pycharm": {}
   },
   "source": [
    "Print cell set name and size"
   ]
  },
  {
   "cell_type": "code",
   "execution_count": 59,
   "metadata": {
    "pycharm": {}
   },
   "outputs": [
    {
     "name": "stdout",
     "output_type": "stream",
     "text": [
      "IPS, 412\n",
      "Stromal, 1239\n",
      "Neural, 819\n",
      "Epithelial, 503\n",
      "Epithelial_clust, 1013\n",
      "Trophoblast, 292\n",
      "OPC, 141\n",
      "Astrocyte, 112\n",
      "Neuron, 122\n",
      "RG_Gdf10, 144\n",
      "RG_Id3, 160\n",
      "RG_Neurog2, 21\n",
      "RG, 255\n",
      "OtherNeural, 390\n",
      "TrophoLarger, 1305\n"
     ]
    }
   ],
   "source": [
    "for pop in populations:\n",
    "    print('{}, {}'.format(pop.name, np.count_nonzero(pop.p)))"
   ]
  },
  {
   "cell_type": "markdown",
   "metadata": {
    "pycharm": {}
   },
   "source": [
    "Compute trajectories. Trajectory dataset has cells on rows and cell set populations on columns"
   ]
  },
  {
   "cell_type": "code",
   "execution_count": 60,
   "metadata": {
    "pycharm": {}
   },
   "outputs": [],
   "source": [
    "trajectory_ds = tmap_model.compute_trajectories(populations)"
   ]
  },
  {
   "cell_type": "markdown",
   "metadata": {
    "pycharm": {}
   },
   "source": [
    "Load embedding coordinates"
   ]
  },
  {
   "cell_type": "code",
   "execution_count": 61,
   "metadata": {
    "pycharm": {}
   },
   "outputs": [],
   "source": [
    "coord_df = pd.read_csv('data/fle_coords.txt', sep='\\t', index_col=0)\n",
    "nbins = 500\n",
    "xrange = coord_df['x'].min(), coord_df['x'].max()\n",
    "yrange = coord_df['y'].min(), coord_df['y'].max()\n",
    "coord_df['x'] = np.floor(\n",
    "    np.interp(coord_df['x'], [xrange[0], xrange[1]], [0, nbins - 1])).astype(int)\n",
    "coord_df['y'] = np.floor(\n",
    "    np.interp(coord_df['y'], [yrange[0], yrange[1]], [0, nbins - 1])).astype(int)\n",
    "trajectory_ds.obs = trajectory_ds.obs.join(coord_df)"
   ]
  },
  {
   "cell_type": "markdown",
   "metadata": {
    "pycharm": {}
   },
   "source": [
    "Visualize trajectories"
   ]
  },
  {
   "cell_type": "code",
   "execution_count": 62,
   "metadata": {
    "pycharm": {}
   },
   "outputs": [
    {
     "data": {
      "application/vnd.jupyter.widget-view+json": {
       "model_id": "106e1f8009a745fe88982272ddfbcd6b",
       "version_major": 2,
       "version_minor": 0
      },
      "text/plain": [
       "interactive(children=(Dropdown(description='Trajectory:', options=('IPS', 'Stromal', 'Neural', 'Epithelial', '…"
      ]
     },
     "metadata": {},
     "output_type": "display_data"
    },
    {
     "data": {
      "text/plain": [
       "<function __main__.update_trajectory_vis(name)>"
      ]
     },
     "execution_count": 62,
     "metadata": {},
     "output_type": "execute_result"
    }
   ],
   "source": [
    "trajectory_dropdown = widgets.Dropdown(\n",
    "    options=trajectory_ds.var.index,\n",
    "    description='Trajectory:'\n",
    ")\n",
    "\n",
    "def update_trajectory_vis(name):\n",
    "    figure = plt.figure(figsize=(10, 10))\n",
    "    plt.axis('off')\n",
    "    plt.tight_layout()\n",
    "    plt.title(name)\n",
    "    plt.scatter(coord_df['x'], coord_df['y'], c='#f0f0f0',\n",
    "                   s=4, marker=',', edgecolors='none', alpha=0.8)\n",
    "    binned_df = trajectory_ds.obs.copy()\n",
    "    binned_df['values'] = trajectory_ds[:, name].X\n",
    "    binned_df = binned_df.groupby(['x', 'y'], as_index=False).sum()\n",
    "    plt.scatter(binned_df['x'], binned_df['y'], c=binned_df['values'],\n",
    "                   s=6, marker=',', edgecolors='none', vmax=0.01)\n",
    "    plt.colorbar().ax.set_title('Trajectory')\n",
    "\n",
    "widgets.interact(update_trajectory_vis, name=trajectory_dropdown)"
   ]
  },
  {
   "cell_type": "markdown",
   "metadata": {
    "pycharm": {}
   },
   "source": [
    "# Ancestor Census"
   ]
  },
  {
   "cell_type": "code",
   "execution_count": null,
   "metadata": {},
   "outputs": [],
   "source": []
  },
  {
   "cell_type": "code",
   "execution_count": null,
   "metadata": {},
   "outputs": [],
   "source": []
  },
  {
   "cell_type": "markdown",
   "metadata": {},
   "source": [
    "# Shared Ancestry"
   ]
  },
  {
   "cell_type": "code",
   "execution_count": null,
   "metadata": {},
   "outputs": [],
   "source": []
  },
  {
   "cell_type": "code",
   "execution_count": null,
   "metadata": {},
   "outputs": [],
   "source": []
  }
 ],
 "metadata": {
  "kernelspec": {
   "display_name": "Python 3",
   "language": "python",
   "name": "python3"
  },
  "language_info": {
   "codemirror_mode": {
    "name": "ipython",
    "version": 3
   },
   "file_extension": ".py",
   "mimetype": "text/x-python",
   "name": "python",
   "nbconvert_exporter": "python",
   "pygments_lexer": "ipython3",
   "version": "3.6.4"
  }
 },
 "nbformat": 4,
 "nbformat_minor": 2
}
