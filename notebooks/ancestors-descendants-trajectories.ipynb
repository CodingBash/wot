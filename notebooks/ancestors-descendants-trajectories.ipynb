{
 "cells": [
  {
   "cell_type": "code",
   "execution_count": 2,
   "metadata": {},
   "outputs": [],
   "source": [
    "#!pip install -q wot"
   ]
  },
  {
   "cell_type": "code",
   "execution_count": 2,
   "metadata": {},
   "outputs": [],
   "source": [
    "import numpy as np\n",
    "import pandas as pd\n",
    "from matplotlib import pyplot as plt\n",
    "import ipywidgets as widgets\n",
    "import wot"
   ]
  },
  {
   "cell_type": "markdown",
   "metadata": {},
   "source": [
    "Load transport map model and cell sets"
   ]
  },
  {
   "cell_type": "code",
   "execution_count": 3,
   "metadata": {},
   "outputs": [],
   "source": [
    "tmap_model = wot.tmap.TransportMapModel.from_directory('tmaps_paper/serum_tm_v3_')\n",
    "cell_sets = wot.io.read_sets('data/cell_sets.gmt', as_dict=True)"
   ]
  },
  {
   "cell_type": "markdown",
   "metadata": {},
   "source": [
    "Convert cell sets indicating whether a cell at time t is in a cell set"
   ]
  },
  {
   "cell_type": "code",
   "execution_count": 4,
   "metadata": {},
   "outputs": [],
   "source": [
    "populations = tmap_model.population_from_cell_sets(cell_sets, at_time=18)"
   ]
  },
  {
   "cell_type": "markdown",
   "metadata": {},
   "source": [
    "Print cell set name and size"
   ]
  },
  {
   "cell_type": "code",
   "execution_count": 5,
   "metadata": {},
   "outputs": [
    {
     "name": "stdout",
     "output_type": "stream",
     "text": [
      "IPS, 412\n",
      "Stromal, 1239\n",
      "Neural, 819\n",
      "Epithelial, 503\n",
      "Epithelial_clust, 1013\n",
      "Trophoblast, 292\n",
      "OPC, 141\n",
      "Astrocyte, 112\n",
      "Neuron, 122\n",
      "RG_Gdf10, 144\n",
      "RG_Id3, 160\n",
      "RG_Neurog2, 21\n",
      "RG, 255\n",
      "OtherNeural, 390\n",
      "TrophoLarger, 1305\n"
     ]
    }
   ],
   "source": [
    "for pop in populations:\n",
    "    print('{}, {}'.format(pop.name, np.count_nonzero(pop.p)))"
   ]
  },
  {
   "cell_type": "markdown",
   "metadata": {},
   "source": [
    "Compute trajectories. Trajectory dataset has cells on rows and cell set populations on columns"
   ]
  },
  {
   "cell_type": "code",
   "execution_count": 6,
   "metadata": {},
   "outputs": [
    {
     "name": "stdout",
     "output_type": "stream",
     "text": [
      "(15, 4068)\n",
      "(15, 3678)\n",
      "(15, 4645)\n",
      "(15, 3422)\n",
      "(15, 4851)\n",
      "(15, 3717)\n",
      "(15, 2723)\n",
      "(15, 3758)\n",
      "(15, 2034)\n",
      "(15, 2145)\n",
      "(15, 2253)\n",
      "(15, 2429)\n",
      "(15, 2164)\n",
      "(15, 2238)\n",
      "(15, 1941)\n",
      "(15, 2051)\n",
      "(15, 2266)\n",
      "(15, 2982)\n",
      "(15, 3088)\n",
      "(15, 3573)\n",
      "(15, 3829)\n",
      "(15, 3815)\n",
      "(15, 5061)\n",
      "(15, 6507)\n",
      "(15, 3111)\n",
      "(15, 8422)\n",
      "(15, 6550)\n",
      "(15, 7227)\n",
      "(15, 7127)\n",
      "(15, 8962)\n",
      "(15, 7355)\n",
      "(15, 6777)\n",
      "(15, 6734)\n",
      "(15, 6981)\n",
      "(15, 1956)\n",
      "(15, 3648)\n",
      "(15, 3449)\n",
      "(15, 4556)\n"
     ]
    }
   ],
   "source": [
    "trajectory_ds = tmap_model.compute_trajectories(populations)"
   ]
  },
  {
   "cell_type": "code",
   "execution_count": 11,
   "metadata": {},
   "outputs": [
    {
     "data": {
      "text/plain": [
       "ArrayView([0.99999994, 1.0000008 , 0.9999979 , 1.0000002 , 1.        ,\n",
       "           1.0000001 , 1.        , 1.0000002 , 0.9999998 , 0.9999975 ,\n",
       "           1.0000011 , 0.99999833, 1.0000014 , 0.9999996 , 1.0000018 ],\n",
       "          dtype=float32)"
      ]
     },
     "execution_count": 11,
     "metadata": {},
     "output_type": "execute_result"
    }
   ],
   "source": [
    "trajectory_ds[trajectory_ds.obs['day']==4.0].X.sum(axis=0)"
   ]
  },
  {
   "cell_type": "markdown",
   "metadata": {},
   "source": [
    "Load embedding coordinates"
   ]
  },
  {
   "cell_type": "code",
   "execution_count": 17,
   "metadata": {},
   "outputs": [],
   "source": [
    "coord_df = pd.read_csv('data/fle_coords.txt', sep='\\t', index_col=0)\n",
    "trajectory_ds.obs = trajectory_ds.obs.join(coord_df)"
   ]
  },
  {
   "cell_type": "markdown",
   "metadata": {},
   "source": [
    "Visualize trajectories"
   ]
  },
  {
   "cell_type": "code",
   "execution_count": 18,
   "metadata": {},
   "outputs": [
    {
     "data": {
      "application/vnd.jupyter.widget-view+json": {
       "model_id": "964026bd41db4bc89b1a7e0b88119716",
       "version_major": 2,
       "version_minor": 0
      },
      "text/html": [
       "<p>Failed to display Jupyter Widget of type <code>interactive</code>.</p>\n",
       "<p>\n",
       "  If you're reading this message in the Jupyter Notebook or JupyterLab Notebook, it may mean\n",
       "  that the widgets JavaScript is still loading. If this message persists, it\n",
       "  likely means that the widgets JavaScript library is either not installed or\n",
       "  not enabled. See the <a href=\"https://ipywidgets.readthedocs.io/en/stable/user_install.html\">Jupyter\n",
       "  Widgets Documentation</a> for setup instructions.\n",
       "</p>\n",
       "<p>\n",
       "  If you're reading this message in another frontend (for example, a static\n",
       "  rendering on GitHub or <a href=\"https://nbviewer.jupyter.org/\">NBViewer</a>),\n",
       "  it may mean that your frontend doesn't currently support widgets.\n",
       "</p>\n"
      ],
      "text/plain": [
       "interactive(children=(Dropdown(description='Trajectory:', options=('IPS', 'Stromal', 'Neural', 'Epithelial', 'Epithelial_clust', 'Trophoblast', 'OPC', 'Astrocyte', 'Neuron', 'RG_Gdf10', 'RG_Id3', 'RG_Neurog2', 'RG', 'OtherNeural', 'TrophoLarger'), value='IPS'), Output()), _dom_classes=('widget-interact',))"
      ]
     },
     "metadata": {},
     "output_type": "display_data"
    },
    {
     "data": {
      "text/plain": [
       "<function __main__.update_trajectory_vis>"
      ]
     },
     "execution_count": 18,
     "metadata": {},
     "output_type": "execute_result"
    }
   ],
   "source": [
    "trajectory_dropdown = widgets.Dropdown(\n",
    "    options=trajectory_ds.var.index,\n",
    "    description='Trajectory:'\n",
    ")\n",
    "\n",
    "def update_trajectory_vis(name):\n",
    "    figure = plt.figure(figsize=(10, 10))\n",
    "    plt.axis('off')\n",
    "    plt.tight_layout()\n",
    "    plt.title(name)\n",
    "    plt.scatter(coord_df['x'], coord_df['y'], c='#f0f0f0',\n",
    "                   s=4, marker=',', edgecolors='none', alpha=0.8)\n",
    "    plt.scatter(trajectory_ds.obs['x'], trajectory_ds.obs['y'], c=trajectory_ds[:, name].X,\n",
    "                   s=4, marker=',', edgecolors='none')\n",
    "    plt.colorbar().ax.set_title('Trajectory')\n",
    "\n",
    "widgets.interact(update_trajectory_vis, name=trajectory_dropdown)"
   ]
  },
  {
   "cell_type": "markdown",
   "metadata": {},
   "source": [
    "Compute cell fates"
   ]
  },
  {
   "cell_type": "code",
   "execution_count": 10,
   "metadata": {},
   "outputs": [],
   "source": [
    "fate_ds = tmap_model.compute_fates(populations)"
   ]
  },
  {
   "cell_type": "markdown",
   "metadata": {},
   "source": [
    "Visualize cell fates"
   ]
  },
  {
   "cell_type": "code",
   "execution_count": 11,
   "metadata": {},
   "outputs": [
    {
     "data": {
      "application/vnd.jupyter.widget-view+json": {
       "model_id": "85fbea20317e45dfbf09e3e9fdd34600",
       "version_major": 2,
       "version_minor": 0
      },
      "text/html": [
       "<p>Failed to display Jupyter Widget of type <code>interactive</code>.</p>\n",
       "<p>\n",
       "  If you're reading this message in the Jupyter Notebook or JupyterLab Notebook, it may mean\n",
       "  that the widgets JavaScript is still loading. If this message persists, it\n",
       "  likely means that the widgets JavaScript library is either not installed or\n",
       "  not enabled. See the <a href=\"https://ipywidgets.readthedocs.io/en/stable/user_install.html\">Jupyter\n",
       "  Widgets Documentation</a> for setup instructions.\n",
       "</p>\n",
       "<p>\n",
       "  If you're reading this message in another frontend (for example, a static\n",
       "  rendering on GitHub or <a href=\"https://nbviewer.jupyter.org/\">NBViewer</a>),\n",
       "  it may mean that your frontend doesn't currently support widgets.\n",
       "</p>\n"
      ],
      "text/plain": [
       "interactive(children=(Dropdown(description='Fate 1:', options=('IPS', 'Stromal', 'Neural', 'Epithelial', 'Epithelial_clust', 'Trophoblast', 'OPC', 'Astrocyte', 'Neuron', 'RG_Gdf10', 'RG_Id3', 'RG_Neurog2', 'RG', 'OtherNeural', 'TrophoLarger', 'Other'), value='IPS'), Dropdown(description='Fate 2:', index=1, options=('IPS', 'Stromal', 'Neural', 'Epithelial', 'Epithelial_clust', 'Trophoblast', 'OPC', 'Astrocyte', 'Neuron', 'RG_Gdf10', 'RG_Id3', 'RG_Neurog2', 'RG', 'OtherNeural', 'TrophoLarger', 'Other'), value='Stromal'), Output()), _dom_classes=('widget-interact',))"
      ]
     },
     "metadata": {},
     "output_type": "display_data"
    },
    {
     "data": {
      "text/plain": [
       "<function __main__.update_fate_vis>"
      ]
     },
     "execution_count": 11,
     "metadata": {},
     "output_type": "execute_result"
    }
   ],
   "source": [
    "fate_dropdown1 = widgets.Dropdown(\n",
    "    options=fate_ds.var.index,\n",
    "    description='Fate 1:'\n",
    ")\n",
    "fate_dropdown2 = widgets.Dropdown(\n",
    "    options=fate_ds.var.index,\n",
    "    description='Fate 2:',\n",
    "    value=fate_ds.var.index[1]\n",
    ")\n",
    "\n",
    "def update_fate_vis(name1, name2):\n",
    "    figure = plt.figure(figsize=(10, 10))\n",
    "    fate1 = fate_ds[:, name1].X\n",
    "    fate2 = fate_ds[:, name2].X\n",
    "    p = np.log(1e-9 + np.divide(fate1, fate2, out=np.zeros_like(fate1), where=fate2 != 0))\n",
    "    plt.scatter(fate_ds.obs['day'], p, s=4, marker=',')\n",
    "    plt.xlabel('Day')\n",
    "    plt.ylabel('Log Odds')\n",
    "    plt.title('{} vs. {}'.format(name1, name2))\n",
    "\n",
    "widgets.interact(update_fate_vis, name1=fate_dropdown1, name2=fate_dropdown2)"
   ]
  },
  {
   "cell_type": "code",
   "execution_count": null,
   "metadata": {},
   "outputs": [],
   "source": []
  },
  {
   "cell_type": "code",
   "execution_count": null,
   "metadata": {},
   "outputs": [],
   "source": []
  },
  {
   "cell_type": "code",
   "execution_count": null,
   "metadata": {},
   "outputs": [],
   "source": []
  }
 ],
 "metadata": {
  "kernelspec": {
   "display_name": "Python 3",
   "language": "python",
   "name": "python3"
  },
  "language_info": {
   "codemirror_mode": {
    "name": "ipython",
    "version": 3
   },
   "file_extension": ".py",
   "mimetype": "text/x-python",
   "name": "python",
   "nbconvert_exporter": "python",
   "pygments_lexer": "ipython3",
   "version": "3.6.4"
  }
 },
 "nbformat": 4,
 "nbformat_minor": 2
}
