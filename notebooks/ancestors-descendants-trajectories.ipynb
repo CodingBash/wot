{
 "cells": [
  {
   "cell_type": "code",
   "execution_count": 1,
   "metadata": {},
   "outputs": [],
   "source": [
    "import numpy as np\n",
    "import pandas as pd\n",
    "from matplotlib import pyplot as plt\n",
    "import ipywidgets as widgets\n",
    "import wot"
   ]
  },
  {
   "cell_type": "markdown",
   "metadata": {},
   "source": [
    "Load transport map model and cell sets"
   ]
  },
  {
   "cell_type": "code",
   "execution_count": 2,
   "metadata": {},
   "outputs": [],
   "source": [
    "tmap_model = wot.tmap.TransportMapModel.from_directory('tmaps/serum')\n",
    "cell_sets = wot.io.read_sets('data/cell_sets.gmt', as_dict=True)"
   ]
  },
  {
   "cell_type": "markdown",
   "metadata": {},
   "source": [
    "Convert cell sets indicating whether a cell at time t is in a cell set"
   ]
  },
  {
   "cell_type": "code",
   "execution_count": 3,
   "metadata": {},
   "outputs": [
    {
     "name": "stdout",
     "output_type": "stream",
     "text": [
      "IPS, 412/3799\n",
      "Stromal, 1239/3799\n",
      "Neural, 819/3799\n",
      "Epithelial, 503/3799\n",
      "Epithelial_clust, 1013/3799\n",
      "Trophoblast, 292/3799\n",
      "OPC, 141/3799\n",
      "Astrocyte, 112/3799\n",
      "Neuron, 122/3799\n",
      "RG_Gdf10, 144/3799\n",
      "RG_Id3, 160/3799\n",
      "RG_Neurog2, 21/3799\n",
      "RG, 255/3799\n",
      "OtherNeural, 390/3799\n",
      "TrophoLarger, 1305/3799\n"
     ]
    }
   ],
   "source": [
    "populations = tmap_model.population_from_cell_sets(cell_sets, at_time=18)\n",
    "# print cell size sizes\n",
    "for name in populations:\n",
    "    p = populations[name].p\n",
    "    print('{}, {}/{}'.format(name, np.count_nonzero(p), len(p)))"
   ]
  },
  {
   "cell_type": "markdown",
   "metadata": {},
   "source": [
    "Compute trajectories. Trajectory dataset has cells on rows and cell sets (trajectories) on columns"
   ]
  },
  {
   "cell_type": "code",
   "execution_count": 4,
   "metadata": {},
   "outputs": [],
   "source": [
    "trajectory_ds = tmap_model.compute_trajectories(populations)"
   ]
  },
  {
   "cell_type": "markdown",
   "metadata": {},
   "source": [
    "Load embedding coordinates"
   ]
  },
  {
   "cell_type": "code",
   "execution_count": 5,
   "metadata": {},
   "outputs": [],
   "source": [
    "coord_df = pd.read_csv('data/fle_coords.txt', sep='\\t', index_col=0)\n",
    "trajectory_ds.obs = trajectory_ds.obs.join(coord_df)"
   ]
  },
  {
   "cell_type": "markdown",
   "metadata": {},
   "source": [
    "Visualize trajectories"
   ]
  },
  {
   "cell_type": "code",
   "execution_count": 8,
   "metadata": {},
   "outputs": [
    {
     "data": {
      "application/vnd.jupyter.widget-view+json": {
       "model_id": "f68cd6b20ff545cfbc95b8d130bb7d54",
       "version_major": 2,
       "version_minor": 0
      },
      "text/plain": [
       "interactive(children=(Dropdown(description='Trajectories:', options=('IPS', 'Stromal', 'Neural', 'Epithelial',…"
      ]
     },
     "metadata": {},
     "output_type": "display_data"
    },
    {
     "data": {
      "text/plain": [
       "<function __main__.update_trajectory_vis(name)>"
      ]
     },
     "execution_count": 8,
     "metadata": {},
     "output_type": "execute_result"
    }
   ],
   "source": [
    "trajectory_dropdown = widgets.Dropdown(\n",
    "    options=trajectory_ds.var.index,\n",
    "    description='Trajectories:'\n",
    ")\n",
    "\n",
    "def update_trajectory_vis(name):\n",
    "    figure = plt.figure(figsize=(10, 10))\n",
    "    plt.axis('off')\n",
    "    plt.tight_layout()\n",
    "    plt.title(name)\n",
    "    plt.scatter(coord_df['x'], coord_df['y'], c='#f0f0f0',\n",
    "                   s=4, marker=',', edgecolors='none', alpha=0.8)\n",
    "    plt.scatter(trajectory_ds.obs['x'], trajectory_ds.obs['y'], c=trajectory_ds[:, name].X,\n",
    "                   s=4, marker=',', edgecolors='none')\n",
    "    plt.colorbar().ax.set_title('Trajectory')\n",
    "\n",
    "widgets.interact(update_trajectory_vis, name=trajectory_dropdown)"
   ]
  },
  {
   "cell_type": "markdown",
   "metadata": {},
   "source": [
    "Compute and visualize log odds"
   ]
  },
  {
   "cell_type": "code",
   "execution_count": 11,
   "metadata": {},
   "outputs": [
    {
     "data": {
      "application/vnd.jupyter.widget-view+json": {
       "model_id": "e4fc246e78c3458aa98edb60f2faca25",
       "version_major": 2,
       "version_minor": 0
      },
      "text/plain": [
       "interactive(children=(Dropdown(description='Trajectory 1:', options=('IPS', 'Stromal', 'Neural', 'Epithelial',…"
      ]
     },
     "metadata": {},
     "output_type": "display_data"
    },
    {
     "data": {
      "text/plain": [
       "<function __main__.update_log_odds_vis(name1, name2)>"
      ]
     },
     "execution_count": 11,
     "metadata": {},
     "output_type": "execute_result"
    }
   ],
   "source": [
    "trajectory_dropdown1 = widgets.Dropdown(\n",
    "    options=trajectory_ds.var.index,\n",
    "    description='Trajectory 1:'\n",
    ")\n",
    "trajectory_dropdown2 = widgets.Dropdown(\n",
    "    options=trajectory_ds.var.index,\n",
    "    description='Trajectory 2:'\n",
    ")\n",
    "\n",
    "def update_log_odds_vis(name1, name2):\n",
    "    figure = plt.figure(figsize=(10, 10))\n",
    "    plt.axis('off')\n",
    "    plt.tight_layout()\n",
    "    plt.title('Log odds, {} vs. {}'.format(name1, name2))\n",
    "    p = np.log((trajectory_ds[:, name1].X + 1e-9) / (trajectory_ds[:, name2].X + 1e-9))\n",
    "    plt.scatter(coord_df['x'], coord_df['y'], c='#f0f0f0',\n",
    "                   s=4, marker=',', edgecolors='none', alpha=0.8)\n",
    "    plt.scatter(trajectory_ds.obs['x'], trajectory_ds.obs['y'], c=p,\n",
    "                   s=4, marker=',', edgecolors='none')\n",
    "    plt.colorbar().ax.set_title('Log Odds')\n",
    "\n",
    "widgets.interact(update_log_odds_vis, name1=trajectory_dropdown1, name2=trajectory_dropdown2)"
   ]
  },
  {
   "cell_type": "code",
   "execution_count": null,
   "metadata": {},
   "outputs": [],
   "source": []
  }
 ],
 "metadata": {
  "kernelspec": {
   "display_name": "Python 3",
   "language": "python",
   "name": "python3"
  },
  "language_info": {
   "codemirror_mode": {
    "name": "ipython",
    "version": 3
   },
   "file_extension": ".py",
   "mimetype": "text/x-python",
   "name": "python",
   "nbconvert_exporter": "python",
   "pygments_lexer": "ipython3",
   "version": "3.6.8"
  }
 },
 "nbformat": 4,
 "nbformat_minor": 2
}
