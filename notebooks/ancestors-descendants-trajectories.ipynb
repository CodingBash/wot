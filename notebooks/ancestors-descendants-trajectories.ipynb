{
  "cells": [
    {
      "cell_type": "code",
      "execution_count": 55,
      "metadata": {
        "pycharm": {}
      },
      "outputs": [],
      "source": [
        "#!pip install -q wot"
      ]
    },
    {
      "cell_type": "code",
      "execution_count": 56,
      "metadata": {
        "pycharm": {}
      },
      "outputs": [],
      "source": "import ipywidgets as widgets\nimport numpy as np\nimport pandas as pd\nfrom matplotlib import pyplot as plt\n\nimport wot"
    },
    {
      "cell_type": "markdown",
      "metadata": {
        "pycharm": {}
      },
      "source": [
        "Load transport map model and cell sets"
      ]
    },
    {
      "cell_type": "code",
      "execution_count": 57,
      "metadata": {
        "pycharm": {}
      },
      "outputs": [],
      "source": [
        "tmap_model \u003d wot.tmap.TransportMapModel.from_directory(\u0027tmaps/serum\u0027)\n",
        "cell_sets \u003d wot.io.read_sets(\u0027data/cell_sets.gmt\u0027, as_dict\u003dTrue)"
      ]
    },
    {
      "cell_type": "markdown",
      "metadata": {
        "pycharm": {}
      },
      "source": [
        "Convert cell sets indicating whether a cell at time t is in a cell set"
      ]
    },
    {
      "cell_type": "code",
      "execution_count": 58,
      "metadata": {
        "pycharm": {}
      },
      "outputs": [],
      "source": [
        "populations \u003d tmap_model.population_from_cell_sets(cell_sets, at_time\u003d18)"
      ]
    },
    {
      "cell_type": "markdown",
      "metadata": {
        "pycharm": {}
      },
      "source": [
        "Print cell set name and size"
      ]
    },
    {
      "cell_type": "code",
      "execution_count": 59,
      "metadata": {
        "pycharm": {}
      },
      "outputs": [
        {
          "name": "stdout",
          "output_type": "stream",
          "text": [
            "IPS, 412\n",
            "Stromal, 1239\n",
            "Neural, 819\n",
            "Epithelial, 503\n",
            "Epithelial_clust, 1013\n",
            "Trophoblast, 292\n",
            "OPC, 141\n",
            "Astrocyte, 112\n",
            "Neuron, 122\n",
            "RG_Gdf10, 144\n",
            "RG_Id3, 160\n",
            "RG_Neurog2, 21\n",
            "RG, 255\n",
            "OtherNeural, 390\n",
            "TrophoLarger, 1305\n"
          ]
        }
      ],
      "source": [
        "for pop in populations:\n",
        "    print(\u0027{}, {}\u0027.format(pop.name, np.count_nonzero(pop.p)))"
      ]
    },
    {
      "cell_type": "markdown",
      "metadata": {
        "pycharm": {}
      },
      "source": [
        "Compute trajectories. Trajectory dataset has cells on rows and cell set populations on columns"
      ]
    },
    {
      "cell_type": "code",
      "execution_count": 60,
      "metadata": {
        "pycharm": {}
      },
      "outputs": [],
      "source": [
        "trajectory_ds \u003d tmap_model.compute_trajectories(populations)"
      ]
    },
    {
      "cell_type": "markdown",
      "metadata": {
        "pycharm": {}
      },
      "source": [
        "Load embedding coordinates"
      ]
    },
    {
      "cell_type": "code",
      "execution_count": 61,
      "metadata": {
        "pycharm": {}
      },
      "outputs": [],
      "source": [
        "coord_df \u003d pd.read_csv(\u0027data/fle_coords.txt\u0027, sep\u003d\u0027\\t\u0027, index_col\u003d0)\n",
        "nbins \u003d 500\n",
        "xrange \u003d coord_df[\u0027x\u0027].min(), coord_df[\u0027x\u0027].max()\n",
        "yrange \u003d coord_df[\u0027y\u0027].min(), coord_df[\u0027y\u0027].max()\n",
        "coord_df[\u0027x\u0027] \u003d np.floor(\n",
        "    np.interp(coord_df[\u0027x\u0027], [xrange[0], xrange[1]], [0, nbins - 1])).astype(int)\n",
        "coord_df[\u0027y\u0027] \u003d np.floor(\n",
        "    np.interp(coord_df[\u0027y\u0027], [yrange[0], yrange[1]], [0, nbins - 1])).astype(int)\n",
        "trajectory_ds.obs \u003d trajectory_ds.obs.join(coord_df)"
      ]
    },
    {
      "cell_type": "markdown",
      "metadata": {
        "pycharm": {}
      },
      "source": [
        "Visualize trajectories"
      ]
    },
    {
      "cell_type": "code",
      "execution_count": 62,
      "metadata": {
        "pycharm": {}
      },
      "outputs": [
        {
          "data": {
            "application/vnd.jupyter.widget-view+json": {
              "model_id": "106e1f8009a745fe88982272ddfbcd6b",
              "version_major": 2,
              "version_minor": 0
            },
            "text/plain": [
              "interactive(children\u003d(Dropdown(description\u003d\u0027Trajectory:\u0027, options\u003d(\u0027IPS\u0027, \u0027Stromal\u0027, \u0027Neural\u0027, \u0027Epithelial\u0027, \u0027…"
            ]
          },
          "metadata": {},
          "output_type": "display_data"
        },
        {
          "data": {
            "text/plain": [
              "\u003cfunction __main__.update_trajectory_vis(name)\u003e"
            ]
          },
          "execution_count": 62,
          "metadata": {},
          "output_type": "execute_result"
        }
      ],
      "source": [
        "trajectory_dropdown \u003d widgets.Dropdown(\n",
        "    options\u003dtrajectory_ds.var.index,\n",
        "    description\u003d\u0027Trajectory:\u0027\n",
        ")\n",
        "\n",
        "def update_trajectory_vis(name):\n",
        "    figure \u003d plt.figure(figsize\u003d(10, 10))\n",
        "    plt.axis(\u0027off\u0027)\n",
        "    plt.tight_layout()\n",
        "    plt.title(name)\n",
        "    plt.scatter(coord_df[\u0027x\u0027], coord_df[\u0027y\u0027], c\u003d\u0027#f0f0f0\u0027,\n",
        "                   s\u003d4, marker\u003d\u0027,\u0027, edgecolors\u003d\u0027none\u0027, alpha\u003d0.8)\n",
        "    binned_df \u003d trajectory_ds.obs.copy()\n",
        "    binned_df[\u0027values\u0027] \u003d trajectory_ds[:, name].X\n",
        "    binned_df \u003d binned_df.groupby([\u0027x\u0027, \u0027y\u0027], as_index\u003dFalse).sum()\n",
        "    plt.scatter(binned_df[\u0027x\u0027], binned_df[\u0027y\u0027], c\u003dbinned_df[\u0027values\u0027],\n",
        "                   s\u003d6, marker\u003d\u0027,\u0027, edgecolors\u003d\u0027none\u0027, vmax\u003d0.01)\n",
        "    plt.colorbar().ax.set_title(\u0027Trajectory\u0027)\n",
        "\n",
        "widgets.interact(update_trajectory_vis, name\u003dtrajectory_dropdown)"
      ]
    },
    {
      "cell_type": "markdown",
      "metadata": {
        "pycharm": {}
      },
      "source": [
        "Compute cell fates"
      ]
    },
    {
      "cell_type": "code",
      "execution_count": 63,
      "metadata": {
        "pycharm": {}
      },
      "outputs": [],
      "source": [
        "fate_ds \u003d tmap_model.compute_fates(populations)"
      ]
    },
    {
      "cell_type": "markdown",
      "metadata": {
        "pycharm": {}
      },
      "source": [
        "Visualize cell fates"
      ]
    },
    {
      "cell_type": "code",
      "execution_count": 64,
      "metadata": {
        "pycharm": {}
      },
      "outputs": [
        {
          "data": {
            "application/vnd.jupyter.widget-view+json": {
              "model_id": "307bc15e7f7f477fa3a896041ef79c7c",
              "version_major": 2,
              "version_minor": 0
            },
            "text/plain": [
              "interactive(children\u003d(Dropdown(description\u003d\u0027Fate 1:\u0027, options\u003d(\u0027IPS\u0027, \u0027Stromal\u0027, \u0027Neural\u0027, \u0027Epithelial\u0027, \u0027Epit…"
            ]
          },
          "metadata": {},
          "output_type": "display_data"
        },
        {
          "data": {
            "text/plain": [
              "\u003cfunction __main__.update_fate_vis(name1, name2)\u003e"
            ]
          },
          "execution_count": 64,
          "metadata": {},
          "output_type": "execute_result"
        }
      ],
      "source": [
        "fate_dropdown1 \u003d widgets.Dropdown(\n",
        "    options\u003dfate_ds.var.index,\n",
        "    description\u003d\u0027Fate 1:\u0027\n",
        ")\n",
        "fate_dropdown2 \u003d widgets.Dropdown(\n",
        "    options\u003dfate_ds.var.index,\n",
        "    description\u003d\u0027Fate 2:\u0027,\n",
        "    value\u003dfate_ds.var.index[1]\n",
        ")\n",
        "\n",
        "def update_fate_vis(name1, name2):\n",
        "    figure \u003d plt.figure(figsize\u003d(10, 10))\n",
        "    fate1 \u003d fate_ds[:, name1].X\n",
        "    fate2 \u003d fate_ds[:, name2].X\n",
        "    p \u003d np.log(1e-9 + np.divide(fate1, fate2, out\u003dnp.zeros_like(fate1), where\u003dfate2 !\u003d 0))\n",
        "    plt.scatter(fate_ds.obs[\u0027day\u0027], p, s\u003d4, marker\u003d\u0027,\u0027)\n",
        "    plt.xlabel(\u0027Day\u0027)\n",
        "    plt.ylabel(\u0027Log Odds\u0027)\n",
        "    plt.title(\u0027{} vs. {}\u0027.format(name1, name2))\n",
        "\n",
        "widgets.interact(update_fate_vis, name1\u003dfate_dropdown1, name2\u003dfate_dropdown2)"
      ]
    }
  ],
  "metadata": {
    "kernelspec": {
      "display_name": "Python 3",
      "language": "python",
      "name": "python3"
    },
    "language_info": {
      "codemirror_mode": {
        "name": "ipython",
        "version": 3
      },
      "file_extension": ".py",
      "mimetype": "text/x-python",
      "name": "python",
      "nbconvert_exporter": "python",
      "pygments_lexer": "ipython3",
      "version": "3.7.3"
    }
  },
  "nbformat": 4,
  "nbformat_minor": 2
}