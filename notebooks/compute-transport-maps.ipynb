{
 "cells": [
  {
   "cell_type": "code",
   "execution_count": 1,
   "metadata": {},
   "outputs": [],
   "source": [
    "#!pip install -q wot"
   ]
  },
  {
   "cell_type": "markdown",
   "metadata": {
    "colab_type": "text",
    "id": "j1JdUgTXawEJ"
   },
   "source": [
    "Read in expression matrix, cell days, cell growth rates, and keep serum cells only"
   ]
  },
  {
   "cell_type": "code",
   "execution_count": 2,
   "metadata": {
    "colab": {},
    "colab_type": "code",
    "id": "OgHGRa2aIax6"
   },
   "outputs": [],
   "source": [
    "import wot.ot\n",
    "\n",
    "VAR_GENE_DS_PATH = 'data/ExprMatrix.var.genes.loom'\n",
    "GROWTH_SCORES_PATH = 'data/growth_gs_init.txt'\n",
    "CELL_DAYS_PATH = 'data/cell_days.txt'\n",
    "SERUM_CELL_IDS_PATH = 'data/serum_cell_ids.txt'\n",
    "\n",
    "adata = wot.io.read_dataset(VAR_GENE_DS_PATH, obs=[CELL_DAYS_PATH, GROWTH_SCORES_PATH], obs_filter=SERUM_CELL_IDS_PATH)"
   ]
  },
  {
   "cell_type": "code",
   "execution_count": 3,
   "metadata": {},
   "outputs": [
    {
     "data": {
      "text/plain": [
       "(175472, 1479)"
      ]
     },
     "execution_count": 3,
     "metadata": {},
     "output_type": "execute_result"
    }
   ],
   "source": [
    "adata.shape"
   ]
  },
  {
   "cell_type": "markdown",
   "metadata": {
    "colab_type": "text",
    "id": "eXxmqmQua1I0"
   },
   "source": [
    "Initialize OT model"
   ]
  },
  {
   "cell_type": "code",
   "execution_count": 8,
   "metadata": {
    "colab": {
     "base_uri": "https://localhost:8080/",
     "height": 34
    },
    "colab_type": "code",
    "executionInfo": {
     "elapsed": 1558,
     "status": "ok",
     "timestamp": 1556313217324,
     "user": {
      "displayName": "Joshua Gould",
      "photoUrl": "",
      "userId": "09978885733763067346"
     },
     "user_tz": 240
    },
    "id": "YKuGivoIca9G",
    "outputId": "c0639c77-d5ed-4e9e-9130-b994bfad5e9c"
   },
   "outputs": [],
   "source": [
    "ot_model = wot.ot.OTModel(adata, tmap_out='tmaps/serum') "
   ]
  },
  {
   "cell_type": "markdown",
   "metadata": {},
   "source": [
    "Compute a single transport map"
   ]
  },
  {
   "cell_type": "code",
   "execution_count": null,
   "metadata": {},
   "outputs": [],
   "source": [
    "tmap_adata = ot_model.compute_transport_map(7,7.5)\n",
    "tmap_adata.shape"
   ]
  },
  {
   "cell_type": "markdown",
   "metadata": {},
   "source": [
    "The object tmap_adata is an annotated transport matrix. \n",
    "The actual transport matrix is tmap_adata.X\n",
    "\n",
    "tmap_adata.obs encodes the cell barcodes at time t0 and tmap_adata.var encodes the cell barcodes at time t1."
   ]
  },
  {
   "cell_type": "markdown",
   "metadata": {},
   "source": [
    "Compute another transport map from day 7.5 to 8"
   ]
  },
  {
   "cell_type": "code",
   "execution_count": 6,
   "metadata": {},
   "outputs": [],
   "source": [
    "tmap_adata = ot_model.compute_transport_map(7.5, 8)"
   ]
  },
  {
   "cell_type": "markdown",
   "metadata": {
    "colab": {
     "base_uri": "https://localhost:8080/",
     "height": 34
    },
    "colab_type": "code",
    "executionInfo": {
     "elapsed": 545,
     "status": "ok",
     "timestamp": 1556313222255,
     "user": {
      "displayName": "Joshua Gould",
      "photoUrl": "",
      "userId": "09978885733763067346"
     },
     "user_tz": 240
    },
    "id": "P-ZQVITQe9m-",
    "outputId": "a864cea1-48cd-468b-b9ac-845724230979"
   },
   "source": [
    "Compute all transport maps"
   ]
  },
  {
   "cell_type": "code",
   "execution_count": 7,
   "metadata": {
    "colab": {
     "base_uri": "https://localhost:8080/",
     "height": 164
    },
    "colab_type": "code",
    "executionInfo": {
     "elapsed": 370,
     "status": "error",
     "timestamp": 1556369739325,
     "user": {
      "displayName": "Joshua Gould",
      "photoUrl": "",
      "userId": "09978885733763067346"
     },
     "user_tz": 240
    },
    "id": "5lFF4FfhAexV",
    "outputId": "2c0fc345-a952-4619-fe70-8a5dcc1a7538"
   },
   "outputs": [],
   "source": [
    "#ot_model.compute_all_transport_maps()"
   ]
  }
 ],
 "metadata": {
  "colab": {
   "name": "wot-2.ipynb",
   "provenance": [],
   "version": "0.3.2"
  },
  "kernelspec": {
   "display_name": "Python 3",
   "language": "python",
   "name": "python3"
  },
  "language_info": {
   "codemirror_mode": {
    "name": "ipython",
    "version": 3
   },
   "file_extension": ".py",
   "mimetype": "text/x-python",
   "name": "python",
   "nbconvert_exporter": "python",
   "pygments_lexer": "ipython3",
   "version": "3.6.8"
  }
 },
 "nbformat": 4,
 "nbformat_minor": 2
}
