{
  "cells": [
    {
      "cell_type": "code",
      "execution_count": 1,
      "metadata": {
        "pycharm": {}
      },
      "outputs": [],
      "source": [
        "#!pip install -q wot"
      ]
    },
    {
      "cell_type": "code",
      "execution_count": 11,
      "metadata": {
        "pycharm": {}
      },
      "outputs": [],
      "source": "import matplotlib.pyplot as plt\nimport numpy as np\nimport pandas as pd\n\nimport wot"
    },
    {
      "cell_type": "markdown",
      "metadata": {
        "pycharm": {}
      },
      "source": [
        "# Estimate cell growth rates\n",
        "Before computing transport maps, we first form an initial estimate of the cell growth rate function $g(x)$. We do this using signatures of proliferation and apoptosis computed in Notebook 1. \n",
        "Examining the histograms of these signatures reveals a bimodal distribution in proliferation rates."
      ]
    },
    {
      "cell_type": "code",
      "execution_count": 15,
      "metadata": {
        "pycharm": {}
      },
      "outputs": [
        {
          "data": {
            "text/plain": [
              "(array([6.8000e+01, 7.6000e+01, 2.8000e+02, 2.6240e+03, 1.3738e+04,\n",
              "        3.6521e+04, 5.7982e+04, 5.6723e+04, 3.7099e+04, 1.9997e+04,\n",
              "        1.1403e+04, 6.7720e+03, 3.9900e+03, 2.2060e+03, 1.0530e+03,\n",
              "        4.2600e+02, 1.6000e+02, 5.6000e+01, 2.1000e+01, 8.0000e+00]),\n",
              " array([-0.619866  , -0.53831304, -0.45676007, -0.3752071 , -0.29365414,\n",
              "        -0.21210118, -0.13054821, -0.04899524,  0.03255772,  0.11411068,\n",
              "         0.19566365,  0.27721662,  0.35876958,  0.44032255,  0.52187551,\n",
              "         0.60342848,  0.68498144,  0.76653441,  0.84808737,  0.92964033,\n",
              "         1.0111933 ]),\n",
              " \u003ca list of 20 Patch objects\u003e)"
            ]
          },
          "execution_count": 15,
          "metadata": {},
          "output_type": "execute_result"
        },
        {
          "data": {
            "image/png": "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\u003d\u003d\n",
            "text/plain": [
              "\u003cFigure size 432x288 with 2 Axes\u003e"
            ]
          },
          "metadata": {
            "needs_background": "light"
          },
          "output_type": "display_data"
        }
      ],
      "source": [
        "# load proliferation and apoptosis scores\n",
        "gene_set_scores \u003d pd.read_csv(\u0027gene_set_scores.csv\u0027, index_col\u003d0)\n",
        "proliferation\u003dgene_set_scores[\u0027Cell.cycle\u0027]\n",
        "apoptosis \u003d gene_set_scores[\u0027Apoptosis\u0027]\n",
        "\n",
        "# plot histogram of proliferation and apoptosis\n",
        "fig, axs \u003d plt.subplots(1, 2, sharey\u003dTrue)\n",
        "n_bins \u003d 20\n",
        "axs[0].hist(proliferation, bins\u003dn_bins)\n",
        "axs[1].hist(apoptosis, bins\u003dn_bins)"
      ]
    },
    {
      "cell_type": "markdown",
      "metadata": {
        "pycharm": {}
      },
      "source": [
        "We apply a logistic function to transform these two peaks into biologically plausible vaules, in terms of  where the most proliferative cells double every 9 hours, and the least proliferative cells double every 60 hours. "
      ]
    },
    {
      "cell_type": "code",
      "execution_count": 14,
      "metadata": {
        "pycharm": {}
      },
      "outputs": [],
      "source": [
        "# apply logistic function to transform to birth rate and death rate\n",
        "\n",
        "def gen_logistic(p, beta_max, beta_min, pmax, pmin, center, width):\n",
        "    return beta_min + logistic(p, L\u003dbeta_max - beta_min, k\u003d4 / width, x0\u003dcenter)\n",
        "\n",
        "\n",
        "def beta(p, beta_max\u003d1.7, beta_min\u003d0.3, pmax\u003d1.0, pmin\u003d-0.5, center\u003d0.25):\n",
        "    return gen_logistic(p, beta_max, beta_min, pmax, pmin, center, width\u003d0.5)\n",
        "\n",
        "\n",
        "def delta(a, delta_max\u003d1.7, delta_min\u003d0.3, amax\u003d0.5, amin\u003d-0.4, center\u003d0.1):\n",
        "    return gen_logistic(a, delta_max, delta_min, amax, amin, center,\n",
        "                          width\u003d0.2)\n",
        "\n",
        "def logistic(x, L\u003d1, k\u003d1, x0\u003d0):\n",
        "    f \u003d L / (1 + np.exp(-k * (x - x0)))\n",
        "    return f\n",
        "\n",
        "birth \u003d beta(proliferation)\n",
        "death \u003d delta(apoptosis)\n",
        "\n",
        "# growth rate is given by \n",
        "# g \u003d exp(birth - death)\n",
        "\n",
        "gr \u003d np.exp(birth-death)\n",
        "pd.DataFrame(index\u003dgene_set_scores.index, data\u003d{\u0027cell_growth_rate\u0027:gr}).to_csv(\u0027cell_growth_rates.csv\u0027)"
      ]
    },
    {
      "cell_type": "markdown",
      "metadata": {
        "colab_type": "text",
        "id": "j1JdUgTXawEJ",
        "pycharm": {}
      },
      "source": [
        "# Load data for computing transport maps\n",
        "\n",
        "We now read in the expression matrix, cell days, initial cell growth rates. \n",
        "We apply a filter to compute transport maps for the serum time course. (Recall that the dataset includes two time-courses: 2i and serum). "
      ]
    },
    {
      "cell_type": "code",
      "execution_count": null,
      "metadata": {
        "colab": {},
        "colab_type": "code",
        "id": "OgHGRa2aIax6",
        "pycharm": {}
      },
      "outputs": [],
      "source": [
        "VAR_GENE_DS_PATH \u003d \u0027data/ExprMatrix.var.genes.loom\u0027\n",
        "GROWTH_SCORES_PATH \u003d \u0027data/growth_gs_init.txt\u0027\n",
        "CELL_DAYS_PATH \u003d \u0027data/cell_days.txt\u0027\n",
        "SERUM_CELL_IDS_PATH \u003d \u0027data/serum_cell_ids.txt\u0027\n",
        "\n",
        "adata \u003d wot.io.read_dataset(VAR_GENE_DS_PATH, obs\u003d[CELL_DAYS_PATH, GROWTH_SCORES_PATH], obs_filter\u003dSERUM_CELL_IDS_PATH)"
      ]
    },
    {
      "cell_type": "code",
      "execution_count": 2,
      "metadata": {
        "pycharm": {}
      },
      "outputs": [
        {
          "data": {
            "text/plain": [
              "(175472, 1479)"
            ]
          },
          "execution_count": 2,
          "metadata": {},
          "output_type": "execute_result"
        }
      ],
      "source": [
        "adata.shape"
      ]
    },
    {
      "cell_type": "markdown",
      "metadata": {
        "colab_type": "text",
        "id": "eXxmqmQua1I0",
        "pycharm": {}
      },
      "source": [
        "# Compute transport maps\n",
        "\n",
        "Initialize OT model"
      ]
    },
    {
      "cell_type": "code",
      "execution_count": 3,
      "metadata": {
        "colab": {
          "base_uri": "https://localhost:8080/",
          "height": 34
        },
        "colab_type": "code",
        "executionInfo": {
          "elapsed": 1558,
          "status": "ok",
          "timestamp": 1556313217324,
          "user": {
            "displayName": "Joshua Gould",
            "photoUrl": "",
            "userId": "09978885733763067346"
          },
          "user_tz": 240
        },
        "id": "YKuGivoIca9G",
        "outputId": "c0639c77-d5ed-4e9e-9130-b994bfad5e9c",
        "pycharm": {}
      },
      "outputs": [],
      "source": [
        "ot_model \u003d wot.ot.OTModel(adata, growth_iters\u003d3) "
      ]
    },
    {
      "cell_type": "markdown",
      "metadata": {
        "pycharm": {}
      },
      "source": [
        "Compute a single transport map from day 7 to 7.5"
      ]
    },
    {
      "cell_type": "code",
      "execution_count": 4,
      "metadata": {
        "pycharm": {}
      },
      "outputs": [],
      "source": [
        "tmap_adata \u003d ot_model.compute_transport_map(7,7.5)"
      ]
    },
    {
      "cell_type": "markdown",
      "metadata": {
        "pycharm": {}
      },
      "source": [
        "The object tmap_adata is an annotated transport matrix. \n",
        "The actual transport matrix is tmap_adata.X\n",
        "\n",
        "tmap_adata.obs encodes the cell barcodes at time t0 and tmap_adata.var encodes the cell barcodes at time t1."
      ]
    },
    {
      "cell_type": "code",
      "execution_count": 5,
      "metadata": {
        "collapsed": true,
        "pycharm": {}
      },
      "outputs": [
        {
          "data": {
            "text/html": [
              "\u003cdiv\u003e\n",
              "\u003cstyle scoped\u003e\n",
              "    .dataframe tbody tr th:only-of-type {\n",
              "        vertical-align: middle;\n",
              "    }\n",
              "\n",
              "    .dataframe tbody tr th {\n",
              "        vertical-align: top;\n",
              "    }\n",
              "\n",
              "    .dataframe thead th {\n",
              "        text-align: right;\n",
              "    }\n",
              "\u003c/style\u003e\n",
              "\u003ctable border\u003d\"1\" class\u003d\"dataframe\"\u003e\n",
              "  \u003cthead\u003e\n",
              "    \u003ctr style\u003d\"text-align: right;\"\u003e\n",
              "      \u003cth\u003e\u003c/th\u003e\n",
              "      \u003cth\u003eg0\u003c/th\u003e\n",
              "      \u003cth\u003eg1\u003c/th\u003e\n",
              "      \u003cth\u003eg2\u003c/th\u003e\n",
              "      \u003cth\u003eg3\u003c/th\u003e\n",
              "    \u003c/tr\u003e\n",
              "    \u003ctr\u003e\n",
              "      \u003cth\u003eid\u003c/th\u003e\n",
              "      \u003cth\u003e\u003c/th\u003e\n",
              "      \u003cth\u003e\u003c/th\u003e\n",
              "      \u003cth\u003e\u003c/th\u003e\n",
              "      \u003cth\u003e\u003c/th\u003e\n",
              "    \u003c/tr\u003e\n",
              "  \u003c/thead\u003e\n",
              "  \u003ctbody\u003e\n",
              "    \u003ctr\u003e\n",
              "      \u003cth\u003eD7_Dox_C1_AAACCTGAGGAATCGC-1\u003c/th\u003e\n",
              "      \u003ctd\u003e1.501791\u003c/td\u003e\n",
              "      \u003ctd\u003e1.146697\u003c/td\u003e\n",
              "      \u003ctd\u003e0.898082\u003c/td\u003e\n",
              "      \u003ctd\u003e0.716976\u003c/td\u003e\n",
              "    \u003c/tr\u003e\n",
              "    \u003ctr\u003e\n",
              "      \u003cth\u003eD7_Dox_C1_AAACCTGAGTAGATGT-1\u003c/th\u003e\n",
              "      \u003ctd\u003e2.989438\u003c/td\u003e\n",
              "      \u003ctd\u003e2.519022\u003c/td\u003e\n",
              "      \u003ctd\u003e2.138183\u003c/td\u003e\n",
              "      \u003ctd\u003e1.831273\u003c/td\u003e\n",
              "    \u003c/tr\u003e\n",
              "    \u003ctr\u003e\n",
              "      \u003cth\u003eD7_Dox_C1_AAACCTGCAACCGCCA-1\u003c/th\u003e\n",
              "      \u003ctd\u003e1.699754\u003c/td\u003e\n",
              "      \u003ctd\u003e1.632620\u003c/td\u003e\n",
              "      \u003ctd\u003e1.551587\u003c/td\u003e\n",
              "      \u003ctd\u003e1.464757\u003c/td\u003e\n",
              "    \u003c/tr\u003e\n",
              "    \u003ctr\u003e\n",
              "      \u003cth\u003eD7_Dox_C1_AAACCTGCACTATCTT-1\u003c/th\u003e\n",
              "      \u003ctd\u003e3.079174\u003c/td\u003e\n",
              "      \u003ctd\u003e2.796191\u003c/td\u003e\n",
              "      \u003ctd\u003e2.522095\u003c/td\u003e\n",
              "      \u003ctd\u003e2.269748\u003c/td\u003e\n",
              "    \u003c/tr\u003e\n",
              "    \u003ctr\u003e\n",
              "      \u003cth\u003eD7_Dox_C1_AAACCTGCAGCCTGTG-1\u003c/th\u003e\n",
              "      \u003ctd\u003e1.014346\u003c/td\u003e\n",
              "      \u003ctd\u003e0.908840\u003c/td\u003e\n",
              "      \u003ctd\u003e0.807168\u003c/td\u003e\n",
              "      \u003ctd\u003e0.713982\u003c/td\u003e\n",
              "    \u003c/tr\u003e\n",
              "    \u003ctr\u003e\n",
              "      \u003cth\u003eD7_Dox_C1_AAACCTGCATATACGC-1\u003c/th\u003e\n",
              "      \u003ctd\u003e1.245687\u003c/td\u003e\n",
              "      \u003ctd\u003e1.212256\u003c/td\u003e\n",
              "      \u003ctd\u003e1.163713\u003c/td\u003e\n",
              "      \u003ctd\u003e1.107662\u003c/td\u003e\n",
              "    \u003c/tr\u003e\n",
              "    \u003ctr\u003e\n",
              "      \u003cth\u003eD7_Dox_C1_AAACCTGCATCCGTGG-1\u003c/th\u003e\n",
              "      \u003ctd\u003e1.100886\u003c/td\u003e\n",
              "      \u003ctd\u003e1.069409\u003c/td\u003e\n",
              "      \u003ctd\u003e1.025116\u003c/td\u003e\n",
              "      \u003ctd\u003e0.972374\u003c/td\u003e\n",
              "    \u003c/tr\u003e\n",
              "    \u003ctr\u003e\n",
              "      \u003cth\u003eD7_Dox_C1_AAACCTGTCGGAATCT-1\u003c/th\u003e\n",
              "      \u003ctd\u003e1.088761\u003c/td\u003e\n",
              "      \u003ctd\u003e1.155698\u003c/td\u003e\n",
              "      \u003ctd\u003e1.201569\u003c/td\u003e\n",
              "      \u003ctd\u003e1.231343\u003c/td\u003e\n",
              "    \u003c/tr\u003e\n",
              "    \u003ctr\u003e\n",
              "      \u003cth\u003eD7_Dox_C1_AAACGGGGTAGTACCT-1\u003c/th\u003e\n",
              "      \u003ctd\u003e0.416973\u003c/td\u003e\n",
              "      \u003ctd\u003e0.442949\u003c/td\u003e\n",
              "      \u003ctd\u003e0.462500\u003c/td\u003e\n",
              "      \u003ctd\u003e0.476866\u003c/td\u003e\n",
              "    \u003c/tr\u003e\n",
              "    \u003ctr\u003e\n",
              "      \u003cth\u003eD7_Dox_C1_AAACGGGTCTCTTATG-1\u003c/th\u003e\n",
              "      \u003ctd\u003e0.341686\u003c/td\u003e\n",
              "      \u003ctd\u003e0.277608\u003c/td\u003e\n",
              "      \u003ctd\u003e0.224474\u003c/td\u003e\n",
              "      \u003ctd\u003e0.181476\u003c/td\u003e\n",
              "    \u003c/tr\u003e\n",
              "    \u003ctr\u003e\n",
              "      \u003cth\u003eD7_Dox_C1_AAACGGGTCTGGGCCA-1\u003c/th\u003e\n",
              "      \u003ctd\u003e2.983100\u003c/td\u003e\n",
              "      \u003ctd\u003e2.292598\u003c/td\u003e\n",
              "      \u003ctd\u003e1.785999\u003c/td\u003e\n",
              "      \u003ctd\u003e1.410352\u003c/td\u003e\n",
              "    \u003c/tr\u003e\n",
              "    \u003ctr\u003e\n",
              "      \u003cth\u003eD7_Dox_C1_AAACGGGTCTGTCAAG-1\u003c/th\u003e\n",
              "      \u003ctd\u003e0.348649\u003c/td\u003e\n",
              "      \u003ctd\u003e0.392078\u003c/td\u003e\n",
              "      \u003ctd\u003e0.426581\u003c/td\u003e\n",
              "      \u003ctd\u003e0.450534\u003c/td\u003e\n",
              "    \u003c/tr\u003e\n",
              "    \u003ctr\u003e\n",
              "      \u003cth\u003eD7_Dox_C1_AAAGATGAGAGAGCTC-1\u003c/th\u003e\n",
              "      \u003ctd\u003e2.109219\u003c/td\u003e\n",
              "      \u003ctd\u003e1.767192\u003c/td\u003e\n",
              "      \u003ctd\u003e1.472703\u003c/td\u003e\n",
              "      \u003ctd\u003e1.228389\u003c/td\u003e\n",
              "    \u003c/tr\u003e\n",
              "    \u003ctr\u003e\n",
              "      \u003cth\u003eD7_Dox_C1_AAAGATGAGAGTACAT-1\u003c/th\u003e\n",
              "      \u003ctd\u003e0.928392\u003c/td\u003e\n",
              "      \u003ctd\u003e0.885167\u003c/td\u003e\n",
              "      \u003ctd\u003e0.837461\u003c/td\u003e\n",
              "      \u003ctd\u003e0.789756\u003c/td\u003e\n",
              "    \u003c/tr\u003e\n",
              "    \u003ctr\u003e\n",
              "      \u003cth\u003eD7_Dox_C1_AAAGATGAGATCCGAG-1\u003c/th\u003e\n",
              "      \u003ctd\u003e0.699303\u003c/td\u003e\n",
              "      \u003ctd\u003e0.789435\u003c/td\u003e\n",
              "      \u003ctd\u003e0.871979\u003c/td\u003e\n",
              "      \u003ctd\u003e0.943967\u003c/td\u003e\n",
              "    \u003c/tr\u003e\n",
              "    \u003ctr\u003e\n",
              "      \u003cth\u003eD7_Dox_C1_AAAGATGAGGGCACTA-1\u003c/th\u003e\n",
              "      \u003ctd\u003e1.740255\u003c/td\u003e\n",
              "      \u003ctd\u003e1.676229\u003c/td\u003e\n",
              "      \u003ctd\u003e1.611135\u003c/td\u003e\n",
              "      \u003ctd\u003e1.549377\u003c/td\u003e\n",
              "    \u003c/tr\u003e\n",
              "    \u003ctr\u003e\n",
              "      \u003cth\u003eD7_Dox_C1_AAAGATGCACTTAACG-1\u003c/th\u003e\n",
              "      \u003ctd\u003e1.622271\u003c/td\u003e\n",
              "      \u003ctd\u003e1.361643\u003c/td\u003e\n",
              "      \u003ctd\u003e1.140084\u003c/td\u003e\n",
              "      \u003ctd\u003e0.956149\u003c/td\u003e\n",
              "    \u003c/tr\u003e\n",
              "    \u003ctr\u003e\n",
              "      \u003cth\u003eD7_Dox_C1_AAAGATGGTCCCTTGT-1\u003c/th\u003e\n",
              "      \u003ctd\u003e3.252761\u003c/td\u003e\n",
              "      \u003ctd\u003e3.548845\u003c/td\u003e\n",
              "      \u003ctd\u003e3.805628\u003c/td\u003e\n",
              "      \u003ctd\u003e4.030937\u003c/td\u003e\n",
              "    \u003c/tr\u003e\n",
              "    \u003ctr\u003e\n",
              "      \u003cth\u003eD7_Dox_C1_AAAGATGTCCGCAAGC-1\u003c/th\u003e\n",
              "      \u003ctd\u003e0.317986\u003c/td\u003e\n",
              "      \u003ctd\u003e0.377701\u003c/td\u003e\n",
              "      \u003ctd\u003e0.433787\u003c/td\u003e\n",
              "      \u003ctd\u003e0.485193\u003c/td\u003e\n",
              "    \u003c/tr\u003e\n",
              "    \u003ctr\u003e\n",
              "      \u003cth\u003eD7_Dox_C1_AAAGATGTCGCGTTTC-1\u003c/th\u003e\n",
              "      \u003ctd\u003e1.352633\u003c/td\u003e\n",
              "      \u003ctd\u003e1.196338\u003c/td\u003e\n",
              "      \u003ctd\u003e1.053615\u003c/td\u003e\n",
              "      \u003ctd\u003e0.927263\u003c/td\u003e\n",
              "    \u003c/tr\u003e\n",
              "    \u003ctr\u003e\n",
              "      \u003cth\u003eD7_Dox_C1_AAAGATGTCGTGGACC-1\u003c/th\u003e\n",
              "      \u003ctd\u003e3.481195\u003c/td\u003e\n",
              "      \u003ctd\u003e2.950337\u003c/td\u003e\n",
              "      \u003ctd\u003e2.497365\u003c/td\u003e\n",
              "      \u003ctd\u003e2.120141\u003c/td\u003e\n",
              "    \u003c/tr\u003e\n",
              "    \u003ctr\u003e\n",
              "      \u003cth\u003eD7_Dox_C1_AAAGCAAAGAGTACCG-1\u003c/th\u003e\n",
              "      \u003ctd\u003e2.450444\u003c/td\u003e\n",
              "      \u003ctd\u003e1.616251\u003c/td\u003e\n",
              "      \u003ctd\u003e1.099438\u003c/td\u003e\n",
              "      \u003ctd\u003e0.768078\u003c/td\u003e\n",
              "    \u003c/tr\u003e\n",
              "    \u003ctr\u003e\n",
              "      \u003cth\u003eD7_Dox_C1_AAAGCAATCACTTATC-1\u003c/th\u003e\n",
              "      \u003ctd\u003e1.148097\u003c/td\u003e\n",
              "      \u003ctd\u003e1.220705\u003c/td\u003e\n",
              "      \u003ctd\u003e1.270183\u003c/td\u003e\n",
              "      \u003ctd\u003e1.302999\u003c/td\u003e\n",
              "    \u003c/tr\u003e\n",
              "    \u003ctr\u003e\n",
              "      \u003cth\u003eD7_Dox_C1_AAAGTAGAGAGTTGGC-1\u003c/th\u003e\n",
              "      \u003ctd\u003e1.882493\u003c/td\u003e\n",
              "      \u003ctd\u003e2.021924\u003c/td\u003e\n",
              "      \u003ctd\u003e2.150086\u003c/td\u003e\n",
              "      \u003ctd\u003e2.268986\u003c/td\u003e\n",
              "    \u003c/tr\u003e\n",
              "    \u003ctr\u003e\n",
              "      \u003cth\u003eD7_Dox_C1_AAAGTAGAGCTAACTC-1\u003c/th\u003e\n",
              "      \u003ctd\u003e1.613048\u003c/td\u003e\n",
              "      \u003ctd\u003e1.396769\u003c/td\u003e\n",
              "      \u003ctd\u003e1.205458\u003c/td\u003e\n",
              "      \u003ctd\u003e1.039746\u003c/td\u003e\n",
              "    \u003c/tr\u003e\n",
              "    \u003ctr\u003e\n",
              "      \u003cth\u003eD7_Dox_C1_AAAGTAGAGGAGTACC-1\u003c/th\u003e\n",
              "      \u003ctd\u003e0.680660\u003c/td\u003e\n",
              "      \u003ctd\u003e0.711520\u003c/td\u003e\n",
              "      \u003ctd\u003e0.726193\u003c/td\u003e\n",
              "      \u003ctd\u003e0.727842\u003c/td\u003e\n",
              "    \u003c/tr\u003e\n",
              "    \u003ctr\u003e\n",
              "      \u003cth\u003eD7_Dox_C1_AAAGTAGCAGTTTACG-1\u003c/th\u003e\n",
              "      \u003ctd\u003e2.822608\u003c/td\u003e\n",
              "      \u003ctd\u003e2.695532\u003c/td\u003e\n",
              "      \u003ctd\u003e2.534281\u003c/td\u003e\n",
              "      \u003ctd\u003e2.362066\u003c/td\u003e\n",
              "    \u003c/tr\u003e\n",
              "    \u003ctr\u003e\n",
              "      \u003cth\u003eD7_Dox_C1_AAAGTAGCATTAACCG-1\u003c/th\u003e\n",
              "      \u003ctd\u003e1.336279\u003c/td\u003e\n",
              "      \u003ctd\u003e1.019492\u003c/td\u003e\n",
              "      \u003ctd\u003e0.789496\u003c/td\u003e\n",
              "      \u003ctd\u003e0.619444\u003c/td\u003e\n",
              "    \u003c/tr\u003e\n",
              "    \u003ctr\u003e\n",
              "      \u003cth\u003eD7_Dox_C1_AAAGTAGGTACTCGCG-1\u003c/th\u003e\n",
              "      \u003ctd\u003e2.914406\u003c/td\u003e\n",
              "      \u003ctd\u003e2.886105\u003c/td\u003e\n",
              "      \u003ctd\u003e2.826708\u003c/td\u003e\n",
              "      \u003ctd\u003e2.749281\u003c/td\u003e\n",
              "    \u003c/tr\u003e\n",
              "    \u003ctr\u003e\n",
              "      \u003cth\u003eD7_Dox_C1_AAAGTAGTCTCGATGA-1\u003c/th\u003e\n",
              "      \u003ctd\u003e1.463811\u003c/td\u003e\n",
              "      \u003ctd\u003e1.531039\u003c/td\u003e\n",
              "      \u003ctd\u003e1.580501\u003c/td\u003e\n",
              "      \u003ctd\u003e1.616992\u003c/td\u003e\n",
              "    \u003c/tr\u003e\n",
              "    \u003ctr\u003e\n",
              "      \u003cth\u003e...\u003c/th\u003e\n",
              "      \u003ctd\u003e...\u003c/td\u003e\n",
              "      \u003ctd\u003e...\u003c/td\u003e\n",
              "      \u003ctd\u003e...\u003c/td\u003e\n",
              "      \u003ctd\u003e...\u003c/td\u003e\n",
              "    \u003c/tr\u003e\n",
              "    \u003ctr\u003e\n",
              "      \u003cth\u003eD7_Dox_C2_TTTATGCCAAACTGCT-1\u003c/th\u003e\n",
              "      \u003ctd\u003e0.545842\u003c/td\u003e\n",
              "      \u003ctd\u003e0.667988\u003c/td\u003e\n",
              "      \u003ctd\u003e0.792395\u003c/td\u003e\n",
              "      \u003ctd\u003e0.914132\u003c/td\u003e\n",
              "    \u003c/tr\u003e\n",
              "    \u003ctr\u003e\n",
              "      \u003cth\u003eD7_Dox_C2_TTTATGCCACATGACT-1\u003c/th\u003e\n",
              "      \u003ctd\u003e3.365656\u003c/td\u003e\n",
              "      \u003ctd\u003e3.098414\u003c/td\u003e\n",
              "      \u003ctd\u003e2.904644\u003c/td\u003e\n",
              "      \u003ctd\u003e2.749490\u003c/td\u003e\n",
              "    \u003c/tr\u003e\n",
              "    \u003ctr\u003e\n",
              "      \u003cth\u003eD7_Dox_C2_TTTATGCCATACTCTT-1\u003c/th\u003e\n",
              "      \u003ctd\u003e1.929566\u003c/td\u003e\n",
              "      \u003ctd\u003e1.734982\u003c/td\u003e\n",
              "      \u003ctd\u003e1.563485\u003c/td\u003e\n",
              "      \u003ctd\u003e1.412989\u003c/td\u003e\n",
              "    \u003c/tr\u003e\n",
              "    \u003ctr\u003e\n",
              "      \u003cth\u003eD7_Dox_C2_TTTATGCGTGGCCCTA-1\u003c/th\u003e\n",
              "      \u003ctd\u003e1.960004\u003c/td\u003e\n",
              "      \u003ctd\u003e2.111797\u003c/td\u003e\n",
              "      \u003ctd\u003e2.218935\u003c/td\u003e\n",
              "      \u003ctd\u003e2.291490\u003c/td\u003e\n",
              "    \u003c/tr\u003e\n",
              "    \u003ctr\u003e\n",
              "      \u003cth\u003eD7_Dox_C2_TTTATGCGTTTAAGCC-1\u003c/th\u003e\n",
              "      \u003ctd\u003e3.424917\u003c/td\u003e\n",
              "      \u003ctd\u003e2.773124\u003c/td\u003e\n",
              "      \u003ctd\u003e2.263544\u003c/td\u003e\n",
              "      \u003ctd\u003e1.862641\u003c/td\u003e\n",
              "    \u003c/tr\u003e\n",
              "    \u003ctr\u003e\n",
              "      \u003cth\u003eD7_Dox_C2_TTTATGCTCAATAAGG-1\u003c/th\u003e\n",
              "      \u003ctd\u003e0.649921\u003c/td\u003e\n",
              "      \u003ctd\u003e0.773876\u003c/td\u003e\n",
              "      \u003ctd\u003e0.892632\u003c/td\u003e\n",
              "      \u003ctd\u003e1.004224\u003c/td\u003e\n",
              "    \u003c/tr\u003e\n",
              "    \u003ctr\u003e\n",
              "      \u003cth\u003eD7_Dox_C2_TTTATGCTCATTATCC-1\u003c/th\u003e\n",
              "      \u003ctd\u003e3.675442\u003c/td\u003e\n",
              "      \u003ctd\u003e2.861435\u003c/td\u003e\n",
              "      \u003ctd\u003e2.260073\u003c/td\u003e\n",
              "      \u003ctd\u003e1.810857\u003c/td\u003e\n",
              "    \u003c/tr\u003e\n",
              "    \u003ctr\u003e\n",
              "      \u003cth\u003eD7_Dox_C2_TTTATGCTCCTTGACC-1\u003c/th\u003e\n",
              "      \u003ctd\u003e0.329347\u003c/td\u003e\n",
              "      \u003ctd\u003e0.430627\u003c/td\u003e\n",
              "      \u003ctd\u003e0.542610\u003c/td\u003e\n",
              "      \u003ctd\u003e0.660944\u003c/td\u003e\n",
              "    \u003c/tr\u003e\n",
              "    \u003ctr\u003e\n",
              "      \u003cth\u003eD7_Dox_C2_TTTATGCTCCTTTCTC-1\u003c/th\u003e\n",
              "      \u003ctd\u003e2.762255\u003c/td\u003e\n",
              "      \u003ctd\u003e2.353335\u003c/td\u003e\n",
              "      \u003ctd\u003e2.051139\u003c/td\u003e\n",
              "      \u003ctd\u003e1.818550\u003c/td\u003e\n",
              "    \u003c/tr\u003e\n",
              "    \u003ctr\u003e\n",
              "      \u003cth\u003eD7_Dox_C2_TTTATGCTCTTGGGTA-1\u003c/th\u003e\n",
              "      \u003ctd\u003e0.425422\u003c/td\u003e\n",
              "      \u003ctd\u003e0.620015\u003c/td\u003e\n",
              "      \u003ctd\u003e0.874267\u003c/td\u003e\n",
              "      \u003ctd\u003e1.192334\u003c/td\u003e\n",
              "    \u003c/tr\u003e\n",
              "    \u003ctr\u003e\n",
              "      \u003cth\u003eD7_Dox_C2_TTTCCTCCATCGATTG-1\u003c/th\u003e\n",
              "      \u003ctd\u003e0.277827\u003c/td\u003e\n",
              "      \u003ctd\u003e0.371900\u003c/td\u003e\n",
              "      \u003ctd\u003e0.477089\u003c/td\u003e\n",
              "      \u003ctd\u003e0.590164\u003c/td\u003e\n",
              "    \u003c/tr\u003e\n",
              "    \u003ctr\u003e\n",
              "      \u003cth\u003eD7_Dox_C2_TTTCCTCGTAGTACCT-1\u003c/th\u003e\n",
              "      \u003ctd\u003e3.240489\u003c/td\u003e\n",
              "      \u003ctd\u003e2.935441\u003c/td\u003e\n",
              "      \u003ctd\u003e2.643740\u003c/td\u003e\n",
              "      \u003ctd\u003e2.377978\u003c/td\u003e\n",
              "    \u003c/tr\u003e\n",
              "    \u003ctr\u003e\n",
              "      \u003cth\u003eD7_Dox_C2_TTTCCTCGTTATGCGT-1\u003c/th\u003e\n",
              "      \u003ctd\u003e0.948972\u003c/td\u003e\n",
              "      \u003ctd\u003e1.065920\u003c/td\u003e\n",
              "      \u003ctd\u003e1.167374\u003c/td\u003e\n",
              "      \u003ctd\u003e1.253680\u003c/td\u003e\n",
              "    \u003c/tr\u003e\n",
              "    \u003ctr\u003e\n",
              "      \u003cth\u003eD7_Dox_C2_TTTCCTCTCCTTAATC-1\u003c/th\u003e\n",
              "      \u003ctd\u003e3.263687\u003c/td\u003e\n",
              "      \u003ctd\u003e3.223971\u003c/td\u003e\n",
              "      \u003ctd\u003e3.127939\u003c/td\u003e\n",
              "      \u003ctd\u003e3.002186\u003c/td\u003e\n",
              "    \u003c/tr\u003e\n",
              "    \u003ctr\u003e\n",
              "      \u003cth\u003eD7_Dox_C2_TTTCCTCTCGATGAGG-1\u003c/th\u003e\n",
              "      \u003ctd\u003e0.470009\u003c/td\u003e\n",
              "      \u003ctd\u003e0.659300\u003c/td\u003e\n",
              "      \u003ctd\u003e0.892871\u003c/td\u003e\n",
              "      \u003ctd\u003e1.167273\u003c/td\u003e\n",
              "    \u003c/tr\u003e\n",
              "    \u003ctr\u003e\n",
              "      \u003cth\u003eD7_Dox_C2_TTTCCTCTCTGTTTGT-1\u003c/th\u003e\n",
              "      \u003ctd\u003e2.394310\u003c/td\u003e\n",
              "      \u003ctd\u003e2.211362\u003c/td\u003e\n",
              "      \u003ctd\u003e2.037236\u003c/td\u003e\n",
              "      \u003ctd\u003e1.877442\u003c/td\u003e\n",
              "    \u003c/tr\u003e\n",
              "    \u003ctr\u003e\n",
              "      \u003cth\u003eD7_Dox_C2_TTTGCGCTCTTACCGC-1\u003c/th\u003e\n",
              "      \u003ctd\u003e0.257552\u003c/td\u003e\n",
              "      \u003ctd\u003e0.273964\u003c/td\u003e\n",
              "      \u003ctd\u003e0.284256\u003c/td\u003e\n",
              "      \u003ctd\u003e0.288614\u003c/td\u003e\n",
              "    \u003c/tr\u003e\n",
              "    \u003ctr\u003e\n",
              "      \u003cth\u003eD7_Dox_C2_TTTGGTTAGCGAGAAA-1\u003c/th\u003e\n",
              "      \u003ctd\u003e0.276615\u003c/td\u003e\n",
              "      \u003ctd\u003e0.380743\u003c/td\u003e\n",
              "      \u003ctd\u003e0.500818\u003c/td\u003e\n",
              "      \u003ctd\u003e0.632807\u003c/td\u003e\n",
              "    \u003c/tr\u003e\n",
              "    \u003ctr\u003e\n",
              "      \u003cth\u003eD7_Dox_C2_TTTGGTTAGGACACCA-1\u003c/th\u003e\n",
              "      \u003ctd\u003e0.463959\u003c/td\u003e\n",
              "      \u003ctd\u003e0.531092\u003c/td\u003e\n",
              "      \u003ctd\u003e0.591459\u003c/td\u003e\n",
              "      \u003ctd\u003e0.644421\u003c/td\u003e\n",
              "    \u003c/tr\u003e\n",
              "    \u003ctr\u003e\n",
              "      \u003cth\u003eD7_Dox_C2_TTTGGTTCAAAGGTGC-1\u003c/th\u003e\n",
              "      \u003ctd\u003e1.240934\u003c/td\u003e\n",
              "      \u003ctd\u003e1.105633\u003c/td\u003e\n",
              "      \u003ctd\u003e0.980103\u003c/td\u003e\n",
              "      \u003ctd\u003e0.867051\u003c/td\u003e\n",
              "    \u003c/tr\u003e\n",
              "    \u003ctr\u003e\n",
              "      \u003cth\u003eD7_Dox_C2_TTTGGTTGTGATGATA-1\u003c/th\u003e\n",
              "      \u003ctd\u003e2.669660\u003c/td\u003e\n",
              "      \u003ctd\u003e2.490171\u003c/td\u003e\n",
              "      \u003ctd\u003e2.350505\u003c/td\u003e\n",
              "      \u003ctd\u003e2.239469\u003c/td\u003e\n",
              "    \u003c/tr\u003e\n",
              "    \u003ctr\u003e\n",
              "      \u003cth\u003eD7_Dox_C2_TTTGGTTGTTGAACTC-1\u003c/th\u003e\n",
              "      \u003ctd\u003e0.288227\u003c/td\u003e\n",
              "      \u003ctd\u003e0.346178\u003c/td\u003e\n",
              "      \u003ctd\u003e0.401184\u003c/td\u003e\n",
              "      \u003ctd\u003e0.449544\u003c/td\u003e\n",
              "    \u003c/tr\u003e\n",
              "    \u003ctr\u003e\n",
              "      \u003cth\u003eD7_Dox_C2_TTTGGTTTCGTACCGG-1\u003c/th\u003e\n",
              "      \u003ctd\u003e1.614829\u003c/td\u003e\n",
              "      \u003ctd\u003e1.524147\u003c/td\u003e\n",
              "      \u003ctd\u003e1.423713\u003c/td\u003e\n",
              "      \u003ctd\u003e1.322574\u003c/td\u003e\n",
              "    \u003c/tr\u003e\n",
              "    \u003ctr\u003e\n",
              "      \u003cth\u003eD7_Dox_C2_TTTGGTTTCTAACGGT-1\u003c/th\u003e\n",
              "      \u003ctd\u003e0.797673\u003c/td\u003e\n",
              "      \u003ctd\u003e0.760307\u003c/td\u003e\n",
              "      \u003ctd\u003e0.712996\u003c/td\u003e\n",
              "      \u003ctd\u003e0.661888\u003c/td\u003e\n",
              "    \u003c/tr\u003e\n",
              "    \u003ctr\u003e\n",
              "      \u003cth\u003eD7_Dox_C2_TTTGTCAAGTGTCCCG-1\u003c/th\u003e\n",
              "      \u003ctd\u003e0.816489\u003c/td\u003e\n",
              "      \u003ctd\u003e0.872799\u003c/td\u003e\n",
              "      \u003ctd\u003e0.913526\u003c/td\u003e\n",
              "      \u003ctd\u003e0.939985\u003c/td\u003e\n",
              "    \u003c/tr\u003e\n",
              "    \u003ctr\u003e\n",
              "      \u003cth\u003eD7_Dox_C2_TTTGTCAAGTTAGCGG-1\u003c/th\u003e\n",
              "      \u003ctd\u003e0.338499\u003c/td\u003e\n",
              "      \u003ctd\u003e0.370584\u003c/td\u003e\n",
              "      \u003ctd\u003e0.397939\u003c/td\u003e\n",
              "      \u003ctd\u003e0.420892\u003c/td\u003e\n",
              "    \u003c/tr\u003e\n",
              "    \u003ctr\u003e\n",
              "      \u003cth\u003eD7_Dox_C2_TTTGTCACAGTGGAGT-1\u003c/th\u003e\n",
              "      \u003ctd\u003e0.703019\u003c/td\u003e\n",
              "      \u003ctd\u003e0.727403\u003c/td\u003e\n",
              "      \u003ctd\u003e0.738133\u003c/td\u003e\n",
              "      \u003ctd\u003e0.735029\u003c/td\u003e\n",
              "    \u003c/tr\u003e\n",
              "    \u003ctr\u003e\n",
              "      \u003cth\u003eD7_Dox_C2_TTTGTCAGTAATTGGA-1\u003c/th\u003e\n",
              "      \u003ctd\u003e0.279505\u003c/td\u003e\n",
              "      \u003ctd\u003e0.324260\u003c/td\u003e\n",
              "      \u003ctd\u003e0.364409\u003c/td\u003e\n",
              "      \u003ctd\u003e0.399152\u003c/td\u003e\n",
              "    \u003c/tr\u003e\n",
              "    \u003ctr\u003e\n",
              "      \u003cth\u003eD7_Dox_C2_TTTGTCATCGTGACAT-1\u003c/th\u003e\n",
              "      \u003ctd\u003e0.586568\u003c/td\u003e\n",
              "      \u003ctd\u003e0.864845\u003c/td\u003e\n",
              "      \u003ctd\u003e1.232170\u003c/td\u003e\n",
              "      \u003ctd\u003e1.694890\u003c/td\u003e\n",
              "    \u003c/tr\u003e\n",
              "    \u003ctr\u003e\n",
              "      \u003cth\u003eD7_Dox_C2_TTTGTCATCTCCCTGA-1\u003c/th\u003e\n",
              "      \u003ctd\u003e1.183101\u003c/td\u003e\n",
              "      \u003ctd\u003e1.520964\u003c/td\u003e\n",
              "      \u003ctd\u003e1.874825\u003c/td\u003e\n",
              "      \u003ctd\u003e2.238024\u003c/td\u003e\n",
              "    \u003c/tr\u003e\n",
              "  \u003c/tbody\u003e\n",
              "\u003c/table\u003e\n",
              "\u003cp\u003e6507 rows × 4 columns\u003c/p\u003e\n",
              "\u003c/div\u003e"
            ],
            "text/plain": [
              "                                    g0        g1        g2        g3\n",
              "id                                                                  \n",
              "D7_Dox_C1_AAACCTGAGGAATCGC-1  1.501791  1.146697  0.898082  0.716976\n",
              "D7_Dox_C1_AAACCTGAGTAGATGT-1  2.989438  2.519022  2.138183  1.831273\n",
              "D7_Dox_C1_AAACCTGCAACCGCCA-1  1.699754  1.632620  1.551587  1.464757\n",
              "D7_Dox_C1_AAACCTGCACTATCTT-1  3.079174  2.796191  2.522095  2.269748\n",
              "D7_Dox_C1_AAACCTGCAGCCTGTG-1  1.014346  0.908840  0.807168  0.713982\n",
              "D7_Dox_C1_AAACCTGCATATACGC-1  1.245687  1.212256  1.163713  1.107662\n",
              "D7_Dox_C1_AAACCTGCATCCGTGG-1  1.100886  1.069409  1.025116  0.972374\n",
              "D7_Dox_C1_AAACCTGTCGGAATCT-1  1.088761  1.155698  1.201569  1.231343\n",
              "D7_Dox_C1_AAACGGGGTAGTACCT-1  0.416973  0.442949  0.462500  0.476866\n",
              "D7_Dox_C1_AAACGGGTCTCTTATG-1  0.341686  0.277608  0.224474  0.181476\n",
              "D7_Dox_C1_AAACGGGTCTGGGCCA-1  2.983100  2.292598  1.785999  1.410352\n",
              "D7_Dox_C1_AAACGGGTCTGTCAAG-1  0.348649  0.392078  0.426581  0.450534\n",
              "D7_Dox_C1_AAAGATGAGAGAGCTC-1  2.109219  1.767192  1.472703  1.228389\n",
              "D7_Dox_C1_AAAGATGAGAGTACAT-1  0.928392  0.885167  0.837461  0.789756\n",
              "D7_Dox_C1_AAAGATGAGATCCGAG-1  0.699303  0.789435  0.871979  0.943967\n",
              "D7_Dox_C1_AAAGATGAGGGCACTA-1  1.740255  1.676229  1.611135  1.549377\n",
              "D7_Dox_C1_AAAGATGCACTTAACG-1  1.622271  1.361643  1.140084  0.956149\n",
              "D7_Dox_C1_AAAGATGGTCCCTTGT-1  3.252761  3.548845  3.805628  4.030937\n",
              "D7_Dox_C1_AAAGATGTCCGCAAGC-1  0.317986  0.377701  0.433787  0.485193\n",
              "D7_Dox_C1_AAAGATGTCGCGTTTC-1  1.352633  1.196338  1.053615  0.927263\n",
              "D7_Dox_C1_AAAGATGTCGTGGACC-1  3.481195  2.950337  2.497365  2.120141\n",
              "D7_Dox_C1_AAAGCAAAGAGTACCG-1  2.450444  1.616251  1.099438  0.768078\n",
              "D7_Dox_C1_AAAGCAATCACTTATC-1  1.148097  1.220705  1.270183  1.302999\n",
              "D7_Dox_C1_AAAGTAGAGAGTTGGC-1  1.882493  2.021924  2.150086  2.268986\n",
              "D7_Dox_C1_AAAGTAGAGCTAACTC-1  1.613048  1.396769  1.205458  1.039746\n",
              "D7_Dox_C1_AAAGTAGAGGAGTACC-1  0.680660  0.711520  0.726193  0.727842\n",
              "D7_Dox_C1_AAAGTAGCAGTTTACG-1  2.822608  2.695532  2.534281  2.362066\n",
              "D7_Dox_C1_AAAGTAGCATTAACCG-1  1.336279  1.019492  0.789496  0.619444\n",
              "D7_Dox_C1_AAAGTAGGTACTCGCG-1  2.914406  2.886105  2.826708  2.749281\n",
              "D7_Dox_C1_AAAGTAGTCTCGATGA-1  1.463811  1.531039  1.580501  1.616992\n",
              "...                                ...       ...       ...       ...\n",
              "D7_Dox_C2_TTTATGCCAAACTGCT-1  0.545842  0.667988  0.792395  0.914132\n",
              "D7_Dox_C2_TTTATGCCACATGACT-1  3.365656  3.098414  2.904644  2.749490\n",
              "D7_Dox_C2_TTTATGCCATACTCTT-1  1.929566  1.734982  1.563485  1.412989\n",
              "D7_Dox_C2_TTTATGCGTGGCCCTA-1  1.960004  2.111797  2.218935  2.291490\n",
              "D7_Dox_C2_TTTATGCGTTTAAGCC-1  3.424917  2.773124  2.263544  1.862641\n",
              "D7_Dox_C2_TTTATGCTCAATAAGG-1  0.649921  0.773876  0.892632  1.004224\n",
              "D7_Dox_C2_TTTATGCTCATTATCC-1  3.675442  2.861435  2.260073  1.810857\n",
              "D7_Dox_C2_TTTATGCTCCTTGACC-1  0.329347  0.430627  0.542610  0.660944\n",
              "D7_Dox_C2_TTTATGCTCCTTTCTC-1  2.762255  2.353335  2.051139  1.818550\n",
              "D7_Dox_C2_TTTATGCTCTTGGGTA-1  0.425422  0.620015  0.874267  1.192334\n",
              "D7_Dox_C2_TTTCCTCCATCGATTG-1  0.277827  0.371900  0.477089  0.590164\n",
              "D7_Dox_C2_TTTCCTCGTAGTACCT-1  3.240489  2.935441  2.643740  2.377978\n",
              "D7_Dox_C2_TTTCCTCGTTATGCGT-1  0.948972  1.065920  1.167374  1.253680\n",
              "D7_Dox_C2_TTTCCTCTCCTTAATC-1  3.263687  3.223971  3.127939  3.002186\n",
              "D7_Dox_C2_TTTCCTCTCGATGAGG-1  0.470009  0.659300  0.892871  1.167273\n",
              "D7_Dox_C2_TTTCCTCTCTGTTTGT-1  2.394310  2.211362  2.037236  1.877442\n",
              "D7_Dox_C2_TTTGCGCTCTTACCGC-1  0.257552  0.273964  0.284256  0.288614\n",
              "D7_Dox_C2_TTTGGTTAGCGAGAAA-1  0.276615  0.380743  0.500818  0.632807\n",
              "D7_Dox_C2_TTTGGTTAGGACACCA-1  0.463959  0.531092  0.591459  0.644421\n",
              "D7_Dox_C2_TTTGGTTCAAAGGTGC-1  1.240934  1.105633  0.980103  0.867051\n",
              "D7_Dox_C2_TTTGGTTGTGATGATA-1  2.669660  2.490171  2.350505  2.239469\n",
              "D7_Dox_C2_TTTGGTTGTTGAACTC-1  0.288227  0.346178  0.401184  0.449544\n",
              "D7_Dox_C2_TTTGGTTTCGTACCGG-1  1.614829  1.524147  1.423713  1.322574\n",
              "D7_Dox_C2_TTTGGTTTCTAACGGT-1  0.797673  0.760307  0.712996  0.661888\n",
              "D7_Dox_C2_TTTGTCAAGTGTCCCG-1  0.816489  0.872799  0.913526  0.939985\n",
              "D7_Dox_C2_TTTGTCAAGTTAGCGG-1  0.338499  0.370584  0.397939  0.420892\n",
              "D7_Dox_C2_TTTGTCACAGTGGAGT-1  0.703019  0.727403  0.738133  0.735029\n",
              "D7_Dox_C2_TTTGTCAGTAATTGGA-1  0.279505  0.324260  0.364409  0.399152\n",
              "D7_Dox_C2_TTTGTCATCGTGACAT-1  0.586568  0.864845  1.232170  1.694890\n",
              "D7_Dox_C2_TTTGTCATCTCCCTGA-1  1.183101  1.520964  1.874825  2.238024\n",
              "\n",
              "[6507 rows x 4 columns]"
            ]
          },
          "execution_count": 5,
          "metadata": {},
          "output_type": "execute_result"
        }
      ],
      "source": [
        "tmap_adata.obs"
      ]
    },
    {
      "cell_type": "code",
      "execution_count": 6,
      "metadata": {
        "pycharm": {}
      },
      "outputs": [
        {
          "data": {
            "image/png": "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\u003d\n",
            "text/plain": [
              "\u003cFigure size 432x288 with 1 Axes\u003e"
            ]
          },
          "metadata": {},
          "output_type": "display_data"
        }
      ],
      "source": [
        "plt.scatter(tmap_adata.obs[\u0027g1\u0027],tmap_adata.obs[\u0027g2\u0027])\n",
        "plt.show()"
      ]
    },
    {
      "cell_type": "markdown",
      "metadata": {
        "pycharm": {}
      },
      "source": [
        "Compute another transport map from day 7.5 to 8"
      ]
    },
    {
      "cell_type": "code",
      "execution_count": null,
      "metadata": {
        "pycharm": {}
      },
      "outputs": [],
      "source": [
        "tmap_adata \u003d ot_model.compute_transport_map(7.5, 8)"
      ]
    },
    {
      "cell_type": "markdown",
      "metadata": {
        "colab": {
          "base_uri": "https://localhost:8080/",
          "height": 34
        },
        "colab_type": "code",
        "executionInfo": {
          "elapsed": 545,
          "status": "ok",
          "timestamp": 1556313222255,
          "user": {
            "displayName": "Joshua Gould",
            "photoUrl": "",
            "userId": "09978885733763067346"
          },
          "user_tz": 240
        },
        "id": "P-ZQVITQe9m-",
        "outputId": "a864cea1-48cd-468b-b9ac-845724230979",
        "pycharm": {}
      },
      "source": [
        "Compute all transport maps"
      ]
    },
    {
      "cell_type": "code",
      "execution_count": 7,
      "metadata": {
        "colab": {
          "base_uri": "https://localhost:8080/",
          "height": 164
        },
        "colab_type": "code",
        "executionInfo": {
          "elapsed": 370,
          "status": "error",
          "timestamp": 1556369739325,
          "user": {
            "displayName": "Joshua Gould",
            "photoUrl": "",
            "userId": "09978885733763067346"
          },
          "user_tz": 240
        },
        "id": "5lFF4FfhAexV",
        "outputId": "2c0fc345-a952-4619-fe70-8a5dcc1a7538",
        "pycharm": {}
      },
      "outputs": [],
      "source": [
        "ot_model.compute_all_transport_maps(tmap_out\u003d\u0027tmaps/serum\u0027)"
      ]
    }
  ],
  "metadata": {
    "colab": {
      "name": "wot-2.ipynb",
      "provenance": [],
      "version": "0.3.2"
    },
    "kernelspec": {
      "display_name": "Python 3",
      "language": "python",
      "name": "python3"
    },
    "language_info": {
      "codemirror_mode": {
        "name": "ipython",
        "version": 3
      },
      "file_extension": ".py",
      "mimetype": "text/x-python",
      "name": "python",
      "nbconvert_exporter": "python",
      "pygments_lexer": "ipython3",
      "version": "3.7.3"
    }
  },
  "nbformat": 4,
  "nbformat_minor": 2
}