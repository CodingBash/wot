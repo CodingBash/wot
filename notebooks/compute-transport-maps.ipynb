{
 "cells": [
  {
   "cell_type": "code",
   "execution_count": 1,
   "metadata": {},
   "outputs": [],
   "source": [
    "#!pip install -q wot"
   ]
  },
  {
   "cell_type": "markdown",
   "metadata": {
    "colab_type": "text",
    "id": "j1JdUgTXawEJ"
   },
   "source": [
    "Read in expression matrix, cell days, cell growth rates, and keep serum cells only"
   ]
  },
  {
   "cell_type": "code",
   "execution_count": 2,
   "metadata": {
    "colab": {},
    "colab_type": "code",
    "id": "OgHGRa2aIax6"
   },
   "outputs": [
    {
     "name": "stderr",
     "output_type": "stream",
     "text": [
      "/anaconda3/lib/python3.6/site-packages/h5py/__init__.py:36: FutureWarning: Conversion of the second argument of issubdtype from `float` to `np.floating` is deprecated. In future, it will be treated as `np.float64 == np.dtype(float).type`.\n",
      "  from ._conv import register_converters as _register_converters\n"
     ]
    }
   ],
   "source": [
    "import wot\n",
    "\n",
    "VAR_GENE_DS_PATH = 'data/ExprMatrix.var.genes.loom'\n",
    "GROWTH_SCORES_PATH = 'data/growth_gs_init.txt'\n",
    "CELL_DAYS_PATH = 'data/cell_days.txt'\n",
    "SERUM_CELL_IDS_PATH = 'data/serum_cell_ids.txt'\n",
    "\n",
    "adata = wot.io.read_dataset(VAR_GENE_DS_PATH, obs=[CELL_DAYS_PATH, GROWTH_SCORES_PATH], obs_filter=SERUM_CELL_IDS_PATH)"
   ]
  },
  {
   "cell_type": "code",
   "execution_count": 3,
   "metadata": {},
   "outputs": [
    {
     "data": {
      "text/plain": [
       "(175472, 1479)"
      ]
     },
     "execution_count": 3,
     "metadata": {},
     "output_type": "execute_result"
    }
   ],
   "source": [
    "adata.shape"
   ]
  },
  {
   "cell_type": "markdown",
   "metadata": {
    "colab_type": "text",
    "id": "eXxmqmQua1I0"
   },
   "source": [
    "Initialize OT model"
   ]
  },
  {
   "cell_type": "code",
   "execution_count": 4,
   "metadata": {
    "colab": {
     "base_uri": "https://localhost:8080/",
     "height": 34
    },
    "colab_type": "code",
    "executionInfo": {
     "elapsed": 1558,
     "status": "ok",
     "timestamp": 1556313217324,
     "user": {
      "displayName": "Joshua Gould",
      "photoUrl": "",
      "userId": "09978885733763067346"
     },
     "user_tz": 240
    },
    "id": "YKuGivoIca9G",
    "outputId": "c0639c77-d5ed-4e9e-9130-b994bfad5e9c"
   },
   "outputs": [],
   "source": [
    "ot_model = wot.ot.OTModel(adata, tmap_out='tmaps/serum',solver='duality_gap') "
   ]
  },
  {
   "cell_type": "markdown",
   "metadata": {},
   "source": [
    "Compute a single transport map"
   ]
  },
  {
   "cell_type": "code",
   "execution_count": 5,
   "metadata": {},
   "outputs": [
    {
     "data": {
      "text/plain": [
       "(6507, 5061)"
      ]
     },
     "execution_count": 5,
     "metadata": {},
     "output_type": "execute_result"
    }
   ],
   "source": [
    "tmap_adata = ot_model.compute_transport_map(7,7.5)\n",
    "tmap_adata.shape\n",
    "\n"
   ]
  },
  {
   "cell_type": "code",
   "execution_count": 9,
   "metadata": {},
   "outputs": [
    {
     "data": {
      "text/html": [
       "<div>\n",
       "<style scoped>\n",
       "    .dataframe tbody tr th:only-of-type {\n",
       "        vertical-align: middle;\n",
       "    }\n",
       "\n",
       "    .dataframe tbody tr th {\n",
       "        vertical-align: top;\n",
       "    }\n",
       "\n",
       "    .dataframe thead th {\n",
       "        text-align: right;\n",
       "    }\n",
       "</style>\n",
       "<table border=\"1\" class=\"dataframe\">\n",
       "  <thead>\n",
       "    <tr style=\"text-align: right;\">\n",
       "      <th></th>\n",
       "    </tr>\n",
       "    <tr>\n",
       "      <th>id</th>\n",
       "    </tr>\n",
       "  </thead>\n",
       "  <tbody>\n",
       "    <tr>\n",
       "      <th>D7_Dox_C1_AAACCTGAGGAATCGC-1</th>\n",
       "    </tr>\n",
       "    <tr>\n",
       "      <th>D7_Dox_C1_AAACCTGAGTAGATGT-1</th>\n",
       "    </tr>\n",
       "    <tr>\n",
       "      <th>D7_Dox_C1_AAACCTGCAACCGCCA-1</th>\n",
       "    </tr>\n",
       "    <tr>\n",
       "      <th>D7_Dox_C1_AAACCTGCACTATCTT-1</th>\n",
       "    </tr>\n",
       "    <tr>\n",
       "      <th>D7_Dox_C1_AAACCTGCAGCCTGTG-1</th>\n",
       "    </tr>\n",
       "    <tr>\n",
       "      <th>D7_Dox_C1_AAACCTGCATATACGC-1</th>\n",
       "    </tr>\n",
       "    <tr>\n",
       "      <th>D7_Dox_C1_AAACCTGCATCCGTGG-1</th>\n",
       "    </tr>\n",
       "    <tr>\n",
       "      <th>D7_Dox_C1_AAACCTGTCGGAATCT-1</th>\n",
       "    </tr>\n",
       "    <tr>\n",
       "      <th>D7_Dox_C1_AAACGGGGTAGTACCT-1</th>\n",
       "    </tr>\n",
       "    <tr>\n",
       "      <th>D7_Dox_C1_AAACGGGTCTCTTATG-1</th>\n",
       "    </tr>\n",
       "    <tr>\n",
       "      <th>D7_Dox_C1_AAACGGGTCTGGGCCA-1</th>\n",
       "    </tr>\n",
       "    <tr>\n",
       "      <th>D7_Dox_C1_AAACGGGTCTGTCAAG-1</th>\n",
       "    </tr>\n",
       "    <tr>\n",
       "      <th>D7_Dox_C1_AAAGATGAGAGAGCTC-1</th>\n",
       "    </tr>\n",
       "    <tr>\n",
       "      <th>D7_Dox_C1_AAAGATGAGAGTACAT-1</th>\n",
       "    </tr>\n",
       "    <tr>\n",
       "      <th>D7_Dox_C1_AAAGATGAGATCCGAG-1</th>\n",
       "    </tr>\n",
       "    <tr>\n",
       "      <th>D7_Dox_C1_AAAGATGAGGGCACTA-1</th>\n",
       "    </tr>\n",
       "    <tr>\n",
       "      <th>D7_Dox_C1_AAAGATGCACTTAACG-1</th>\n",
       "    </tr>\n",
       "    <tr>\n",
       "      <th>D7_Dox_C1_AAAGATGGTCCCTTGT-1</th>\n",
       "    </tr>\n",
       "    <tr>\n",
       "      <th>D7_Dox_C1_AAAGATGTCCGCAAGC-1</th>\n",
       "    </tr>\n",
       "    <tr>\n",
       "      <th>D7_Dox_C1_AAAGATGTCGCGTTTC-1</th>\n",
       "    </tr>\n",
       "    <tr>\n",
       "      <th>D7_Dox_C1_AAAGATGTCGTGGACC-1</th>\n",
       "    </tr>\n",
       "    <tr>\n",
       "      <th>D7_Dox_C1_AAAGCAAAGAGTACCG-1</th>\n",
       "    </tr>\n",
       "    <tr>\n",
       "      <th>D7_Dox_C1_AAAGCAATCACTTATC-1</th>\n",
       "    </tr>\n",
       "    <tr>\n",
       "      <th>D7_Dox_C1_AAAGTAGAGAGTTGGC-1</th>\n",
       "    </tr>\n",
       "    <tr>\n",
       "      <th>D7_Dox_C1_AAAGTAGAGCTAACTC-1</th>\n",
       "    </tr>\n",
       "    <tr>\n",
       "      <th>D7_Dox_C1_AAAGTAGAGGAGTACC-1</th>\n",
       "    </tr>\n",
       "    <tr>\n",
       "      <th>D7_Dox_C1_AAAGTAGCAGTTTACG-1</th>\n",
       "    </tr>\n",
       "    <tr>\n",
       "      <th>D7_Dox_C1_AAAGTAGCATTAACCG-1</th>\n",
       "    </tr>\n",
       "    <tr>\n",
       "      <th>D7_Dox_C1_AAAGTAGGTACTCGCG-1</th>\n",
       "    </tr>\n",
       "    <tr>\n",
       "      <th>D7_Dox_C1_AAAGTAGTCTCGATGA-1</th>\n",
       "    </tr>\n",
       "    <tr>\n",
       "      <th>...</th>\n",
       "    </tr>\n",
       "    <tr>\n",
       "      <th>D7_Dox_C2_TTTATGCCAAACTGCT-1</th>\n",
       "    </tr>\n",
       "    <tr>\n",
       "      <th>D7_Dox_C2_TTTATGCCACATGACT-1</th>\n",
       "    </tr>\n",
       "    <tr>\n",
       "      <th>D7_Dox_C2_TTTATGCCATACTCTT-1</th>\n",
       "    </tr>\n",
       "    <tr>\n",
       "      <th>D7_Dox_C2_TTTATGCGTGGCCCTA-1</th>\n",
       "    </tr>\n",
       "    <tr>\n",
       "      <th>D7_Dox_C2_TTTATGCGTTTAAGCC-1</th>\n",
       "    </tr>\n",
       "    <tr>\n",
       "      <th>D7_Dox_C2_TTTATGCTCAATAAGG-1</th>\n",
       "    </tr>\n",
       "    <tr>\n",
       "      <th>D7_Dox_C2_TTTATGCTCATTATCC-1</th>\n",
       "    </tr>\n",
       "    <tr>\n",
       "      <th>D7_Dox_C2_TTTATGCTCCTTGACC-1</th>\n",
       "    </tr>\n",
       "    <tr>\n",
       "      <th>D7_Dox_C2_TTTATGCTCCTTTCTC-1</th>\n",
       "    </tr>\n",
       "    <tr>\n",
       "      <th>D7_Dox_C2_TTTATGCTCTTGGGTA-1</th>\n",
       "    </tr>\n",
       "    <tr>\n",
       "      <th>D7_Dox_C2_TTTCCTCCATCGATTG-1</th>\n",
       "    </tr>\n",
       "    <tr>\n",
       "      <th>D7_Dox_C2_TTTCCTCGTAGTACCT-1</th>\n",
       "    </tr>\n",
       "    <tr>\n",
       "      <th>D7_Dox_C2_TTTCCTCGTTATGCGT-1</th>\n",
       "    </tr>\n",
       "    <tr>\n",
       "      <th>D7_Dox_C2_TTTCCTCTCCTTAATC-1</th>\n",
       "    </tr>\n",
       "    <tr>\n",
       "      <th>D7_Dox_C2_TTTCCTCTCGATGAGG-1</th>\n",
       "    </tr>\n",
       "    <tr>\n",
       "      <th>D7_Dox_C2_TTTCCTCTCTGTTTGT-1</th>\n",
       "    </tr>\n",
       "    <tr>\n",
       "      <th>D7_Dox_C2_TTTGCGCTCTTACCGC-1</th>\n",
       "    </tr>\n",
       "    <tr>\n",
       "      <th>D7_Dox_C2_TTTGGTTAGCGAGAAA-1</th>\n",
       "    </tr>\n",
       "    <tr>\n",
       "      <th>D7_Dox_C2_TTTGGTTAGGACACCA-1</th>\n",
       "    </tr>\n",
       "    <tr>\n",
       "      <th>D7_Dox_C2_TTTGGTTCAAAGGTGC-1</th>\n",
       "    </tr>\n",
       "    <tr>\n",
       "      <th>D7_Dox_C2_TTTGGTTGTGATGATA-1</th>\n",
       "    </tr>\n",
       "    <tr>\n",
       "      <th>D7_Dox_C2_TTTGGTTGTTGAACTC-1</th>\n",
       "    </tr>\n",
       "    <tr>\n",
       "      <th>D7_Dox_C2_TTTGGTTTCGTACCGG-1</th>\n",
       "    </tr>\n",
       "    <tr>\n",
       "      <th>D7_Dox_C2_TTTGGTTTCTAACGGT-1</th>\n",
       "    </tr>\n",
       "    <tr>\n",
       "      <th>D7_Dox_C2_TTTGTCAAGTGTCCCG-1</th>\n",
       "    </tr>\n",
       "    <tr>\n",
       "      <th>D7_Dox_C2_TTTGTCAAGTTAGCGG-1</th>\n",
       "    </tr>\n",
       "    <tr>\n",
       "      <th>D7_Dox_C2_TTTGTCACAGTGGAGT-1</th>\n",
       "    </tr>\n",
       "    <tr>\n",
       "      <th>D7_Dox_C2_TTTGTCAGTAATTGGA-1</th>\n",
       "    </tr>\n",
       "    <tr>\n",
       "      <th>D7_Dox_C2_TTTGTCATCGTGACAT-1</th>\n",
       "    </tr>\n",
       "    <tr>\n",
       "      <th>D7_Dox_C2_TTTGTCATCTCCCTGA-1</th>\n",
       "    </tr>\n",
       "  </tbody>\n",
       "</table>\n",
       "<p>6507 rows × 0 columns</p>\n",
       "</div>"
      ],
      "text/plain": [
       "Empty DataFrame\n",
       "Columns: []\n",
       "Index: [D7_Dox_C1_AAACCTGAGGAATCGC-1, D7_Dox_C1_AAACCTGAGTAGATGT-1, D7_Dox_C1_AAACCTGCAACCGCCA-1, D7_Dox_C1_AAACCTGCACTATCTT-1, D7_Dox_C1_AAACCTGCAGCCTGTG-1, D7_Dox_C1_AAACCTGCATATACGC-1, D7_Dox_C1_AAACCTGCATCCGTGG-1, D7_Dox_C1_AAACCTGTCGGAATCT-1, D7_Dox_C1_AAACGGGGTAGTACCT-1, D7_Dox_C1_AAACGGGTCTCTTATG-1, D7_Dox_C1_AAACGGGTCTGGGCCA-1, D7_Dox_C1_AAACGGGTCTGTCAAG-1, D7_Dox_C1_AAAGATGAGAGAGCTC-1, D7_Dox_C1_AAAGATGAGAGTACAT-1, D7_Dox_C1_AAAGATGAGATCCGAG-1, D7_Dox_C1_AAAGATGAGGGCACTA-1, D7_Dox_C1_AAAGATGCACTTAACG-1, D7_Dox_C1_AAAGATGGTCCCTTGT-1, D7_Dox_C1_AAAGATGTCCGCAAGC-1, D7_Dox_C1_AAAGATGTCGCGTTTC-1, D7_Dox_C1_AAAGATGTCGTGGACC-1, D7_Dox_C1_AAAGCAAAGAGTACCG-1, D7_Dox_C1_AAAGCAATCACTTATC-1, D7_Dox_C1_AAAGTAGAGAGTTGGC-1, D7_Dox_C1_AAAGTAGAGCTAACTC-1, D7_Dox_C1_AAAGTAGAGGAGTACC-1, D7_Dox_C1_AAAGTAGCAGTTTACG-1, D7_Dox_C1_AAAGTAGCATTAACCG-1, D7_Dox_C1_AAAGTAGGTACTCGCG-1, D7_Dox_C1_AAAGTAGTCTCGATGA-1, D7_Dox_C1_AAATGCCAGAGGTAGA-1, D7_Dox_C1_AAATGCCAGTGTCCCG-1, D7_Dox_C1_AAATGCCAGTTGAGAT-1, D7_Dox_C1_AAATGCCCACCCATGG-1, D7_Dox_C1_AAATGCCCACCGATAT-1, D7_Dox_C1_AAATGCCCAGTTTACG-1, D7_Dox_C1_AAATGCCCATTCACTT-1, D7_Dox_C1_AAATGCCGTGACTACT-1, D7_Dox_C1_AAATGCCGTGTTTGGT-1, D7_Dox_C1_AAATGCCGTTATGTGC-1, D7_Dox_C1_AAATGCCTCACAACGT-1, D7_Dox_C1_AACACGTCACGTAAGG-1, D7_Dox_C1_AACACGTCAGGGTATG-1, D7_Dox_C1_AACACGTGTGTAACGG-1, D7_Dox_C1_AACACGTGTGTCTGAT-1, D7_Dox_C1_AACACGTTCGCCAAAT-1, D7_Dox_C1_AACCATGAGCAAATCA-1, D7_Dox_C1_AACCATGAGCGGATCA-1, D7_Dox_C1_AACCATGAGGATCGCA-1, D7_Dox_C1_AACCATGAGGCAGTCA-1, D7_Dox_C1_AACCATGAGTTGCAGG-1, D7_Dox_C1_AACCATGCAAAGCGGT-1, D7_Dox_C1_AACCATGCATTACCTT-1, D7_Dox_C1_AACCATGGTATGGTTC-1, D7_Dox_C1_AACCATGTCACGCATA-1, D7_Dox_C1_AACCATGTCAGTGTTG-1, D7_Dox_C1_AACCATGTCCGATATG-1, D7_Dox_C1_AACCGCGAGGACAGCT-1, D7_Dox_C1_AACCGCGAGTAGGTGC-1, D7_Dox_C1_AACCGCGAGTAGTGCG-1, D7_Dox_C1_AACCGCGGTCTGCCAG-1, D7_Dox_C1_AACCGCGTCGTAGGAG-1, D7_Dox_C1_AACGTTGCAAGCCTAT-1, D7_Dox_C1_AACGTTGGTCGCGGTT-1, D7_Dox_C1_AACGTTGTCCAACCAA-1, D7_Dox_C1_AACTCAGCAATCACAC-1, D7_Dox_C1_AACTCAGCAGCTTCGG-1, D7_Dox_C1_AACTCAGCAGGAATGC-1, D7_Dox_C1_AACTCAGGTCGACTGC-1, D7_Dox_C1_AACTCAGGTTCGAATC-1, D7_Dox_C1_AACTCAGGTTGGGACA-1, D7_Dox_C1_AACTCAGTCATCGGAT-1, D7_Dox_C1_AACTCAGTCCTGCCAT-1, D7_Dox_C1_AACTCAGTCGGCGCAT-1, D7_Dox_C1_AACTCAGTCTCCTATA-1, D7_Dox_C1_AACTCCCAGGAGTACC-1, D7_Dox_C1_AACTCCCAGGAGTCTG-1, D7_Dox_C1_AACTCCCCAATAGCGG-1, D7_Dox_C1_AACTCCCCAGCCAATT-1, D7_Dox_C1_AACTCCCGTGCTCTTC-1, D7_Dox_C1_AACTCCCTCGTCTGAA-1, D7_Dox_C1_AACTCTTAGCCAACAG-1, D7_Dox_C1_AACTCTTCAGAGTGTG-1, D7_Dox_C1_AACTCTTGTTGTCTTT-1, D7_Dox_C1_AACTCTTTCATAACCG-1, D7_Dox_C1_AACTCTTTCGCATGGC-1, D7_Dox_C1_AACTCTTTCGGTCTAA-1, D7_Dox_C1_AACTGGTAGTAACCCT-1, D7_Dox_C1_AACTGGTCAGACACTT-1, D7_Dox_C1_AACTGGTCATATGGTC-1, D7_Dox_C1_AACTGGTCATTTGCCC-1, D7_Dox_C1_AACTGGTGTCTGCCAG-1, D7_Dox_C1_AACTGGTGTGCCTTGG-1, D7_Dox_C1_AACTGGTTCTCCCTGA-1, D7_Dox_C1_AACTTTCAGGCCCTCA-1, D7_Dox_C1_AACTTTCCAAAGCGGT-1, D7_Dox_C1_AACTTTCCACTGAAGG-1, D7_Dox_C1_AACTTTCCAGAGCCAA-1, D7_Dox_C1_AACTTTCCAGGAATGC-1, D7_Dox_C1_AAGACCTAGCCACGCT-1, ...]\n",
       "\n",
       "[6507 rows x 0 columns]"
      ]
     },
     "execution_count": 9,
     "metadata": {},
     "output_type": "execute_result"
    }
   ],
   "source": [
    "tmap_adata.obs"
   ]
  },
  {
   "cell_type": "code",
   "execution_count": 8,
   "metadata": {},
   "outputs": [
    {
     "ename": "KeyError",
     "evalue": "'learned_growth_initial_estimate'",
     "output_type": "error",
     "traceback": [
      "\u001b[0;31m---------------------------------------------------------------------------\u001b[0m",
      "\u001b[0;31mKeyError\u001b[0m                                  Traceback (most recent call last)",
      "\u001b[0;32m/anaconda3/lib/python3.6/site-packages/pandas/core/indexes/base.py\u001b[0m in \u001b[0;36mget_loc\u001b[0;34m(self, key, method, tolerance)\u001b[0m\n\u001b[1;32m   2656\u001b[0m             \u001b[0;32mtry\u001b[0m\u001b[0;34m:\u001b[0m\u001b[0;34m\u001b[0m\u001b[0m\n\u001b[0;32m-> 2657\u001b[0;31m                 \u001b[0;32mreturn\u001b[0m \u001b[0mself\u001b[0m\u001b[0;34m.\u001b[0m\u001b[0m_engine\u001b[0m\u001b[0;34m.\u001b[0m\u001b[0mget_loc\u001b[0m\u001b[0;34m(\u001b[0m\u001b[0mkey\u001b[0m\u001b[0;34m)\u001b[0m\u001b[0;34m\u001b[0m\u001b[0m\n\u001b[0m\u001b[1;32m   2658\u001b[0m             \u001b[0;32mexcept\u001b[0m \u001b[0mKeyError\u001b[0m\u001b[0;34m:\u001b[0m\u001b[0;34m\u001b[0m\u001b[0m\n",
      "\u001b[0;32mpandas/_libs/index.pyx\u001b[0m in \u001b[0;36mpandas._libs.index.IndexEngine.get_loc\u001b[0;34m()\u001b[0m\n",
      "\u001b[0;32mpandas/_libs/index.pyx\u001b[0m in \u001b[0;36mpandas._libs.index.IndexEngine.get_loc\u001b[0;34m()\u001b[0m\n",
      "\u001b[0;32mpandas/_libs/hashtable_class_helper.pxi\u001b[0m in \u001b[0;36mpandas._libs.hashtable.PyObjectHashTable.get_item\u001b[0;34m()\u001b[0m\n",
      "\u001b[0;32mpandas/_libs/hashtable_class_helper.pxi\u001b[0m in \u001b[0;36mpandas._libs.hashtable.PyObjectHashTable.get_item\u001b[0;34m()\u001b[0m\n",
      "\u001b[0;31mKeyError\u001b[0m: 'learned_growth_initial_estimate'",
      "\nDuring handling of the above exception, another exception occurred:\n",
      "\u001b[0;31mKeyError\u001b[0m                                  Traceback (most recent call last)",
      "\u001b[0;32m<ipython-input-8-564dbf840e5c>\u001b[0m in \u001b[0;36m<module>\u001b[0;34m()\u001b[0m\n\u001b[1;32m      1\u001b[0m \u001b[0;32mimport\u001b[0m \u001b[0mmatplotlib\u001b[0m\u001b[0;34m.\u001b[0m\u001b[0mpyplot\u001b[0m \u001b[0;32mas\u001b[0m \u001b[0mplt\u001b[0m\u001b[0;34m\u001b[0m\u001b[0m\n\u001b[0;32m----> 2\u001b[0;31m \u001b[0mplt\u001b[0m\u001b[0;34m.\u001b[0m\u001b[0mscatter\u001b[0m\u001b[0;34m(\u001b[0m\u001b[0mtmap_adata\u001b[0m\u001b[0;34m.\u001b[0m\u001b[0mobs\u001b[0m\u001b[0;34m[\u001b[0m\u001b[0;34m'learned_growth_initial_estimate'\u001b[0m\u001b[0;34m]\u001b[0m\u001b[0;34m,\u001b[0m\u001b[0mtmap_adata\u001b[0m\u001b[0;34m.\u001b[0m\u001b[0mX\u001b[0m\u001b[0;34m.\u001b[0m\u001b[0msum\u001b[0m\u001b[0;34m(\u001b[0m\u001b[0maxis\u001b[0m\u001b[0;34m=\u001b[0m\u001b[0;36m1\u001b[0m\u001b[0;34m)\u001b[0m\u001b[0;34m)\u001b[0m\u001b[0;34m\u001b[0m\u001b[0m\n\u001b[0m",
      "\u001b[0;32m/anaconda3/lib/python3.6/site-packages/pandas/core/frame.py\u001b[0m in \u001b[0;36m__getitem__\u001b[0;34m(self, key)\u001b[0m\n\u001b[1;32m   2925\u001b[0m             \u001b[0;32mif\u001b[0m \u001b[0mself\u001b[0m\u001b[0;34m.\u001b[0m\u001b[0mcolumns\u001b[0m\u001b[0;34m.\u001b[0m\u001b[0mnlevels\u001b[0m \u001b[0;34m>\u001b[0m \u001b[0;36m1\u001b[0m\u001b[0;34m:\u001b[0m\u001b[0;34m\u001b[0m\u001b[0m\n\u001b[1;32m   2926\u001b[0m                 \u001b[0;32mreturn\u001b[0m \u001b[0mself\u001b[0m\u001b[0;34m.\u001b[0m\u001b[0m_getitem_multilevel\u001b[0m\u001b[0;34m(\u001b[0m\u001b[0mkey\u001b[0m\u001b[0;34m)\u001b[0m\u001b[0;34m\u001b[0m\u001b[0m\n\u001b[0;32m-> 2927\u001b[0;31m             \u001b[0mindexer\u001b[0m \u001b[0;34m=\u001b[0m \u001b[0mself\u001b[0m\u001b[0;34m.\u001b[0m\u001b[0mcolumns\u001b[0m\u001b[0;34m.\u001b[0m\u001b[0mget_loc\u001b[0m\u001b[0;34m(\u001b[0m\u001b[0mkey\u001b[0m\u001b[0;34m)\u001b[0m\u001b[0;34m\u001b[0m\u001b[0m\n\u001b[0m\u001b[1;32m   2928\u001b[0m             \u001b[0;32mif\u001b[0m \u001b[0mis_integer\u001b[0m\u001b[0;34m(\u001b[0m\u001b[0mindexer\u001b[0m\u001b[0;34m)\u001b[0m\u001b[0;34m:\u001b[0m\u001b[0;34m\u001b[0m\u001b[0m\n\u001b[1;32m   2929\u001b[0m                 \u001b[0mindexer\u001b[0m \u001b[0;34m=\u001b[0m \u001b[0;34m[\u001b[0m\u001b[0mindexer\u001b[0m\u001b[0;34m]\u001b[0m\u001b[0;34m\u001b[0m\u001b[0m\n",
      "\u001b[0;32m/anaconda3/lib/python3.6/site-packages/pandas/core/indexes/base.py\u001b[0m in \u001b[0;36mget_loc\u001b[0;34m(self, key, method, tolerance)\u001b[0m\n\u001b[1;32m   2657\u001b[0m                 \u001b[0;32mreturn\u001b[0m \u001b[0mself\u001b[0m\u001b[0;34m.\u001b[0m\u001b[0m_engine\u001b[0m\u001b[0;34m.\u001b[0m\u001b[0mget_loc\u001b[0m\u001b[0;34m(\u001b[0m\u001b[0mkey\u001b[0m\u001b[0;34m)\u001b[0m\u001b[0;34m\u001b[0m\u001b[0m\n\u001b[1;32m   2658\u001b[0m             \u001b[0;32mexcept\u001b[0m \u001b[0mKeyError\u001b[0m\u001b[0;34m:\u001b[0m\u001b[0;34m\u001b[0m\u001b[0m\n\u001b[0;32m-> 2659\u001b[0;31m                 \u001b[0;32mreturn\u001b[0m \u001b[0mself\u001b[0m\u001b[0;34m.\u001b[0m\u001b[0m_engine\u001b[0m\u001b[0;34m.\u001b[0m\u001b[0mget_loc\u001b[0m\u001b[0;34m(\u001b[0m\u001b[0mself\u001b[0m\u001b[0;34m.\u001b[0m\u001b[0m_maybe_cast_indexer\u001b[0m\u001b[0;34m(\u001b[0m\u001b[0mkey\u001b[0m\u001b[0;34m)\u001b[0m\u001b[0;34m)\u001b[0m\u001b[0;34m\u001b[0m\u001b[0m\n\u001b[0m\u001b[1;32m   2660\u001b[0m         \u001b[0mindexer\u001b[0m \u001b[0;34m=\u001b[0m \u001b[0mself\u001b[0m\u001b[0;34m.\u001b[0m\u001b[0mget_indexer\u001b[0m\u001b[0;34m(\u001b[0m\u001b[0;34m[\u001b[0m\u001b[0mkey\u001b[0m\u001b[0;34m]\u001b[0m\u001b[0;34m,\u001b[0m \u001b[0mmethod\u001b[0m\u001b[0;34m=\u001b[0m\u001b[0mmethod\u001b[0m\u001b[0;34m,\u001b[0m \u001b[0mtolerance\u001b[0m\u001b[0;34m=\u001b[0m\u001b[0mtolerance\u001b[0m\u001b[0;34m)\u001b[0m\u001b[0;34m\u001b[0m\u001b[0m\n\u001b[1;32m   2661\u001b[0m         \u001b[0;32mif\u001b[0m \u001b[0mindexer\u001b[0m\u001b[0;34m.\u001b[0m\u001b[0mndim\u001b[0m \u001b[0;34m>\u001b[0m \u001b[0;36m1\u001b[0m \u001b[0;32mor\u001b[0m \u001b[0mindexer\u001b[0m\u001b[0;34m.\u001b[0m\u001b[0msize\u001b[0m \u001b[0;34m>\u001b[0m \u001b[0;36m1\u001b[0m\u001b[0;34m:\u001b[0m\u001b[0;34m\u001b[0m\u001b[0m\n",
      "\u001b[0;32mpandas/_libs/index.pyx\u001b[0m in \u001b[0;36mpandas._libs.index.IndexEngine.get_loc\u001b[0;34m()\u001b[0m\n",
      "\u001b[0;32mpandas/_libs/index.pyx\u001b[0m in \u001b[0;36mpandas._libs.index.IndexEngine.get_loc\u001b[0;34m()\u001b[0m\n",
      "\u001b[0;32mpandas/_libs/hashtable_class_helper.pxi\u001b[0m in \u001b[0;36mpandas._libs.hashtable.PyObjectHashTable.get_item\u001b[0;34m()\u001b[0m\n",
      "\u001b[0;32mpandas/_libs/hashtable_class_helper.pxi\u001b[0m in \u001b[0;36mpandas._libs.hashtable.PyObjectHashTable.get_item\u001b[0;34m()\u001b[0m\n",
      "\u001b[0;31mKeyError\u001b[0m: 'learned_growth_initial_estimate'"
     ]
    }
   ],
   "source": [
    "import matplotlib.pyplot as plt\n",
    "plt.scatter(tmap_adata.obs['learned_growth_initial_estimate'],tmap_adata.X.sum(axis=1))"
   ]
  },
  {
   "cell_type": "markdown",
   "metadata": {},
   "source": [
    "The object tmap_adata is an annotated transport matrix. \n",
    "The actual transport matrix is tmap_adata.X\n",
    "\n",
    "tmap_adata.obs encodes the cell barcodes at time t0 and tmap_adata.var encodes the cell barcodes at time t1."
   ]
  },
  {
   "cell_type": "markdown",
   "metadata": {},
   "source": [
    "Compute another transport map from day 7.5 to 8"
   ]
  },
  {
   "cell_type": "code",
   "execution_count": 6,
   "metadata": {},
   "outputs": [],
   "source": [
    "tmap_adata = ot_model.compute_transport_map(7.5, 8)"
   ]
  },
  {
   "cell_type": "markdown",
   "metadata": {
    "colab": {
     "base_uri": "https://localhost:8080/",
     "height": 34
    },
    "colab_type": "code",
    "executionInfo": {
     "elapsed": 545,
     "status": "ok",
     "timestamp": 1556313222255,
     "user": {
      "displayName": "Joshua Gould",
      "photoUrl": "",
      "userId": "09978885733763067346"
     },
     "user_tz": 240
    },
    "id": "P-ZQVITQe9m-",
    "outputId": "a864cea1-48cd-468b-b9ac-845724230979"
   },
   "source": [
    "Compute all transport maps"
   ]
  },
  {
   "cell_type": "code",
   "execution_count": 7,
   "metadata": {
    "colab": {
     "base_uri": "https://localhost:8080/",
     "height": 164
    },
    "colab_type": "code",
    "executionInfo": {
     "elapsed": 370,
     "status": "error",
     "timestamp": 1556369739325,
     "user": {
      "displayName": "Joshua Gould",
      "photoUrl": "",
      "userId": "09978885733763067346"
     },
     "user_tz": 240
    },
    "id": "5lFF4FfhAexV",
    "outputId": "2c0fc345-a952-4619-fe70-8a5dcc1a7538"
   },
   "outputs": [],
   "source": [
    "#ot_model.compute_all_transport_maps()"
   ]
  }
 ],
 "metadata": {
  "colab": {
   "name": "wot-2.ipynb",
   "provenance": [],
   "version": "0.3.2"
  },
  "kernelspec": {
   "display_name": "Python 3",
   "language": "python",
   "name": "python3"
  },
  "language_info": {
   "codemirror_mode": {
    "name": "ipython",
    "version": 3
   },
   "file_extension": ".py",
   "mimetype": "text/x-python",
   "name": "python",
   "nbconvert_exporter": "python",
   "pygments_lexer": "ipython3",
   "version": "3.6.4"
  }
 },
 "nbformat": 4,
 "nbformat_minor": 2
}
