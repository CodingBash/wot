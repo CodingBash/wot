{
 "cells": [
  {
   "cell_type": "markdown",
   "metadata": {},
   "source": [
    "# Notebook 5: Fate Matrices\n",
    "\n",
    "In this notebook we show how to compute and visualize 'fates' of cells. \n",
    "Consider a pair of time points $t_i < t_j$ and a collection of cell sets $C_1,\\ldots,C_k$ spanning all cells at the later time point, $t_j$. (That is, each cell $y$ from time $t_j$ is in some $C_\\ell$). \n",
    "We show how to compute the probability that a cell $x$ from time $t_i$ will transition to a cell set $C_\\ell$ at time $t_j$. \n",
    "We call these the fate probabilities for cell $x$. The **fate matrix** $F_{t_i,t_j}$ is a matrix with a row containing the fate probabilities for each cell $x$ from time $t_i$."
   ]
  },
  {
   "cell_type": "code",
   "execution_count": 1,
   "metadata": {},
   "outputs": [
    {
     "name": "stderr",
     "output_type": "stream",
     "text": [
      "/anaconda3/lib/python3.6/site-packages/h5py/__init__.py:36: FutureWarning: Conversion of the second argument of issubdtype from `float` to `np.floating` is deprecated. In future, it will be treated as `np.float64 == np.dtype(float).type`.\n",
      "  from ._conv import register_converters as _register_converters\n"
     ]
    }
   ],
   "source": [
    "### if you haven't yet installed wot, run the line below\n",
    "#!pip install -q wot\n",
    "import ipywidgets as widgets\n",
    "import numpy as np\n",
    "import pandas as pd\n",
    "from matplotlib import pyplot as plt\n",
    "\n",
    "import wot"
   ]
  },
  {
   "cell_type": "code",
   "execution_count": 2,
   "metadata": {},
   "outputs": [],
   "source": [
    "###Load transport map model and cell sets\n",
    "tmap_model = wot.tmap.TransportMapModel.from_directory('tmaps/serum')\n",
    "cell_sets = wot.io.read_sets('data/cell_sets.gmt', as_dict=True)\n",
    "\n",
    "### create indicator vectors for each cell set\n",
    "target_fates = tmap_model.population_from_cell_sets(cell_sets, at_time=18)"
   ]
  },
  {
   "cell_type": "code",
   "execution_count": 6,
   "metadata": {},
   "outputs": [],
   "source": []
  },
  {
   "cell_type": "code",
   "execution_count": null,
   "metadata": {},
   "outputs": [],
   "source": []
  },
  {
   "cell_type": "markdown",
   "metadata": {},
   "source": [
    "## Compute fates\n",
    "In the cell below, we use the function $\\texttt{compute_fates}$ to compute fate matrices for all earlier time points. These are concatentated in the $\\texttt{fate_ds}$ dataset. We can then easily subset this dataset to access the fate matrix $F_{t_i,t_j}$ for any individual day $t_i$."
   ]
  },
  {
   "cell_type": "code",
   "execution_count": null,
   "metadata": {},
   "outputs": [],
   "source": [
    "fate_ds = tmap_model.compute_fates(target_fates)"
   ]
  },
  {
   "cell_type": "markdown",
   "metadata": {},
   "source": [
    "## Visualize fates"
   ]
  },
  {
   "cell_type": "code",
   "execution_count": null,
   "metadata": {},
   "outputs": [],
   "source": [
    "fate_dropdown1 = widgets.Dropdown(\n",
    "    options=fate_ds.var.index,\n",
    "    description='Fate 1:'\n",
    ")\n",
    "fate_dropdown2 = widgets.Dropdown(\n",
    "    options=fate_ds.var.index,\n",
    "    description='Fate 2:',\n",
    "    value=fate_ds.var.index[1]\n",
    ")\n",
    "\n",
    "def update_fate_vis(name1, name2):\n",
    "    figure = plt.figure(figsize=(10, 10))\n",
    "    fate1 = fate_ds[:, name1].X\n",
    "    fate2 = fate_ds[:, name2].X\n",
    "    p = np.log(1e-9 + np.divide(fate1, fate2, out=np.zeros_like(fate1), where=fate2 != 0))\n",
    "    plt.scatter(fate_ds.obs['day'], p, s=4, marker=',')\n",
    "    plt.xlabel('Day')\n",
    "    plt.ylabel('Log Odds')\n",
    "    plt.title('{} vs. {}'.format(name1, name2))\n",
    "\n",
    "widgets.interact(update_fate_vis, name1=fate_dropdown1, name2=fate_dropdown2)"
   ]
  }
 ],
 "metadata": {
  "kernelspec": {
   "display_name": "Python 3",
   "language": "python",
   "name": "python3"
  },
  "language_info": {
   "codemirror_mode": {
    "name": "ipython",
    "version": 3
   },
   "file_extension": ".py",
   "mimetype": "text/x-python",
   "name": "python",
   "nbconvert_exporter": "python",
   "pygments_lexer": "ipython3",
   "version": "3.6.4"
  }
 },
 "nbformat": 4,
 "nbformat_minor": 2
}
