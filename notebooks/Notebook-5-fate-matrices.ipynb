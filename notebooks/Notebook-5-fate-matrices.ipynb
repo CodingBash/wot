{
 "cells": [
  {
   "cell_type": "code",
   "execution_count": null,
   "metadata": {},
   "outputs": [],
   "source": [
    "### if you haven't yet installed wot, run the line below\n",
    "#!pip install -q wot\n",
    "\n",
    "### import some packages for this notebook\n",
    "import ipywidgets as widgets\n",
    "import numpy as np\n",
    "import pandas as pd\n",
    "from matplotlib import pyplot as plt\n",
    "import math\n",
    "\n",
    "import wot"
   ]
  },
  {
   "cell_type": "markdown",
   "metadata": {},
   "source": [
    "# Notebook 5: Fate Matrices\n",
    "\n",
    "In this notebook we show how to compute and visualize 'fates' of cells. \n",
    "Consider a pair of time points $t_i < t_j$ and a collection of cell sets $C_1,\\ldots,C_k$ spanning all cells at the later time point, $t_j$. (That is, each cell $y$ from time $t_j$ is in some $C_\\ell$). \n",
    "We show how to compute the probability that a cell $x$ from time $t_i$ will transition to a target destination $C_\\ell$ at time $t_j$. \n",
    "We call these the *fate probabilities* for cell $x$. The **fate matrix** $F_{t_i,t_j}$ is a matrix with a row containing the fate probabilities for each cell $x$ from time $t_i$.\n",
    "\n",
    "## Compute fates\n",
    "We begin by loading into memory\n",
    "* a `TransportMapModel` from a directory of pre-computed transport maps, and \n",
    "* a dictionary of cell sets. "
   ]
  },
  {
   "cell_type": "code",
   "execution_count": 2,
   "metadata": {},
   "outputs": [],
   "source": [
    "# Load transport map model and cell sets\n",
    "tmap_model = wot.tmap.TransportMapModel.from_directory('tmaps/serum')\n",
    "cell_sets = wot.io.read_sets('data/major_cell_sets.gmt', as_dict=True)"
   ]
  },
  {
   "cell_type": "markdown",
   "metadata": {},
   "source": [
    "Next, we initialize a list of `target_destinations` at time $t_j = 18$. "
   ]
  },
  {
   "cell_type": "code",
   "execution_count": 3,
   "metadata": {},
   "outputs": [],
   "source": [
    "# create indicator vectors for each cell set\n",
    "target_destinations = tmap_model.population_from_cell_sets(cell_sets, at_time=18)"
   ]
  },
  {
   "cell_type": "markdown",
   "metadata": {},
   "source": [
    "Finally, we compute the fate matrices for each earlier time point $t_i < t_j$ all at once with the  `fates` function. "
   ]
  },
  {
   "cell_type": "code",
   "execution_count": 4,
   "metadata": {},
   "outputs": [],
   "source": [
    "fate_ds = tmap_model.fates(target_destinations)"
   ]
  },
  {
   "cell_type": "markdown",
   "metadata": {},
   "source": [
    "The resulting dataset `fate_ds` contains the fate matrices for each earlier time point $t_i < t_j$. We can then easily subset this dataset to access the fate matrix $F_{t_i,t_j}$ for any individual day $t_i$.\n",
    "\n",
    "## Visualizing fate matrices\n",
    "\n",
    "In the following code blocks we provide two simple tools to visualize fate matrices. First, we plot a fate matrix with $k=3$ fates in barycentric coordinates. This is a handy coordinate system for viewing the three dimensional simplex in two dimensions. A probability vector $(p_1,p_2,p_3)$ is represented inside an equilateral triangle, where each vertex represents a pure fate like $(1,0,0)$ or $(0,1,0)$ or $(0,0,1)$."
   ]
  },
  {
   "cell_type": "code",
   "execution_count": 5,
   "metadata": {},
   "outputs": [
    {
     "data": {
      "application/vnd.jupyter.widget-view+json": {
       "model_id": "3289e35c49744bfc85a8ffed544022b3",
       "version_major": 2,
       "version_minor": 0
      },
      "text/plain": [
       "interactive(children=(Dropdown(description='Fate 1:', options=('IPS', 'Stromal', 'Neural', 'Trophoblast', 'Epi…"
      ]
     },
     "metadata": {},
     "output_type": "display_data"
    },
    {
     "data": {
      "text/plain": [
       "<function __main__.update_fate_vis(name1, name2, day)>"
      ]
     },
     "execution_count": 5,
     "metadata": {},
     "output_type": "execute_result"
    }
   ],
   "source": [
    "fate_dropdown1 = widgets.Dropdown(\n",
    "    options=fate_ds.var.index,\n",
    "    description='Fate 1:'\n",
    ")\n",
    "fate_dropdown2 = widgets.Dropdown(\n",
    "    options=fate_ds.var.index,\n",
    "    description='Fate 2:',\n",
    "    value=fate_ds.var.index[1]\n",
    ")\n",
    "day_dropdown = widgets.Dropdown(\n",
    "    options=fate_ds.obs['day'].unique(),\n",
    "    description='Day',\n",
    "    value=12\n",
    ")\n",
    "\n",
    "\n",
    "def update_fate_vis(name1, name2,day):\n",
    "    figure = plt.figure(figsize=(10, 10))   \n",
    "\n",
    "    fate1 = fate_ds[:,name1][fate_ds.obs['day']==day].X\n",
    "    fate2 = fate_ds[:,name2][fate_ds.obs['day']==day].X\n",
    "\n",
    "    Nrows = len(fate1)\n",
    "    x = np.zeros(Nrows)\n",
    "    y = np.zeros(Nrows)\n",
    "    P = np.array([[1,0],[np.cos(2*math.pi/3),math.sin(2*math.pi/3)],[math.cos(4*math.pi/3),math.sin(4*math.pi/3)]])\n",
    "\n",
    "    for i in range(0,Nrows):\n",
    "        ff = np.array([fate1[i],fate2[i],1-(fate1[i]+fate2[i])])\n",
    "        x[i] = (ff @ P)[0]\n",
    "        y[i] = (ff @ P)[1]\n",
    "\n",
    "    vx = P[:,0]\n",
    "    vy = P[:,1]\n",
    "    t1 = plt.Polygon(P, color=(0,0,0,0.1))\n",
    "    plt.gca().add_patch(t1)\n",
    "    \n",
    "    plt.scatter(x,y)\n",
    "    plt.scatter(vx,vy)\n",
    "    #plt.scatter(0,0)\n",
    "    plt.text(P[0,0]+.1, P[0,1], name1)\n",
    "    plt.text(P[1,0]-.1, P[1,1]+.1, name2)\n",
    "    plt.text(P[2,0]-.1, P[2,1]-.2, 'Other')\n",
    "    plt.axis('equal')\n",
    "    plt.axis('off')\n",
    "    #plt.xticks([])\n",
    "    #plt.yticks([])\n",
    "    \n",
    "    plt.title('{} vs. {} on day {}'.format(name1, name2,day))\n",
    "\n",
    "widgets.interact(update_fate_vis, name1=fate_dropdown1, name2=fate_dropdown2,day=day_dropdown)"
   ]
  },
  {
   "cell_type": "markdown",
   "metadata": {},
   "source": [
    "## Plotting log-odds for a pair of fates\n",
    "\n",
    "Our second visualization tool displays the log-odds for a pair of fates (the odds are defined as the ratio of probabilities, and then we take a log). We plot the log-odds on the y-axis and use the x-axis to show time. In this way, we show the relative fate probabilities for each earlier time $t_i$ for a fixed pair of target destinations. "
   ]
  },
  {
   "cell_type": "code",
   "execution_count": 6,
   "metadata": {},
   "outputs": [
    {
     "data": {
      "application/vnd.jupyter.widget-view+json": {
       "model_id": "e0786e613c0c4d2b8a9cbeb4fbe5f27a",
       "version_major": 2,
       "version_minor": 0
      },
      "text/plain": [
       "interactive(children=(Dropdown(description='Fate 1:', options=('IPS', 'Stromal', 'Neural', 'Trophoblast', 'Epi…"
      ]
     },
     "metadata": {},
     "output_type": "display_data"
    },
    {
     "data": {
      "text/plain": [
       "<function __main__.update_fate_vis(name1, name2)>"
      ]
     },
     "execution_count": 6,
     "metadata": {},
     "output_type": "execute_result"
    }
   ],
   "source": [
    "fate_dropdown1 = widgets.Dropdown(\n",
    "    options=fate_ds.var.index,\n",
    "    description='Fate 1:'\n",
    ")\n",
    "fate_dropdown2 = widgets.Dropdown(\n",
    "    options=fate_ds.var.index,\n",
    "    description='Fate 2:',\n",
    "    value=fate_ds.var.index[1]\n",
    ")\n",
    "\n",
    "def update_fate_vis(name1, name2):\n",
    "    figure = plt.figure(figsize=(10, 10))\n",
    "    fate1 = fate_ds[:, name1].X\n",
    "    fate2 = fate_ds[:, name2].X\n",
    "    p = np.log(1e-9 + np.divide(fate1, fate2, out=np.zeros_like(fate1), where=fate2 != 0))\n",
    "    plt.scatter(fate_ds.obs['day'], p, s=4, marker=',')\n",
    "    plt.xlabel('Day')\n",
    "    plt.ylabel('Log Odds')\n",
    "    plt.title('{} vs. {}'.format(name1, name2))\n",
    "\n",
    "widgets.interact(update_fate_vis, name1=fate_dropdown1, name2=fate_dropdown2)"
   ]
  }
 ],
 "metadata": {
  "kernelspec": {
   "display_name": "Python 3",
   "language": "python",
   "name": "python3"
  },
  "language_info": {
   "codemirror_mode": {
    "name": "ipython",
    "version": 3
   },
   "file_extension": ".py",
   "mimetype": "text/x-python",
   "name": "python",
   "nbconvert_exporter": "python",
   "pygments_lexer": "ipython3",
   "version": "3.7.3"
  },
  "widgets": {
   "application/vnd.jupyter.widget-state+json": {
    "state": {
     "03da9a021a4b40369dc46ee628931675": {
      "model_module": "@jupyter-widgets/controls",
      "model_module_version": "1.4.0",
      "model_name": "VBoxModel",
      "state": {
       "_dom_classes": [
        "widget-interact"
       ],
       "children": [
        "IPY_MODEL_5e04536aeab14d219bfb745312a570f3",
        "IPY_MODEL_84f84ea47f144a90b976c5fde26300b1",
        "IPY_MODEL_6ff9d087ccb847f3add462665344d4c7"
       ],
       "layout": "IPY_MODEL_801a240402794ce48719ab91b1c1160d"
      }
     },
     "06501373d4fb40f5b4a86f4291b10100": {
      "model_module": "@jupyter-widgets/base",
      "model_module_version": "1.1.0",
      "model_name": "LayoutModel",
      "state": {}
     },
     "0b5d03a1f0f6438082bd414ebd008fc1": {
      "model_module": "@jupyter-widgets/base",
      "model_module_version": "1.1.0",
      "model_name": "LayoutModel",
      "state": {}
     },
     "155a5b67d6db46d38e8741abe0630deb": {
      "model_module": "@jupyter-widgets/output",
      "model_module_version": "1.0.0",
      "model_name": "OutputModel",
      "state": {
       "layout": "IPY_MODEL_59b34667567746d6969374bcaea49a8a",
       "outputs": [
        {
         "data": {
          "image/png": "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\n",
          "text/plain": "<Figure size 720x720 with 1 Axes>"
         },
         "metadata": {
          "needs_background": "light"
         },
         "output_type": "display_data"
        }
       ]
      }
     },
     "1661f74ed71c4cfb8bc4d8acbc4e2428": {
      "model_module": "@jupyter-widgets/controls",
      "model_module_version": "1.4.0",
      "model_name": "DropdownModel",
      "state": {
       "_options_labels": [
        "0.0",
        "0.5",
        "1.0",
        "1.5",
        "2.0",
        "2.5",
        "3.0",
        "3.5",
        "4.0",
        "4.5",
        "5.0",
        "5.5",
        "6.0",
        "6.5",
        "7.0",
        "7.5",
        "8.0",
        "8.25",
        "8.5",
        "8.75",
        "9.0",
        "9.5",
        "10.0",
        "10.5",
        "11.0",
        "11.5",
        "12.0",
        "12.5",
        "13.0",
        "13.5",
        "14.0",
        "14.5",
        "15.0",
        "15.5",
        "16.0",
        "16.5",
        "17.0",
        "17.5",
        "18.0"
       ],
       "description": "Day",
       "index": 26,
       "layout": "IPY_MODEL_adbed7f27e994d0fb3774b63c0174f59",
       "style": "IPY_MODEL_91eb43578e1c4ed1aeda6419fbf4e5c8"
      }
     },
     "228ed908d8e041718934d2813ce41ece": {
      "model_module": "@jupyter-widgets/controls",
      "model_module_version": "1.4.0",
      "model_name": "DescriptionStyleModel",
      "state": {
       "description_width": ""
      }
     },
     "27ac5da03911492f9077f630449a5598": {
      "model_module": "@jupyter-widgets/output",
      "model_module_version": "1.0.0",
      "model_name": "OutputModel",
      "state": {
       "layout": "IPY_MODEL_9574be3e443f4234be690778fdec6165",
       "outputs": [
        {
         "data": {
          "image/png": "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\n",
          "text/plain": "<Figure size 720x720 with 1 Axes>"
         },
         "metadata": {
          "needs_background": "light"
         },
         "output_type": "display_data"
        }
       ]
      }
     },
     "3289e35c49744bfc85a8ffed544022b3": {
      "model_module": "@jupyter-widgets/controls",
      "model_module_version": "1.4.0",
      "model_name": "VBoxModel",
      "state": {
       "_dom_classes": [
        "widget-interact"
       ],
       "children": [
        "IPY_MODEL_f94ff691ba0547ad8a3187ee561fa164",
        "IPY_MODEL_68bc922d17a24bbc9bd97cec4c01134d",
        "IPY_MODEL_b864e4ebea814915b928084e06467e0c",
        "IPY_MODEL_de68088167cd41b9a393e9012f13f6a0"
       ],
       "layout": "IPY_MODEL_477b53ff1dad441f88611875f3296e34"
      }
     },
     "32bf52de9ef841c38e2b644a92ba96a5": {
      "model_module": "@jupyter-widgets/controls",
      "model_module_version": "1.4.0",
      "model_name": "DescriptionStyleModel",
      "state": {
       "description_width": ""
      }
     },
     "417b36da14b8436badfb21e3ecd7b26e": {
      "model_module": "@jupyter-widgets/base",
      "model_module_version": "1.1.0",
      "model_name": "LayoutModel",
      "state": {}
     },
     "43e8af28d35a4286b4bf73ca959d0274": {
      "model_module": "@jupyter-widgets/controls",
      "model_module_version": "1.4.0",
      "model_name": "DescriptionStyleModel",
      "state": {
       "description_width": ""
      }
     },
     "477b53ff1dad441f88611875f3296e34": {
      "model_module": "@jupyter-widgets/base",
      "model_module_version": "1.1.0",
      "model_name": "LayoutModel",
      "state": {}
     },
     "4c74f7868986479ba8aba0de0ffb91dd": {
      "model_module": "@jupyter-widgets/controls",
      "model_module_version": "1.4.0",
      "model_name": "DropdownModel",
      "state": {
       "_options_labels": [
        "IPS",
        "Stromal",
        "Neural",
        "Trophoblast",
        "Epithelial",
        "Other"
       ],
       "description": "Fate 2:",
       "index": 1,
       "layout": "IPY_MODEL_0b5d03a1f0f6438082bd414ebd008fc1",
       "style": "IPY_MODEL_64364e713d794539b6101f7223fd6ecc"
      }
     },
     "59b34667567746d6969374bcaea49a8a": {
      "model_module": "@jupyter-widgets/base",
      "model_module_version": "1.1.0",
      "model_name": "LayoutModel",
      "state": {}
     },
     "5e04536aeab14d219bfb745312a570f3": {
      "model_module": "@jupyter-widgets/controls",
      "model_module_version": "1.4.0",
      "model_name": "DropdownModel",
      "state": {
       "_options_labels": [
        "IPS",
        "Stromal",
        "Neural",
        "Trophoblast",
        "Epithelial",
        "Other"
       ],
       "description": "Fate 1:",
       "index": 0,
       "layout": "IPY_MODEL_6afdd076727241d3a0d06e4f33095039",
       "style": "IPY_MODEL_43e8af28d35a4286b4bf73ca959d0274"
      }
     },
     "63050b4b68bc4112a16d2d603c1a5186": {
      "model_module": "@jupyter-widgets/controls",
      "model_module_version": "1.4.0",
      "model_name": "DescriptionStyleModel",
      "state": {
       "description_width": ""
      }
     },
     "637f19596efe4c2988d65871ee7a3897": {
      "model_module": "@jupyter-widgets/controls",
      "model_module_version": "1.4.0",
      "model_name": "DescriptionStyleModel",
      "state": {
       "description_width": ""
      }
     },
     "64364e713d794539b6101f7223fd6ecc": {
      "model_module": "@jupyter-widgets/controls",
      "model_module_version": "1.4.0",
      "model_name": "DescriptionStyleModel",
      "state": {
       "description_width": ""
      }
     },
     "68bc922d17a24bbc9bd97cec4c01134d": {
      "model_module": "@jupyter-widgets/controls",
      "model_module_version": "1.4.0",
      "model_name": "DropdownModel",
      "state": {
       "_options_labels": [
        "IPS",
        "Stromal",
        "Neural",
        "Trophoblast",
        "Epithelial",
        "Other"
       ],
       "description": "Fate 2:",
       "index": 1,
       "layout": "IPY_MODEL_94a303258cbb46bb9fe8c41cc6928b20",
       "style": "IPY_MODEL_dec3259172194fb1ae14c5e56a6d8de7"
      }
     },
     "6afdd076727241d3a0d06e4f33095039": {
      "model_module": "@jupyter-widgets/base",
      "model_module_version": "1.1.0",
      "model_name": "LayoutModel",
      "state": {}
     },
     "6c75d1d0000c4d3cbdb0066706fbfe30": {
      "model_module": "@jupyter-widgets/base",
      "model_module_version": "1.1.0",
      "model_name": "LayoutModel",
      "state": {}
     },
     "6e6eb049fa1141739c9ab52c9c46c7db": {
      "model_module": "@jupyter-widgets/base",
      "model_module_version": "1.1.0",
      "model_name": "LayoutModel",
      "state": {}
     },
     "6ff9d087ccb847f3add462665344d4c7": {
      "model_module": "@jupyter-widgets/output",
      "model_module_version": "1.0.0",
      "model_name": "OutputModel",
      "state": {
       "layout": "IPY_MODEL_95728435ca9443028ed64b949fe27805",
       "outputs": [
        {
         "data": {
          "image/png": "iVBORw0KGgoAAAANSUhEUgAAAmoAAAJcCAYAAABJ8YjPAAAABHNCSVQICAgIfAhkiAAAAAlwSFlzAAALEgAACxIB0t1+/AAAADl0RVh0U29mdHdhcmUAbWF0cGxvdGxpYiB2ZXJzaW9uIDMuMC4zLCBodHRwOi8vbWF0cGxvdGxpYi5vcmcvnQurowAAIABJREFUeJzt3X+0pXddH/r3h4mONCCEJvwIgQYw1ktcGnEa0VaFEjWAlwC3cuGCgnibolL7+zZKFxBW6Uq1WOuPoqHyo/JToBEqv0Er17sMOqEBEwEJMZSYkIygJIw4wvC5f+w9cGY4Z+bkZM5+vnvv12utvfbez/PsfT77mefs857P9/lR3R0AAMZzl6kLAABgc4IaAMCgBDUAgEEJagAAgxLUAAAGJagBAAxKUANYAVXVVfV1U9cBnFyCGrAwVXVDVV0wf/yMqjpcVZ+tqtuq6uqq+v4Ny/5UVf3JfP6NVfW6Bdd6blW9s6r+vKr+oqquqqrHzOc9oqpuXGQ9wHoS1IAp/V533y3JPZP8apJfr6p7VdXTk/xgkgvm8/clec+Ca/vvSd6V5D5J7p3kJ5Lctt0XV9Upu1QXsEYENWBy3f3FJC9NctckD07yd5K8o7s/Np//ye6+fLPXVtUlVfWGY6b9p6r6+fnjZ1TV9VV1+7xD99QT1VNVpyd5UJKXdPdfz2//X3f/blWdmuRtSc6cd/s+W1VnVtXzq+oNVfXKqrotyTOqam9V/VxV3TS//VxV7Z3/jEfMO4X/T1XdWlU3V9Xjq+oxVfXHVfXpqvqpDTWdX1W/N+/u3VxVv1hVX33H1zawTAQ1YHLz7tP/neSzST6a5MokP1RV/6qq9lXVnuO8/DVJHlNVXzt/rz1JnpTk1fNQ9fNJHt3dd0/yHUmu3kZJn0pyXZJXzsPTfY7M6O6DSR6d5Kbuvtv8dtN89kVJ3pBZh/BVSZ6T5OFJzkvyzUnOT/JvNvyc+yb5miT3T/LcJC9J8rQk35rkO5M8t6oePF/2cJJ/luT0JN+e5FFJfmwbnwVYYoIaMKWHV9VfJPlkkqckeUJ3f6a7X5nkHyf5viS/k+TWqrpkszfo7o8neX+Sx88n/f0kf9ndV86ffzHJN1bVXbv75u6+9kRF9ewiyI9MckOSFyW5uareW1XnnOClv9fdv9HdX+zuzyV5apIXdPet3X0gyaWZDeke8fkkL+zuzyd5bWYh7D919+3zOq9N8k3zmq7q7iu7+wvdfUOSX0ny3Sf6LMByE9SAKV3Z3ffs7tO7++Hd/e4jM7r7Vd19QWbdqWcleUFVfd8W7/PqzIJekvxf8+dHul//5/z1N1fVW6rqG7ZTWHff2N3P7u6HJPlbSQ4m+a8neNknjnl+ZpKPb3j+8fm0Iz7V3Yfnjz83v79lw/zPJblbklTV11fVb1bVJ+dDq/8us2AHrDBBDRhad3++u1+f5INJvnGLxV6f5BFVdVaSJ2Qe1Oavf0d3f0+S+yX5cGbDi3e0hk8k+aUNP7+3WvSY5zdlFvKOeOB82k68OLP6z+nur03yU0lqh+8FLAlBDRjO/ACAx1bV3avqLlX16CTnJnnfZsvPhxX/R5KXJfmT7v7Q/H3uU1WPm++rdiizfeAOb/Yex/z806rq0qr6uvnPPz3JMzPbdy6Zdb3+ZlXd4wRv9Zok/6aqzpi/x3OTvPJEP38Ld8/sqNPPzruCP7rD9wGWiKAGjOi2zDpG/yvJXyT56SQ/2t2/e5zXvDrJBdnQTcvsO+5fZNbF+nRm+3T9WJJU1XdW1We3eK+/TnJ2knfPa7kms6D3jCTp7g9nFsKunx+Feebmb5N/m2R/Zt3AP8xsX7p/e5zPcDz/MrNh3dsz6wou9LxywDRqts8sAACj0VEDABiUoAYAMChBDQBgUIIaAMCgVuKiwaeffnqfffbZU5cBAHBCV1111Z919xnbWXYlgtrZZ5+d/fv3T10GAMAJVdXHT7zUjKFPAIBBCWoAAIMS1AAABiWoAQAMSlADABiUoAYAMChBDQBgUIIaAMCgBDUAgEEJagAAgxLUAAAGJagBAAxKUAMAGJSgBgAwKEENAGBQghoAwKAENQCAQQlqAACDEtQAAAYlqAEADEpQAwAYlKAGADCoU6YuAADgZDr3eW/PwUOHc+rePbn20gunLudO0VEDAFbKwUOHj7pfZoIaAMCgBDUAgEEJagAAgxLUAAAGJagBAAxKUAMAGNSkQa2qXlpVt1bVNRumPb+q/rSqrp7fHjNljQAAU5m6o/byJJudie4/dvd589tbF1wTAMAQJg1q3f3eJJ+esgYAgFFN3VHbyrOr6oPzodHTNlugqi6uqv1Vtf/AgQOLrg8AYNeNGNRenOQhSc5LcnOSF222UHdf3t37unvfGWecscj6AAAWYrig1t23dPfh7v5ikpckOX/qmgAApjBcUKuq+214+oQk12y1LADAKjtlyh9eVa9J8ogkp1fVjUmel+QRVXVekk5yQ5J/NFmBAAATmjSodfdTNpn8qwsvBABgQMMNfQIAMCOoAQAMSlADABiUoAYAMChBDQBgUIIaAMCgBDUAgEEJagAAgxLUAAAGJagBAAxKUAMAGJSgBgAwKEENAGBQghoAwKAENQCAQQlqAACDEtQAAAYlqAEADEpQAwAYlKAGADAoQQ0AYFCCGgDAoAQ1AIBBCWoAAIMS1AAABiWoAQAMSlADABiUoAYAMChBDQBgUIIaAMCgBDUAgEEJagAAgxLUAAAGJagBAAxKUAMAGJSgBgAwKEENAGBQghoAwKAENQCAQQlqAACDEtQAAAYlqAEADEpQAwAYlKAGADAoQQ0AYFCCGgDAoAQ1AIBBCWoAAIMS1AAABiWoAQAMSlADABiUoAYAMChBDQBgUIIaAMCgBDUAgEEJagAAgxLUAAAGJagBAAxKUAMAGNSkQa2qXlpVt1bVNRum3auq3lVVH53fnzZljQAAU5m6o/byJBceM+2SJO/p7nOSvGf+HABg7Uwa1Lr7vUk+fczki5K8Yv74FUkev9CiAAAGMXVHbTP36e6bk2R+f+/NFqqqi6tqf1XtP3DgwEILBABYhBGD2rZ09+Xdva+7951xxhlTlwMAcNKdMnUBm7ilqu7X3TdX1f2S3Dp1QQDA4p37vLfn4KHDOXXvnlx76bG7tK+HETtqb07y9Pnjpyd504S1AAATOXjo8FH362jq03O8JsnvJfnbVXVjVf1IksuSfE9VfTTJ98yfAwCsnUmHPrv7KVvMetRCCwEAGNCIQ58AAERQAwAYlqAGADAoQQ0AYFCCGgDAoAQ1AIBBCWoAAIMS1AAABiWoAQAMSlADABiUoAYAMChBDQBgUIIaAMCgBDUAgEEJagAAgxLUAAAGJagBAAxKUAMAGJSgBgAwKEENAGBQghoAwKAENQCAQQlqAACDEtQAAAYlqAEADEpQAwAY1ClTFwAArLazL3nLlx7fcNljJ6xk+eioAQAMSlADABiUoAYAMChBDQBgUIIaAMCgBDUAgEEJagAAgxLUAAAGJagBAAxKUAMAGJSgBgAwKEENAGBQghoAwKBOmboAAGA5nPu8t+fgocM5de+eXHvphVOXsxZ01ACAbTl46PBR9+w+QQ0AYFCCGgDAoAQ1AIBBCWoAAIMS1AAABiWoAQAMSlADABiUoAYArJRT9+456n6ZuTIBAKyRsy95y5ce33DZYyesZPes0lUTBDUAYKWsUhg19AkAMChBDQBgUIIaAMCgBDUAgEE5mAAAltC5z3t7Dh46nFP37lmpoxw5mo4aACyhg4cOH3XPahq2o1ZVNyS5PcnhJF/o7n3TVgQAsFjDBrW5R3b3n01dBADAFAx9AgAMauSg1kneWVVXVdXFx86sqouran9V7T9w4MAE5QEA7K6Rhz7/bnffVFX3TvKuqvpwd7/3yMzuvjzJ5Umyb9++nqpIALgzHL3J8QzbUevum+b3tya5Isn501YEACefozc5niE7alV1apK7dPft88ffm+QFE5cFAFtapQuBM44hg1qS+yS5oqqSWY2v7u63T1sSAMtkp8FJ4GIkQwa17r4+yTdPXQcA07MPF+ts2H3UACCxDxfrbciOGgCrx5Ai3HGCGsCa2umQosAFi2PoE2BNGVKE8emoASw5O9ufXKfu3fOl9QlT01EDWHI6Y7C6BDUA7pAjnaZV7TgJvuNY9W1tOwx9AqypnR4IsNMgs+ghxZ3+PEOf4xCaBTWAYaz6vmbL8pmWpU7Wg6AGMIhl6R4suuO06M7fTunEsRsENYA1tdMO3qI7Tjutc9HBaafrRcDbmvP0CWoAa2tZOnjLUueyBF+Wi6AGwB2yLPvS7TTg7fTzLUugXCbLsq3tJkENYMntdHhop0Nuqx5IluWo1nWw6tvadghqACfRFNfBXPSQ27IcTLBTO/18O12f69A1sq/ZzglqAEtu0V2HZQkTiw5cO6VrxPEIagBLbtEdrp12gBb9ulUPlMs01DpFp3lVCGoAS26nHZmd/vHc6c9b9OuWxU4D5aqvF2YENYBNrMN+Qzu16A7QMnWOOLl03wQ1gE3pVmxtp8F10a9j+fkPk6AGsLZ0K9bTnelQLrq76T9MghqwxtZ9B2fdis1ZL4zkLlMXAMA0dCs2tyzr5UhXa5EnLF6WdbNKdNSAlaY7wh21LAcvLMsJi7lzBDVgpekAjGPR51Fjc3dmHQp5iyeoAbAQiz6Pmourb+7O7JvpOqiLJ6gBS2/dDwpYFstyxKBQwUgENWApCGPLb1mGLZelzmWy6l3K3SSoATA0Ha6Ty390lougBiyUzhh3lA7XOITmxRPUgB0RuNbXshy9uSyhwlGtW/PdIqgBcActy9GbyxJ6Fr1e7gz7mi2eoAZrTmeM0a16ONhp52/V1wszghoAQ9tpkFmWIcVFX2Fgmf5ztiz/hrtJUIMVsUxfvnBH7PQP9Kp3nFb98yXr8RlPRFADYCEWvXP/on+e7g+7QVADYGjLcjCB7g+7QVCDwRjCZFUt+mjRZbHTIOr7YT0IagAMbVkOJnD0JrtBUINdojMGJ8eiDyZYloA3xT5xy3IS4VUiqAEwtJ0GkkV3uHb6umU6qlX3b/HuMnUBAHA8iw4HR4LdHQ14O30dHI+OGpyAIUxYTuvQ4WL1CWqsBec3ArbL9wUjMfTJWvA/XWC7fF8wEh01ANhgpwch2DWC3SCoAcAGhjsZiaDGUrFjP7Bdy3J+skWffoTlIqgBsJKW5ZJViz46leUiqAHABsvSiTPCsB4c9QkAJ4GjRdkNghoAbCBwMRJDn0xCyx5YNXbuZzfoqAHASaATx27QUeNO0RkDuHN04jgeHTUAmJBOHMcjqAEADEpQA4CT4MjQpSFMTib7qJHEvmYAd9Y6DGHan27xhu2oVdWFVfWRqrquqi6Zuh4AWHfrEEZHM2RQq6o9SX4pyaOTPDTJU6rqodNWBQCwWEMGtSTnJ7muu6/v7r9O8tokF01cEwDAQo26j9r9k3xiw/Mbk3zbxgWq6uIkFyfJAx/4wMVVNjj7mgHA6hg1qNUm0/qoJ92XJ7k8Sfbt29ebLL/Uzn3e27+0w+a1l144dTkAwARGHfq8MckDNjw/K8lNE9UyCTtsAgCjBrU/SHJOVT2oqr46yZOTvHnimgAAFmrIoc/u/kJVPTvJO5LsSfLS7r524rJ2xBAmALBTQwa1JOnutyZ569R13FmGMAGAnRp16BMAYO0N21EbjdNeAACLpqMGADAoQQ0AYFCCGgDAoAQ1AIBB3aGgVlWnVdU37VYxAAB82QmDWlX9j6r62qq6V5IPJHlZVf3s7pcGALDettNRu0d335bkiUle1t3fmuSC3S0LAIDtBLVTqup+SZ6U5Dd3uR4AAOa2E9RekNk1N6/r7j+oqgcn+ejulgUAwAmvTNDdr0/y+g3Pr0/yf+xmUQAAHCeoVdUvJOmt5nf3T+xKRQAAJDn+0Of+JFcl+ZokD8tsuPOjSc5Lcnj3SwMAWG9bdtS6+xVJUlXPSPLI7v78/PkvJ3nnQqoDAFhj2zmY4Mwkd9/w/G7zaQAA7KITHkyQ5LIk/7Oqfnv+/LuTPH/XKgIAIMn2jvp8WVW9Lcm3zSdd0t2f3N2yxnPDZY+dugQAYM0c76jPhx0z6RPz+zOr6szufv/ulQUAwPE6ai+a339Nkn2ZXeezknxTkvcl+Xu7WxoAwHrb8mCC7n5kdz8yyceTPKy7982v8/ktSa5bVIEAAOtqO0d9fkN3/+GRJ919TWbnUgMAYBdt56jPD1XVf0nyysyuVPC0JB/a1aoAANhWUPvhJD+a5J/Mn783yYt3rSIAAJJsL6glybsyuxrBx7r7r3axHgAA5o53eo5Tkvy7JM/M7ICCuyQ5q6peluQ5Ry4pxfE5/xoAsFPHO5jgZ5LcK8mDuvtbu/tbkjwkyT2T/IdFFAcAsM6OF9S+P8k/7O7bj0zo7tsy21/tMbtdGADAujteUOvu7k0mHs7s6E8AAHbR8YLaH1XVDx07saqeluTDu1cSAADJ8Y/6/PEk/62qnpnkqsy6aH8nyV2TPGEBtQEArLUtg1p3/2mSb6uqv5/k3Myu8/m27n7PoooDAFhnJzyPWnf/VpLfWkAtbOC0HgDAdq71CQDABAS1FXPq3j1H3QMAy0tQAwAY1An3Uauq2/OV5037TJL9Sf5Fd1+/G4WxMwcPHT7qHgBYXtu5KPvPJrkpyaszO/LzyUnum+QjSV6a5BG7VRx33Kl79+TgocOGPgFgBWwnqF3Y3d+24fnlVXVld7+gqn5qtwpjZ6699MKpSwAATpLt7KP2xap6UlXdZX570oZ5LiUFALBLthPUnprkB5PcOr/9YJKnVdVdkzx7F2sDAFhr2znh7fVJ/vctZv/uyS0HAIAjTthRq6qzquqKqrq1qm6pqjdW1VmLKA4AYJ1tZ+jzZUnenOTMJPdP8t/n0wAA2EXbCWpndPfLuvsL89vLk5yxy3UBAKy97QS1P6uqp1XVnvntaUk+tduFAQCsu+0EtWcmeVKSTya5Ock/SPLDu1kUAADbCGrd/b+6+3HdfUZ337u7H5/kiQuoDQBgre30ouz//KRWAQDAV9hpUKuTWgWTO3JtUNcIBYBxbOdan5tx6agV4xqhADCeLYNaVd2ezQNZJbnrrlUEAECS4wS17r77IgsBAOBoO91HDQCAXSaoAQAMSlADABiUoAYAMChBDQBgUIIaAMCghgtqVfX8qvrTqrp6fnvM1DUBAExhp1cm2G3/sbv/w9RFcGI3XPbYqUsAgJU1XEcNAICZUYPas6vqg1X10qo6bbMFquriqtpfVfsPHDiw6PoAAHbdJEGtqt5dVddscrsoyYuTPCTJeUluTvKizd6juy/v7n3dve+MM85YYPUAAIsxyT5q3X3Bdparqpck+c1dLocJnLp3Tw4eOpxT9+6ZuhQAGNZwQ59Vdb8NT5+Q5JqpagEAmNKIR33+dFWdl6ST3JDkH01bDrvh4KHDR90DAF9puKDW3T84dQ0AACMYbuiT9XBk3zT7qAHA1obrqLEerr30wqlLAIDh6agBAAxKUGOpGDIFYJ0Y+mSpGDIFYJ3oqAEADEpHDQAmdMNlj526BAYmqLFUzn3e27906SnDoMAq8L3G8Rj6ZKm4ogGwanyvcTyCGkvFUZ8ArBNDnywVwwIArBMdNQCAQQlqrAVDpgAsI0OfrAVDpgAsIx01AIBB6ajBCTgZJQBT0VGDXWK/OADuLB012CU73S9OBw+AI3TUAAAGpaMGK0InDmD16KjBmrMvHcC4dNRgzTnHHMC4BDVgR3Y61LobrzPsC6wqQQ1YaTsNeIsOogCbEdQABrHTkHfq3j05eOiw/QxhBQlqAEvOOftgdQlqANwhOn+wOIIaAAuh8wd3nPOoAbCSnCOQVaCjBsBKco5AVoGOGgDAoHTUAGAD+8QxEh01AIBBCWoAAIMy9AkAJ4EhU3aDjhoAwKAENQCAQRn6BIAJGTLleHTUAAAGJagBAAxKUAMAGJSgBgAwKAcTAMASchDCetBRAwAYlKAGADAoQQ0AYFCCGgDAoAQ1AIBBCWoAAINyeg4AWCNO67FcdNQAAAYlqAEADEpQAwAYlKAGADAoQQ0AYFCCGgDAoAQ1AIBBCWoAAIMS1AAABjXJlQmq6geSPD/J/5bk/O7ev2HeTyb5kSSHk/xEd79jihoBgKO5qsHiTXUJqWuSPDHJr2ycWFUPTfLkJOcmOTPJu6vq67v78OJLBACY1iRDn939oe7+yCazLkry2u4+1N1/kuS6JOcvtjoAgDGMto/a/ZN8YsPzG+fTvkJVXVxV+6tq/4EDBxZSHADAIu3a0GdVvTvJfTeZ9ZzuftNWL9tkWm+2YHdfnuTyJNm3b9+mywAALLNdC2rdfcEOXnZjkgdseH5WkptOTkUAAMtltKHPNyd5clXtraoHJTknye9PXBMAwCQmCWpV9YSqujHJtyd5S1W9I0m6+9okv57kj5K8PcmPO+ITAFhXk5yeo7uvSHLFFvNemOSFi60IAGA8ow19AgAwJ6gBAAxKUAMAGJSgBgAwKEENAGBQghoAwKAENQCAQQlqAACDEtQAAAY1yZUJAID1ccNlj526hKWlowYAMChBDQBgUIIaAMCgBDUAgEEJagAAgxLUAAAGJagBAAxKUAMAGJSgBgAwKEENAGBQghoAwKAENQCAQQlqAACDEtQAAAYlqAEADEpQAwAYlKAGADAoQQ0AYFCCGgDAoAQ1AIBBCWoAAIMS1ACAIZ26d89R9+tIUAMAGJSgBgAM6eChw0fdryNBDQBgUIIaADAk+6gJagAAwxLUAIAh2UdNUAMABmXoMzll6gIAADZz7aUXTl3C5HTUAAAGJagBAAxKUAMAGJSgBgAwKEENAGBQjvoEAIZ07vPenoOHDufUvXvW9ghQHTUAYEhOeCuoAQCDcsJbQ58AwKDWdbhzIx01AIBBCWoAAIMS1AAABiWoAQAMSlADABiUoAYAMChBDQBgUIIaAMCgBDUAgEFNEtSq6geq6tqq+mJV7dsw/eyq+lxVXT2//fIU9QEAjGCqS0hdk+SJSX5lk3kf6+7zFlwPAMBwJglq3f2hJKmqKX48AMBSGHEftQdV1f+sqt+pqu/caqGquriq9lfV/gMHDiyyPgCAhdi1jlpVvTvJfTeZ9ZzuftMWL7s5yQO7+1NV9a1JfqOqzu3u245dsLsvT3J5kuzbt69PVt0AAKPYtaDW3Rfs4DWHkhyaP76qqj6W5OuT7D/J5QEADG+ooc+qOqOq9swfPzjJOUmun7YqAIBpTHV6jidU1Y1Jvj3JW6rqHfNZ35Xkg1X1gSRvSPKs7v70FDUCAExtqqM+r0hyxSbT35jkjYuvCABgPEMNfQIA8GWCGgDAoAQ1AIBBCWoAAIMS1AAABiWoAQAMSlADABiUoAYAMChBDQBgUIIaAMCgBDUAgEEJagAAgxLUAAAGJagBAAxKUAMAGJSgBgAwKEENAGBQghoAwKAENQCAQQlqAACDEtQAAAYlqAEADEpQAwAYlKAGADAoQQ0AYFCCGgDAoAQ1AIBBCWoAAIMS1AAABiWoAQAMSlADABiUoAYAMChBDQBgUIIaAMCgBDUAgEEJagAAgxLUAAAGJagBAAxKUAMAGJSgBgAwKEENAGBQghoAsFJO3bvnqPtlJqgBACvl4KHDR90vM0ENAFgpq9RRO2XqAgAATqZrL71w6hJOGkENAFgpZ1/yli89vuGyx05YyZ1n6BMAYFCCGgDAoAQ1AGClrNLBBIIaALBSnJ4DAGBQq9RRc9QnALBSVun0HDpqAACDEtQAAAYlqAEADEpQAwAYlKAGADAoQQ0AYFCCGgDAoCYJalX1M1X14ar6YFVdUVX33DDvJ6vquqr6SFV93xT1AQCMYKqO2ruSfGN3f1OSP07yk0lSVQ9N8uQk5ya5MMl/rqrlP60wAMAOTBLUuvud3f2F+dMrk5w1f3xRktd296Hu/pMk1yU5f4oaAQCmNsI+as9M8rb54/sn+cSGeTfOp32Fqrq4qvZX1f4DBw7scokAAIu3a9f6rKp3J7nvJrOe091vmi/znCRfSPKqIy/bZPne7P27+/IklyfJvn37Nl0GAGCZ7VpQ6+4Ljje/qp6e5PuTPKq7jwStG5M8YMNiZyW5aXcqBAAY21RHfV6Y5F8neVx3/+WGWW9O8uSq2ltVD0pyTpLfn6JGAICp7VpH7QR+McneJO+qqiS5sruf1d3XVtWvJ/mjzIZEf7y7D09UIwDApCYJat39dceZ98IkL1xgOQAAQxrhqE8AADYhqAEADEpQAwAY1FQHEwAADOXsS97ypcc3XPbYCSv5Mh01AIBBCWoAAIMy9AkAkHGGOzfSUQMAGJSgBgAwKEENAGBQghoAwKAENQCAQQlqAACDEtQAAAYlqAEADEpQAwAYlKAGADAoQQ0AYFCCGgDAoAQ1AIBBCWoAAIMS1AAABiWoAQAMSlADABiUoAYAMChBDQBgUIIaAMCgBDUAgEEJagAAg6runrqGO62qDiT5+AJ+1OlJ/mwBP2fZWC9bs242Z71szbrZnPWyOetlayOvm7/V3WdsZ8GVCGqLUlX7u3vf1HWMxnrZmnWzOetla9bN5qyXzVkvW1uVdWPoEwBgUIIaAMCgBLU75vKpCxiU9bI162Zz1svWrJvNWS+bs162thLrxj5qAACD0lEDABiUoAYAMChB7RhVdWFVfaSqrquqSzaZv7eqXjef/76qOnvxVS5eVT2gqn67qj5UVddW1T/ZZJlHVNVnqurq+e25U9S6aFV1Q1X94fwz799kflXVz8+3mQ9W1cOmqHPRqupvb9gWrq6q26rqnx6zzNpsM1X10qq6taqu2TDtXlX1rqr66Pz+tC1e+/T5Mh+tqqcvrurdt8V6+Zmq+vD89+WKqrrnFq897u/eMttivTy/qv50w+/LY7Z47XH/ji27LdbN6zaslxuq6uotXrt820x3u81vSfYk+ViSByf56iQfSPLQY5b5sSS/PH/85CSvm7ruBa2b+yV52Pzx3ZP88Sbr5hFJfnPqWidYNzckOf048x+T5G1JKsnDk7xv6ponWEd7knwys5M8ruU2k+S7kjwsyTUbpv10kkvmjy9J8u+yaNDoAAAFoElEQVQ3ed29klw/vz9t/vi0qT/PLq+X701yyvzxv99svcznHfd3b5lvW6yX5yf5lyd43Qn/ji37bbN1c8z8FyV57qpsMzpqRzs/yXXdfX13/3WS1ya56JhlLkryivnjNyR5VFXVAmucRHff3N3vnz++PcmHktx/2qqWxkVJ/mvPXJnknlV1v6mLWrBHJflYdy/iCiJD6u73Jvn0MZM3fp+8IsnjN3np9yV5V3d/urv/PMm7kly4a4Uu2Gbrpbvf2d1fmD+9MslZCy9sYltsL9uxnb9jS+1462b+9/hJSV6z0KJ2kaB2tPsn+cSG5zfmK8PIl5aZf5F8JsnfXEh1g5gP935LkvdtMvvbq+oDVfW2qjp3oYVNp5O8s6quqqqLN5m/ne1q1T05W39xruM2c8R9uvvmZPafoST33mSZdd9+nplZR3ozJ/rdW0XPng8Jv3SLofJ1316+M8kt3f3RLeYv3TYjqB1ts87Ysecv2c4yK6uq7pbkjUn+aXffdszs92c2tPXNSX4hyW8sur6J/N3ufliSRyf58ar6rmPmr/s289VJHpfk9ZvMXtdt5o5Y2+2nqp6T5AtJXrXFIif63Vs1L07ykCTnJbk5syG+Y63t9jL3lBy/m7Z024ygdrQbkzxgw/Ozkty01TJVdUqSe2Rn7emlU1VflVlIe1V3/7dj53f3bd392fnjtyb5qqo6fcFlLlx33zS/vzXJFZkNPWy0ne1qlT06yfu7+5ZjZ6zrNrPBLUeGwef3t26yzFpuP/ODJr4/yVN7vnPRsbbxu7dSuvuW7j7c3V9M8pJs/nnXcntJvvQ3+YlJXrfVMsu4zQhqR/uDJOdU1YPmXYAnJ3nzMcu8OcmRo67+QZLf2upLZJXMx/1/NcmHuvtnt1jmvkf216uq8zPbvj61uCoXr6pOraq7H3mc2U7Q1xyz2JuT/ND86M+HJ/nMkeGuNbHl/3DXcZs5xsbvk6cnedMmy7wjyfdW1Wnzoa7vnU9bWVV1YZJ/neRx3f2XWyyznd+9lXLMvq1PyOafdzt/x1bVBUk+3N03bjZzabeZqY9mGO2W2RF6f5zZUTPPmU97QWZfGEnyNZkN4VyX5PeTPHjqmhe0Xv5eZu3zDya5en57TJJnJXnWfJlnJ7k2s6OMrkzyHVPXvYD18uD55/3A/LMf2WY2rpdK8kvzbeoPk+ybuu4Frp+/kVnwuseGaWu5zWQWVm9O8vnMuh4/ktn+re9J8tH5/b3my+5L8l82vPaZ8++c65L88NSfZQHr5brM9rM68l1z5Ej7M5O8df5409+9VbltsV5+bf4d8sHMwtf9jl0v8+df8XdslW6brZv59Jcf+W7ZsOzSbzMuIQUAMChDnwAAgxLUAAAGJagBAAxKUAMAGJSgBgAwqFOmLgBgClV1OLNTHXxVZme/f0WSn+vZyUQBhiCoAevqc919XpJU1b2TvDqzK408b9KqADYw9AmsvZ5dTubizC54XVV1dlX9v1X1/vntO5Kkqn6tqi468rqqelVVPW6quoHV54S3wFqqqs92992OmfbnSb4hye1Jvtjdf1VV5yR5TXfvq6rvTvLPuvvxVXWPzM6af053f2HhHwBYC4Y+Ab6s5vdfleQXq+q8JIeTfH2SdPfvVNUvzYdKn5jkjUIasJsENYAkVfXgzELZrZntp3ZLkm/ObBeRv9qw6K8leWpmF7t+5oLLBNaMoAasvao6I8kvJ/nF7u75sOaN3f3Fqnp6kj0bFn95kt9P8snuvnbx1QLrRFAD1tVdq+rqfPn0HL+W5Gfn8/5zkjdW1Q8k+e0kB4+8qLtvqaoPJfmNBdcLrCEHEwDcAVX1NzI7/9rDuvszU9cDrDan5wDYpqq6IMmHk/yCkAYsgo4aAMCgdNQAAAYlqAEADEpQAwAYlKAGADAoQQ0AYFD/P7FQ+BCZbhgfAAAAAElFTkSuQmCC\n",
          "text/plain": "<Figure size 720x720 with 1 Axes>"
         },
         "metadata": {
          "needs_background": "light"
         },
         "output_type": "display_data"
        }
       ]
      }
     },
     "706940e64aff4a63b7e49a71487b6517": {
      "model_module": "@jupyter-widgets/controls",
      "model_module_version": "1.4.0",
      "model_name": "VBoxModel",
      "state": {
       "_dom_classes": [
        "widget-interact"
       ],
       "children": [
        "IPY_MODEL_e8c64d72b3644c868231054fa5938965",
        "IPY_MODEL_ec99165406224249a43939b55c497d53",
        "IPY_MODEL_1661f74ed71c4cfb8bc4d8acbc4e2428",
        "IPY_MODEL_27ac5da03911492f9077f630449a5598"
       ],
       "layout": "IPY_MODEL_bcc05405e6964a36a6c24dba311f5b82"
      }
     },
     "75ba36b5d66043d18eb34f49126a3ba1": {
      "model_module": "@jupyter-widgets/base",
      "model_module_version": "1.1.0",
      "model_name": "LayoutModel",
      "state": {}
     },
     "784776d958fc47df95a82f8c6b57cc73": {
      "model_module": "@jupyter-widgets/base",
      "model_module_version": "1.1.0",
      "model_name": "LayoutModel",
      "state": {}
     },
     "801a240402794ce48719ab91b1c1160d": {
      "model_module": "@jupyter-widgets/base",
      "model_module_version": "1.1.0",
      "model_name": "LayoutModel",
      "state": {}
     },
     "8081b8d741164be7b3771a12210a02ec": {
      "model_module": "@jupyter-widgets/controls",
      "model_module_version": "1.4.0",
      "model_name": "DescriptionStyleModel",
      "state": {
       "description_width": ""
      }
     },
     "84f84ea47f144a90b976c5fde26300b1": {
      "model_module": "@jupyter-widgets/controls",
      "model_module_version": "1.4.0",
      "model_name": "DropdownModel",
      "state": {
       "_options_labels": [
        "IPS",
        "Stromal",
        "Neural",
        "Trophoblast",
        "Epithelial",
        "Other"
       ],
       "description": "Fate 2:",
       "index": 1,
       "layout": "IPY_MODEL_417b36da14b8436badfb21e3ecd7b26e",
       "style": "IPY_MODEL_228ed908d8e041718934d2813ce41ece"
      }
     },
     "90e51e98a7474a41b0713900aa8eef84": {
      "model_module": "@jupyter-widgets/controls",
      "model_module_version": "1.4.0",
      "model_name": "DescriptionStyleModel",
      "state": {
       "description_width": ""
      }
     },
     "91eb43578e1c4ed1aeda6419fbf4e5c8": {
      "model_module": "@jupyter-widgets/controls",
      "model_module_version": "1.4.0",
      "model_name": "DescriptionStyleModel",
      "state": {
       "description_width": ""
      }
     },
     "94a303258cbb46bb9fe8c41cc6928b20": {
      "model_module": "@jupyter-widgets/base",
      "model_module_version": "1.1.0",
      "model_name": "LayoutModel",
      "state": {}
     },
     "95728435ca9443028ed64b949fe27805": {
      "model_module": "@jupyter-widgets/base",
      "model_module_version": "1.1.0",
      "model_name": "LayoutModel",
      "state": {}
     },
     "9574be3e443f4234be690778fdec6165": {
      "model_module": "@jupyter-widgets/base",
      "model_module_version": "1.1.0",
      "model_name": "LayoutModel",
      "state": {}
     },
     "adbed7f27e994d0fb3774b63c0174f59": {
      "model_module": "@jupyter-widgets/base",
      "model_module_version": "1.1.0",
      "model_name": "LayoutModel",
      "state": {}
     },
     "b131c31e624849eda81573d90d555f90": {
      "model_module": "@jupyter-widgets/base",
      "model_module_version": "1.1.0",
      "model_name": "LayoutModel",
      "state": {}
     },
     "b864e4ebea814915b928084e06467e0c": {
      "model_module": "@jupyter-widgets/controls",
      "model_module_version": "1.4.0",
      "model_name": "DropdownModel",
      "state": {
       "_options_labels": [
        "0.0",
        "0.5",
        "1.0",
        "1.5",
        "2.0",
        "2.5",
        "3.0",
        "3.5",
        "4.0",
        "4.5",
        "5.0",
        "5.5",
        "6.0",
        "6.5",
        "7.0",
        "7.5",
        "8.0",
        "8.25",
        "8.5",
        "8.75",
        "9.0",
        "9.5",
        "10.0",
        "10.5",
        "11.0",
        "11.5",
        "12.0",
        "12.5",
        "13.0",
        "13.5",
        "14.0",
        "14.5",
        "15.0",
        "15.5",
        "16.0",
        "16.5",
        "17.0",
        "17.5",
        "18.0"
       ],
       "description": "Day",
       "index": 26,
       "layout": "IPY_MODEL_75ba36b5d66043d18eb34f49126a3ba1",
       "style": "IPY_MODEL_63050b4b68bc4112a16d2d603c1a5186"
      }
     },
     "bcc05405e6964a36a6c24dba311f5b82": {
      "model_module": "@jupyter-widgets/base",
      "model_module_version": "1.1.0",
      "model_name": "LayoutModel",
      "state": {}
     },
     "c6884af2a83140dfbed352236c073f50": {
      "model_module": "@jupyter-widgets/controls",
      "model_module_version": "1.4.0",
      "model_name": "DropdownModel",
      "state": {
       "_options_labels": [
        "IPS",
        "Stromal",
        "Neural",
        "Trophoblast",
        "Epithelial",
        "Other"
       ],
       "description": "Fate 1:",
       "index": 0,
       "layout": "IPY_MODEL_784776d958fc47df95a82f8c6b57cc73",
       "style": "IPY_MODEL_32bf52de9ef841c38e2b644a92ba96a5"
      }
     },
     "de68088167cd41b9a393e9012f13f6a0": {
      "model_module": "@jupyter-widgets/output",
      "model_module_version": "1.0.0",
      "model_name": "OutputModel",
      "state": {
       "layout": "IPY_MODEL_b131c31e624849eda81573d90d555f90",
       "outputs": [
        {
         "data": {
          "image/png": "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\n",
          "text/plain": "<Figure size 720x720 with 1 Axes>"
         },
         "metadata": {
          "needs_background": "light"
         },
         "output_type": "display_data"
        }
       ]
      }
     },
     "dec3259172194fb1ae14c5e56a6d8de7": {
      "model_module": "@jupyter-widgets/controls",
      "model_module_version": "1.4.0",
      "model_name": "DescriptionStyleModel",
      "state": {
       "description_width": ""
      }
     },
     "e0786e613c0c4d2b8a9cbeb4fbe5f27a": {
      "model_module": "@jupyter-widgets/controls",
      "model_module_version": "1.4.0",
      "model_name": "VBoxModel",
      "state": {
       "_dom_classes": [
        "widget-interact"
       ],
       "children": [
        "IPY_MODEL_c6884af2a83140dfbed352236c073f50",
        "IPY_MODEL_4c74f7868986479ba8aba0de0ffb91dd",
        "IPY_MODEL_155a5b67d6db46d38e8741abe0630deb"
       ],
       "layout": "IPY_MODEL_fe3b6093e9f54baaac4ce396ff1a1255"
      }
     },
     "e8c64d72b3644c868231054fa5938965": {
      "model_module": "@jupyter-widgets/controls",
      "model_module_version": "1.4.0",
      "model_name": "DropdownModel",
      "state": {
       "_options_labels": [
        "IPS",
        "Stromal",
        "Neural",
        "Trophoblast",
        "Epithelial",
        "Other"
       ],
       "description": "Fate 1:",
       "index": 0,
       "layout": "IPY_MODEL_06501373d4fb40f5b4a86f4291b10100",
       "style": "IPY_MODEL_90e51e98a7474a41b0713900aa8eef84"
      }
     },
     "ec99165406224249a43939b55c497d53": {
      "model_module": "@jupyter-widgets/controls",
      "model_module_version": "1.4.0",
      "model_name": "DropdownModel",
      "state": {
       "_options_labels": [
        "IPS",
        "Stromal",
        "Neural",
        "Trophoblast",
        "Epithelial",
        "Other"
       ],
       "description": "Fate 2:",
       "index": 1,
       "layout": "IPY_MODEL_6e6eb049fa1141739c9ab52c9c46c7db",
       "style": "IPY_MODEL_8081b8d741164be7b3771a12210a02ec"
      }
     },
     "f94ff691ba0547ad8a3187ee561fa164": {
      "model_module": "@jupyter-widgets/controls",
      "model_module_version": "1.4.0",
      "model_name": "DropdownModel",
      "state": {
       "_options_labels": [
        "IPS",
        "Stromal",
        "Neural",
        "Trophoblast",
        "Epithelial",
        "Other"
       ],
       "description": "Fate 1:",
       "index": 0,
       "layout": "IPY_MODEL_6c75d1d0000c4d3cbdb0066706fbfe30",
       "style": "IPY_MODEL_637f19596efe4c2988d65871ee7a3897"
      }
     },
     "fe3b6093e9f54baaac4ce396ff1a1255": {
      "model_module": "@jupyter-widgets/base",
      "model_module_version": "1.1.0",
      "model_name": "LayoutModel",
      "state": {}
     }
    },
    "version_major": 2,
    "version_minor": 0
   }
  }
 },
 "nbformat": 4,
 "nbformat_minor": 2
}
