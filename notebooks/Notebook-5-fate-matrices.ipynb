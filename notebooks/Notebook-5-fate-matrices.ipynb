{
 "cells": [
  {
   "cell_type": "code",
   "execution_count": 6,
   "metadata": {},
   "outputs": [],
   "source": [
    "### if you haven't yet installed wot, run the line below\n",
    "#!pip install -q wot\n",
    "\n",
    "### import some packages for this notebook\n",
    "import ipywidgets as widgets\n",
    "import numpy as np\n",
    "import pandas as pd\n",
    "from matplotlib import pyplot as plt\n",
    "import math\n",
    "\n",
    "import wot"
   ]
  },
  {
   "cell_type": "markdown",
   "metadata": {},
   "source": [
    "# Notebook 5: Fate Matrices\n",
    "\n",
    "In this notebook we show how to compute and visualize 'fates' of cells. \n",
    "Consider a pair of time points $t_i < t_j$ and a collection of cell sets $C_1,\\ldots,C_k$ spanning all cells at the later time point, $t_j$. (That is, each cell $y$ from time $t_j$ is in some $C_\\ell$). \n",
    "We show how to compute the probability that a cell $x$ from time $t_i$ will transition to a target destination $C_\\ell$ at time $t_j$. \n",
    "We call these the *fate probabilities* for cell $x$. The **fate matrix** $F_{t_i,t_j}$ is a matrix with a row containing the fate probabilities for each cell $x$ from time $t_i$.\n",
    "\n",
    "## Compute fates\n",
    "We begin by loading into memory\n",
    "* a `TransportMapModel` from a directory of pre-computed transport maps, and \n",
    "* a dictionary of cell sets. "
   ]
  },
  {
   "cell_type": "code",
   "execution_count": 2,
   "metadata": {},
   "outputs": [],
   "source": [
    "# Load transport map model and cell sets\n",
    "tmap_model = wot.tmap.TransportMapModel.from_directory('tmaps/serum')\n",
    "cell_sets = wot.io.read_sets('data/major_cell_sets.gmt', as_dict=True)"
   ]
  },
  {
   "cell_type": "markdown",
   "metadata": {},
   "source": [
    "Next, we initialize a list of `target_destinations` at time $t_j = 18$. "
   ]
  },
  {
   "cell_type": "code",
   "execution_count": 123,
   "metadata": {},
   "outputs": [],
   "source": [
    "# create indicator vectors for each cell set\n",
    "target_destinations = tmap_model.population_from_cell_sets(cell_sets, at_time=18)"
   ]
  },
  {
   "cell_type": "markdown",
   "metadata": {},
   "source": [
    "Finally, we compute the fate matrices for each earlier time point $t_i < t_j$ all at once with the  `fates` function. "
   ]
  },
  {
   "cell_type": "code",
   "execution_count": null,
   "metadata": {},
   "outputs": [],
   "source": [
    "fate_ds = tmap_model.fates(target_destinations)"
   ]
  },
  {
   "cell_type": "markdown",
   "metadata": {},
   "source": [
    "The resulting dataset `fate_ds` contains the fate matrices for each earlier time point $t_i < t_j$. We can then easily subset this dataset to access the fate matrix $F_{t_i,t_j}$ for any individual day $t_i$.\n",
    "\n",
    "## Visualizing fate matrices\n",
    "\n",
    "In the following code blocks we provide two simple tools to visualize fate matrices. First, we plot a fate matrix with $k=3$ fates in barycentric coordinates. This is a handy coordinate system for viewing the three dimensional simplex in two dimensions. A probability vector $(p_1,p_2,p_3)$ is represented inside an equilateral triangle, where each vertex represents a pure fate like $(1,0,0)$ or $(0,1,0)$ or $(0,0,1)$."
   ]
  },
  {
   "cell_type": "code",
   "execution_count": 120,
   "metadata": {},
   "outputs": [
    {
     "data": {
      "application/vnd.jupyter.widget-view+json": {
       "model_id": "076cf8a0b7664cd28f7098514dc78023",
       "version_major": 2,
       "version_minor": 0
      },
      "text/html": [
       "<p>Failed to display Jupyter Widget of type <code>interactive</code>.</p>\n",
       "<p>\n",
       "  If you're reading this message in the Jupyter Notebook or JupyterLab Notebook, it may mean\n",
       "  that the widgets JavaScript is still loading. If this message persists, it\n",
       "  likely means that the widgets JavaScript library is either not installed or\n",
       "  not enabled. See the <a href=\"https://ipywidgets.readthedocs.io/en/stable/user_install.html\">Jupyter\n",
       "  Widgets Documentation</a> for setup instructions.\n",
       "</p>\n",
       "<p>\n",
       "  If you're reading this message in another frontend (for example, a static\n",
       "  rendering on GitHub or <a href=\"https://nbviewer.jupyter.org/\">NBViewer</a>),\n",
       "  it may mean that your frontend doesn't currently support widgets.\n",
       "</p>\n"
      ],
      "text/plain": [
       "interactive(children=(Dropdown(description='Fate 1:', options=('IPS', 'Stromal', 'Neural', 'Trophoblast', 'Epithelial', 'Other'), value='IPS'), Dropdown(description='Fate 2:', index=1, options=('IPS', 'Stromal', 'Neural', 'Trophoblast', 'Epithelial', 'Other'), value='Stromal'), Dropdown(description='Day', index=26, options=(0.0, 0.5, 1.0, 1.5, 2.0, 2.5, 3.0, 3.5, 4.0, 4.5, 5.0, 5.5, 6.0, 6.5, 7.0, 7.5, 8.0, 8.25, 8.5, 8.75, 9.0, 9.5, 10.0, 10.5, 11.0, 11.5, 12.0, 12.5, 13.0, 13.5, 14.0, 14.5, 15.0, 15.5, 16.0, 16.5, 17.0, 17.5, 18.0), value=12.0), Output()), _dom_classes=('widget-interact',))"
      ]
     },
     "metadata": {},
     "output_type": "display_data"
    },
    {
     "data": {
      "text/plain": [
       "<function __main__.update_fate_vis>"
      ]
     },
     "execution_count": 120,
     "metadata": {},
     "output_type": "execute_result"
    }
   ],
   "source": [
    "fate_dropdown1 = widgets.Dropdown(\n",
    "    options=fate_ds.var.index,\n",
    "    description='Fate 1:'\n",
    ")\n",
    "fate_dropdown2 = widgets.Dropdown(\n",
    "    options=fate_ds.var.index,\n",
    "    description='Fate 2:',\n",
    "    value=fate_ds.var.index[1]\n",
    ")\n",
    "day_dropdown = widgets.Dropdown(\n",
    "    options=fate_ds.obs['day'].unique(),\n",
    "    description='Day',\n",
    "    value=12\n",
    ")\n",
    "\n",
    "\n",
    "def update_fate_vis(name1, name2,day):\n",
    "    figure = plt.figure(figsize=(10, 10))   \n",
    "\n",
    "    fate1 = fate_ds[:,name1][fate_ds.obs['day']==day].X\n",
    "    fate2 = fate_ds[:,name2][fate_ds.obs['day']==day].X\n",
    "\n",
    "    Nrows = len(fate1)\n",
    "    x = np.zeros(Nrows)\n",
    "    y = np.zeros(Nrows)\n",
    "    P = np.array([[1,0],[np.cos(2*math.pi/3),math.sin(2*math.pi/3)],[math.cos(4*math.pi/3),math.sin(4*math.pi/3)]])\n",
    "\n",
    "    for i in range(0,Nrows):\n",
    "        ff = np.array([fate1[i],fate2[i],1-(fate1[i]+fate2[i])])\n",
    "        x[i] = (ff @ P)[0]\n",
    "        y[i] = (ff @ P)[1]\n",
    "\n",
    "    vx = P[:,0]\n",
    "    vy = P[:,1]\n",
    "    t1 = plt.Polygon(P, color=(0,0,0,0.1))\n",
    "    plt.gca().add_patch(t1)\n",
    "    \n",
    "    plt.scatter(x,y)\n",
    "    plt.scatter(vx,vy)\n",
    "    #plt.scatter(0,0)\n",
    "    plt.text(P[0,0]+.1, P[0,1], name1)\n",
    "    plt.text(P[1,0]-.1, P[1,1]+.1, name2)\n",
    "    plt.text(P[2,0]-.1, P[2,1]-.2, 'Other')\n",
    "    plt.axis('equal')\n",
    "    plt.axis('off')\n",
    "    #plt.xticks([])\n",
    "    #plt.yticks([])\n",
    "    \n",
    "    plt.title('{} vs. {} on day {}'.format(name1, name2,day))\n",
    "\n",
    "widgets.interact(update_fate_vis, name1=fate_dropdown1, name2=fate_dropdown2,day=day_dropdown)"
   ]
  },
  {
   "cell_type": "markdown",
   "metadata": {},
   "source": [
    "## Plotting log-odds for a pair of fates\n",
    "\n",
    "Our second visualization tool displays the log-odds for a pair of fates (the odds are defined as the ratio of probabilities, and then we take a log). We plot the log-odds on the y-axis and use the x-axis to show time. In this way, we show the relative fate probabilities for each earlier time $t_i$ for a fixed pair of target destinations. "
   ]
  },
  {
   "cell_type": "code",
   "execution_count": 4,
   "metadata": {},
   "outputs": [
    {
     "data": {
      "application/vnd.jupyter.widget-view+json": {
       "model_id": "18c6efc4667740eca04ce5a1bbd669ca",
       "version_major": 2,
       "version_minor": 0
      },
      "text/html": [
       "<p>Failed to display Jupyter Widget of type <code>interactive</code>.</p>\n",
       "<p>\n",
       "  If you're reading this message in the Jupyter Notebook or JupyterLab Notebook, it may mean\n",
       "  that the widgets JavaScript is still loading. If this message persists, it\n",
       "  likely means that the widgets JavaScript library is either not installed or\n",
       "  not enabled. See the <a href=\"https://ipywidgets.readthedocs.io/en/stable/user_install.html\">Jupyter\n",
       "  Widgets Documentation</a> for setup instructions.\n",
       "</p>\n",
       "<p>\n",
       "  If you're reading this message in another frontend (for example, a static\n",
       "  rendering on GitHub or <a href=\"https://nbviewer.jupyter.org/\">NBViewer</a>),\n",
       "  it may mean that your frontend doesn't currently support widgets.\n",
       "</p>\n"
      ],
      "text/plain": [
       "interactive(children=(Dropdown(description='Fate 1:', options=('IPS', 'Stromal', 'Neural', 'Trophoblast', 'Epithelial', 'Other'), value='IPS'), Dropdown(description='Fate 2:', index=1, options=('IPS', 'Stromal', 'Neural', 'Trophoblast', 'Epithelial', 'Other'), value='Stromal'), Output()), _dom_classes=('widget-interact',))"
      ]
     },
     "metadata": {},
     "output_type": "display_data"
    },
    {
     "data": {
      "text/plain": [
       "<function __main__.update_fate_vis>"
      ]
     },
     "execution_count": 4,
     "metadata": {},
     "output_type": "execute_result"
    }
   ],
   "source": [
    "fate_dropdown1 = widgets.Dropdown(\n",
    "    options=fate_ds.var.index,\n",
    "    description='Fate 1:'\n",
    ")\n",
    "fate_dropdown2 = widgets.Dropdown(\n",
    "    options=fate_ds.var.index,\n",
    "    description='Fate 2:',\n",
    "    value=fate_ds.var.index[1]\n",
    ")\n",
    "\n",
    "def update_fate_vis(name1, name2):\n",
    "    figure = plt.figure(figsize=(10, 10))\n",
    "    fate1 = fate_ds[:, name1].X\n",
    "    fate2 = fate_ds[:, name2].X\n",
    "    p = np.log(1e-9 + np.divide(fate1, fate2, out=np.zeros_like(fate1), where=fate2 != 0))\n",
    "    plt.scatter(fate_ds.obs['day'], p, s=4, marker=',')\n",
    "    plt.xlabel('Day')\n",
    "    plt.ylabel('Log Odds')\n",
    "    plt.title('{} vs. {}'.format(name1, name2))\n",
    "\n",
    "widgets.interact(update_fate_vis, name1=fate_dropdown1, name2=fate_dropdown2)"
   ]
  }
 ],
 "metadata": {
  "kernelspec": {
   "display_name": "Python 3",
   "language": "python",
   "name": "python3"
  },
  "language_info": {
   "codemirror_mode": {
    "name": "ipython",
    "version": 3
   },
   "file_extension": ".py",
   "mimetype": "text/x-python",
   "name": "python",
   "nbconvert_exporter": "python",
   "pygments_lexer": "ipython3",
   "version": "3.6.4"
  }
 },
 "nbformat": 4,
 "nbformat_minor": 2
}
