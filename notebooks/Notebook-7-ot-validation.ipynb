{
 "cells": [
  {
   "cell_type": "code",
   "execution_count": 1,
   "metadata": {},
   "outputs": [
    {
     "name": "stderr",
     "output_type": "stream",
     "text": [
      "/anaconda3/lib/python3.6/site-packages/h5py/__init__.py:36: FutureWarning: Conversion of the second argument of issubdtype from `float` to `np.floating` is deprecated. In future, it will be treated as `np.float64 == np.dtype(float).type`.\n",
      "  from ._conv import register_converters as _register_converters\n"
     ]
    }
   ],
   "source": [
    "import numpy as np\n",
    "import pandas as pd\n",
    "from matplotlib import pyplot as plt\n",
    "import wot"
   ]
  },
  {
   "cell_type": "markdown",
   "metadata": {},
   "source": [
    "# Load data for computing transport maps\n",
    "\n",
    "We now read in the expression matrix, cell days, batch information, and use the learned cell growth rates we previously computed. \n",
    "We apply a filter to compute transport maps for the serum time course. (Recall that the dataset includes two time-courses: 2i and serum). "
   ]
  },
  {
   "cell_type": "code",
   "execution_count": 2,
   "metadata": {},
   "outputs": [],
   "source": [
    "VAR_GENE_DS_PATH = 'data/ExprMatrix.var.genes.h5ad'\n",
    "LEARNED_GROWTH_SCORES_PATH = 'tmaps/serum_g.txt'\n",
    "BATCH_PATH = 'data/batches.txt'\n",
    "CELL_DAYS_PATH = 'data/cell_days.txt'\n",
    "SERUM_CELL_IDS_PATH = 'data/serum_cell_ids.txt'\n",
    "\n",
    "adata = wot.io.read_dataset(VAR_GENE_DS_PATH, obs=[CELL_DAYS_PATH, BATCH_PATH, LEARNED_GROWTH_SCORES_PATH], obs_filter=SERUM_CELL_IDS_PATH)"
   ]
  },
  {
   "cell_type": "markdown",
   "metadata": {},
   "source": [
    "# Compute transport maps and validate\n",
    "\n",
    "Initialize OT model. Since we already learned growth rates in the previous notebook, we only do one growth iteration (the default)."
   ]
  },
  {
   "cell_type": "code",
   "execution_count": null,
   "metadata": {},
   "outputs": [],
   "source": [
    "ot_model = wot.ot.OTModel(adata, growth_rate_field='g2') "
   ]
  },
  {
   "cell_type": "markdown",
   "metadata": {},
   "source": [
    "Compute a single transport map from day 17 to 18 and interpolate at 17.5"
   ]
  },
  {
   "cell_type": "code",
   "execution_count": null,
   "metadata": {},
   "outputs": [],
   "source": [
    "summary17_5 = wot.ot.compute_validation_summary(ot_model, day_triplets=[(17, 17.5, 18)])"
   ]
  },
  {
   "cell_type": "code",
   "execution_count": null,
   "metadata": {},
   "outputs": [],
   "source": [
    "summary17_5"
   ]
  },
  {
   "cell_type": "code",
   "execution_count": null,
   "metadata": {},
   "outputs": [],
   "source": [
    "wot.graphics.plot_ot_validation_summary_stats(summary17_5.groupby(['interval_mid', 'name'])['distance'].agg([np.mean, np.std]))"
   ]
  },
  {
   "cell_type": "markdown",
   "metadata": {},
   "source": [
    "Compare to no growth"
   ]
  },
  {
   "cell_type": "code",
   "execution_count": null,
   "metadata": {},
   "outputs": [],
   "source": [
    "ot_model_no_g = wot.ot.OTModel(adata, growth_rate_field=None) \n",
    "summary17_5_no_g = wot.ot.compute_validation_summary(ot_model_no_g, day_triplets=[(8, 8.5, 9)])"
   ]
  },
  {
   "cell_type": "code",
   "execution_count": null,
   "metadata": {},
   "outputs": [],
   "source": [
    "wot.graphics.plot_ot_validation_summary_stats(summary17_5_no_g.groupby(['interval_mid', 'name'])['distance'].agg([np.mean, np.std]))"
   ]
  },
  {
   "cell_type": "markdown",
   "metadata": {},
   "source": [
    "Compute all transport maps"
   ]
  },
  {
   "cell_type": "code",
   "execution_count": null,
   "metadata": {},
   "outputs": [],
   "source": [
    "all_triplets_summary = wot.ot.compute_validation_summary(ot_model)\n",
    "\n",
    "# save results\n",
    "all_triplets_summary.to_csv('serum_validation_summary.txt')\n",
    "all_triplets_stats = all_triplets_summary.groupby(['interval_mid', 'name'])['distance'].agg([np.mean, np.std])\n",
    "all_triplets_stats.to_csv('serum_validation_summary_stats.txt')"
   ]
  },
  {
   "cell_type": "markdown",
   "metadata": {},
   "source": [
    "Save results to file and plot"
   ]
  },
  {
   "cell_type": "code",
   "execution_count": null,
   "metadata": {},
   "outputs": [],
   "source": [
    "# load results\n",
    "\n",
    "# plot results\n",
    "wot.graphics.plot_ot_validation_summary_stats(all_triplets_stats)"
   ]
  }
 ],
 "metadata": {
  "kernelspec": {
   "display_name": "Python 3",
   "language": "python",
   "name": "python3"
  },
  "language_info": {
   "codemirror_mode": {
    "name": "ipython",
    "version": 3
   },
   "file_extension": ".py",
   "mimetype": "text/x-python",
   "name": "python",
   "nbconvert_exporter": "python",
   "pygments_lexer": "ipython3",
   "version": "3.6.4"
  },
  "pycharm": {
   "stem_cell": {
    "cell_type": "raw",
    "metadata": {
     "collapsed": false
    },
    "source": []
   }
  }
 },
 "nbformat": 4,
 "nbformat_minor": 2
}
