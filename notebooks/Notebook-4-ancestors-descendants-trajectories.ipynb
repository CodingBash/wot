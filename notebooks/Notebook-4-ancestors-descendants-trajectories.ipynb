{
 "cells": [
  {
   "cell_type": "code",
   "execution_count": 1,
   "metadata": {
    "pycharm": {}
   },
   "outputs": [],
   "source": [
    "# If you haven't yet installed wot, uncomment and run the line below:\n",
    "#!pip install -q wot\n",
    "\n",
    "import ipywidgets as widgets\n",
    "import numpy as np\n",
    "import pandas as pd\n",
    "from matplotlib import pyplot as plt\n",
    "\n",
    "import wot\n",
    "\n",
    "# input paths\n",
    "FULL_DS_PATH = 'data/ExprMatrix.h5ad'\n",
    "TMAP_PATH = 'tmaps/serum'\n",
    "CELL_SETS_PATH = 'data/major_cell_sets.gmt'\n",
    "COORDS_PATH = 'data/fle_coords.txt'"
   ]
  },
  {
   "cell_type": "markdown",
   "metadata": {
    "pycharm": {}
   },
   "source": [
    "# Notebook 4: Ancestors, Descendants and Trajectories\n",
    "\n",
    "In their raw form, the transport maps show the descendants and ancestors of each individual cell. Here we explore several different techniques to analyze the ancestors, descendants and trajectories of *sets* of cells.\n",
    "\n",
    "Given a set $C$ of cells at time $t_j$, we can compute the descendant distribution at time $t_{j+1}$ by pushing the cell set through the transport matrix. \n",
    "This push forward operation is implemented in a matrix multiplication as follows. We first form a probability vector $p_{t_j}$ to represent the cell set $C$ as follows:\n",
    "\n",
    "$$p_{t_j}(x) = \\begin{cases} \\frac 1 {|C|} & \\quad x \\in C \\\\ 0 & \\quad \\text{otherwise}.\\end{cases}$$\n",
    "\n",
    "In the following code block we generate probability vectors for the cell sets IPS, Neural, Trophoblast, and Stromal on day 18. The $\\texttt{populations}$ object is a list of these probability vectors for different cell sets. "
   ]
  },
  {
   "cell_type": "code",
   "execution_count": 2,
   "metadata": {
    "pycharm": {}
   },
   "outputs": [],
   "source": [
    "tmap_model = wot.tmap.TransportMapModel.from_directory(TMAP_PATH)\n",
    "cell_sets = wot.io.read_sets(CELL_SETS_PATH, as_dict=True)\n",
    "populations = tmap_model.population_from_cell_sets(cell_sets, at_time=18)"
   ]
  },
  {
   "cell_type": "markdown",
   "metadata": {
    "pycharm": {}
   },
   "source": [
    "We can then **push forward** each probability vector by multiplying by the transport map on the right \n",
    "\n",
    "$$p_{t_{j+1}}^T = p_{t_{j}}^T \\pi_{t_j,t_{j+1}}.$$\n",
    "\n",
    "Multiplying $p_{t_{j+1}}$ by $\\pi_{t_{j+1},t_{j+2}}$ would push it forward again to give the descendant distribution at time $t_{j+2}$. \n",
    "Continuing in this way, we can compute the descendant distribution at any later time point $t_{\\ell} > t_j$. \n",
    "\n",
    "To compute the **ancestors** of $C$ at an earlier time point $t_i < t_j$, we pull the cell set back through the transport map. \n",
    "This **pull-back** operation is also implemented as a matrix multiplication\n",
    "$$p_{t_{j-1}} = \\pi_{t_{j-1},t_j} p_{t_j}.$$\n",
    "The **trajectory** of a cell set $C$ refers to the sequence of ancestor distributions at earlier time points and descendant distributions at later time points. \n",
    "\n",
    "The method ```trajectories``` takes a list of probability vectors and returns the trajectories containing descendant distributions at later time points and ancestor distributions at earlier time points. "
   ]
  },
  {
   "cell_type": "code",
   "execution_count": 3,
   "metadata": {
    "pycharm": {}
   },
   "outputs": [],
   "source": [
    "trajectory_ds = tmap_model.trajectories(populations)"
   ]
  },
  {
   "cell_type": "markdown",
   "metadata": {
    "pycharm": {}
   },
   "source": [
    "We can now visualize trajectories on the force layout embedding coordinates."
   ]
  },
  {
   "cell_type": "code",
   "execution_count": 4,
   "metadata": {
    "pycharm": {}
   },
   "outputs": [],
   "source": [
    "# Load embedding coordinates\n",
    "coord_df = pd.read_csv(COORDS_PATH, sep='\\t', index_col=0)\n",
    "nbins = 500\n",
    "xrange = coord_df['x'].min(), coord_df['x'].max()\n",
    "yrange = coord_df['y'].min(), coord_df['y'].max()\n",
    "coord_df['x'] = np.floor(\n",
    "    np.interp(coord_df['x'], [xrange[0], xrange[1]], [0, nbins - 1])).astype(int)\n",
    "coord_df['y'] = np.floor(\n",
    "    np.interp(coord_df['y'], [yrange[0], yrange[1]], [0, nbins - 1])).astype(int)\n",
    "trajectory_ds.obs = trajectory_ds.obs.join(coord_df)"
   ]
  },
  {
   "cell_type": "code",
   "execution_count": 5,
   "metadata": {
    "pycharm": {}
   },
   "outputs": [
    {
     "data": {
      "application/vnd.jupyter.widget-view+json": {
       "model_id": "ef4b6d22189043c6a7d222b9b5ff2d71",
       "version_major": 2,
       "version_minor": 0
      },
      "text/plain": [
       "interactive(children=(Dropdown(description='Trajectory:', options=('IPS', 'Stromal', 'Neural', 'Epithelial'), …"
      ]
     },
     "metadata": {},
     "output_type": "display_data"
    },
    {
     "data": {
      "text/plain": [
       "<function __main__.update_trajectory_vis(name)>"
      ]
     },
     "execution_count": 5,
     "metadata": {},
     "output_type": "execute_result"
    }
   ],
   "source": [
    "# Visualize trajectories\n",
    "trajectory_dropdown = widgets.Dropdown(\n",
    "    options=trajectory_ds.var.index,\n",
    "    description='Trajectory:'\n",
    ")\n",
    "\n",
    "def update_trajectory_vis(name):\n",
    "    figure = plt.figure(figsize=(10, 10))\n",
    "    plt.axis('off')\n",
    "    plt.tight_layout()\n",
    "    plt.title(name)\n",
    "    plt.scatter(coord_df['x'], coord_df['y'], c='#f0f0f0',\n",
    "                   s=4, marker=',', edgecolors='none', alpha=0.8)\n",
    "    binned_df = trajectory_ds.obs.copy()\n",
    "    binned_df['values'] = trajectory_ds[:, name].X\n",
    "    binned_df = binned_df.groupby(['x', 'y'], as_index=False).sum()\n",
    "    plt.scatter(binned_df['x'], binned_df['y'], c=binned_df['values'],\n",
    "                   s=6, marker=',', edgecolors='none', vmax=binned_df['values'].quantile(0.975))\n",
    "    plt.colorbar().ax.set_title('Trajectory')\n",
    "\n",
    "widgets.interact(update_trajectory_vis, name=trajectory_dropdown)"
   ]
  },
  {
   "cell_type": "markdown",
   "metadata": {
    "pycharm": {}
   },
   "source": [
    "# Expression trends along trajectories\n",
    "\n",
    "We now show how to compute trends in expression along trajectories. Mathematically, the trajectory is represented by a probability distribution over cells at each time point. Therefore we can easily compute the average expression according to this probability distribution. "
   ]
  },
  {
   "cell_type": "markdown",
   "metadata": {
    "pycharm": {}
   },
   "source": [
    "Load expression data"
   ]
  },
  {
   "cell_type": "code",
   "execution_count": 6,
   "metadata": {
    "pycharm": {}
   },
   "outputs": [],
   "source": [
    "adata = wot.io.read_dataset(FULL_DS_PATH) "
   ]
  },
  {
   "cell_type": "markdown",
   "metadata": {
    "pycharm": {}
   },
   "source": [
    "Compute trends for genes of interest"
   ]
  },
  {
   "cell_type": "code",
   "execution_count": 7,
   "metadata": {
    "pycharm": {}
   },
   "outputs": [
    {
     "name": "stderr",
     "output_type": "stream",
     "text": [
      "Transforming to str index.\n",
      "Transforming to str index.\n",
      "Transforming to str index.\n",
      "Transforming to str index.\n"
     ]
    }
   ],
   "source": [
    "trajectory_trends = wot.tmap.trajectory_trends_from_trajectory(trajectory_ds, adata[:, ['Nanog', 'Obox6', 'Zfp42']])"
   ]
  },
  {
   "cell_type": "markdown",
   "metadata": {
    "pycharm": {}
   },
   "source": [
    "Visualize trends"
   ]
  },
  {
   "cell_type": "code",
   "execution_count": 8,
   "metadata": {
    "pycharm": {}
   },
   "outputs": [
    {
     "data": {
      "application/vnd.jupyter.widget-view+json": {
       "model_id": "35c69c21bacb44e6834e2b1455e6cea9",
       "version_major": 2,
       "version_minor": 0
      },
      "text/plain": [
       "interactive(children=(Dropdown(description='Trajectory:', options=('IPS', 'Stromal', 'Neural', 'Epithelial'), …"
      ]
     },
     "metadata": {},
     "output_type": "display_data"
    },
    {
     "data": {
      "text/plain": [
       "<function __main__.update_trends_vis(name)>"
      ]
     },
     "execution_count": 8,
     "metadata": {},
     "output_type": "execute_result"
    }
   ],
   "source": [
    "trajectory_dropdown = widgets.Dropdown(\n",
    "    options=trajectory_ds.var.index,\n",
    "    description='Trajectory:'\n",
    ")\n",
    "\n",
    "def update_trends_vis(name):\n",
    "    trajectory_index = trajectory_ds.var.index.get_loc(name)\n",
    "    mean = trajectory_trends[trajectory_index]\n",
    "    timepoints = mean.obs.index.values.astype(float)\n",
    "    mean.obs.index = mean.obs.index.astype('category')\n",
    "    genes = mean.var.index.values\n",
    "    trajectory_name = trajectory_ds.var.index.values[trajectory_index]\n",
    "    plt.figure(figsize=(10, 10))\n",
    "\n",
    "    for i in range(mean.shape[1]):  # each gene\n",
    "        mean_i = mean[:, i].X\n",
    "        plt.plot(timepoints, mean_i, label=genes[i])\n",
    "    plt.xlabel(\"Day\")\n",
    "    plt.ylabel(\"Expression\")\n",
    "    plt.title(name)\n",
    "    plt.legend()\n",
    "\n",
    "widgets.interact(update_trends_vis, name=trajectory_dropdown)"
   ]
  },
  {
   "cell_type": "markdown",
   "metadata": {
    "pycharm": {}
   },
   "source": [
    "# Shared Ancestry"
   ]
  },
  {
   "cell_type": "code",
   "execution_count": null,
   "metadata": {
    "pycharm": {}
   },
   "outputs": [],
   "source": [
    "divergence_df = wot.tmap.trajectory_divergence(adata[:, adata.var['highly_variable']=='True'].copy(), trajectory_ds)"
   ]
  },
  {
   "cell_type": "code",
   "execution_count": null,
   "metadata": {
    "pycharm": {}
   },
   "outputs": [],
   "source": [
    "divergence_df['name'] = divergence_df['name1'].str.split('/').str.get(0) + ' vs. ' + divergence_df['name2'].str.split('/').str.get(\n",
    "        0)\n",
    "plt.figure(figsize=(10, 10))\n",
    "plt.xlabel(\"Day\")\n",
    "plt.ylabel(\"Distance\")\n",
    "for p, d in divergence_df.groupby('name'):\n",
    "    plt.plot(d['day2'], d['distance'], '-o', label=p)\n",
    "plt.legend(loc='best')"
   ]
  },
  {
   "cell_type": "markdown",
   "metadata": {
    "pycharm": {}
   },
   "source": [
    "# Ancestor Census"
   ]
  },
  {
   "cell_type": "code",
   "execution_count": null,
   "metadata": {
    "pycharm": {}
   },
   "outputs": [],
   "source": []
  }
 ],
 "metadata": {
  "kernelspec": {
   "display_name": "Python 3",
   "language": "python",
   "name": "python3"
  },
  "language_info": {
   "codemirror_mode": {
    "name": "ipython",
    "version": 3
   },
   "file_extension": ".py",
   "mimetype": "text/x-python",
   "name": "python",
   "nbconvert_exporter": "python",
   "pygments_lexer": "ipython3",
   "version": "3.7.3"
  },
  "pycharm": {
   "stem_cell": {
    "cell_type": "raw",
    "metadata": {
     "collapsed": false
    },
    "source": []
   }
  }
 },
 "nbformat": 4,
 "nbformat_minor": 2
}
