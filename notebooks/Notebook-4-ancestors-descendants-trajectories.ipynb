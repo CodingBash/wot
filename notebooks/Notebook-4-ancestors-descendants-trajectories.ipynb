{
 "cells": [
  {
   "cell_type": "code",
   "execution_count": 2,
   "metadata": {
    "pycharm": {}
   },
   "outputs": [
    {
     "name": "stderr",
     "output_type": "stream",
     "text": [
      "/anaconda3/lib/python3.6/site-packages/h5py/__init__.py:36: FutureWarning: Conversion of the second argument of issubdtype from `float` to `np.floating` is deprecated. In future, it will be treated as `np.float64 == np.dtype(float).type`.\n",
      "  from ._conv import register_converters as _register_converters\n"
     ]
    }
   ],
   "source": [
    "### If you haven't yet installed wot, uncomment and run the line below:\n",
    "#!pip install -q wot\n",
    "\n",
    "### We begin by importing some useful python packages. \n",
    "import ipywidgets as widgets\n",
    "import numpy as np\n",
    "import pandas as pd\n",
    "from matplotlib import pyplot as plt\n",
    "\n",
    "import wot"
   ]
  },
  {
   "cell_type": "markdown",
   "metadata": {},
   "source": [
    "# Notebook 4: Ancestors, Descendants and Trajectories\n",
    "\n",
    "In their raw form, the transport maps show the descendants and ancestors of each individual cell. Here we explore several different techniques to analyze the ancestors, descendants and trajectories of *sets* of cells.\n",
    "\n",
    "Given a set $C$ of cells at time $t_j$, we can compute the descendant distribution at time $t_{j+1}$ by pushing the cell set through the transport matrix. \n",
    "This push forward operation is implemented in a matrix multiplication as follows. We first form a probability vector $p_{t_j}$ to represent the cell set $C$ as follows:\n",
    "\n",
    "$$p_{t_j}(x) = \\begin{cases} \\frac 1 {|C|} & \\quad x \\in C \\\\ 0 & \\quad \\text{otherwise}.\\end{cases}$$\n",
    "\n",
    "In the following code block we generate probability vectors for the cell sets IPS, Neural, Trophoblast, and Stromal on day 18. The $\\texttt{populations}$ object is a list of these probability vectors for different cell sets. "
   ]
  },
  {
   "cell_type": "code",
   "execution_count": 3,
   "metadata": {
    "pycharm": {}
   },
   "outputs": [],
   "source": [
    "tmap_model = wot.tmap.TransportMapModel.from_directory('tmaps/serum')\n",
    "cell_sets = wot.io.read_sets('data/cell_sets.gmt', as_dict=True)\n",
    "# FIXME: normalize these so they sum to 1\n",
    "populations = tmap_model.population_from_cell_sets(cell_sets, at_time=18)"
   ]
  },
  {
   "cell_type": "markdown",
   "metadata": {
    "pycharm": {}
   },
   "source": [
    "We can then **push forward** each probability vector by multiplying by the transport map on the right \n",
    "\n",
    "$$p_{t_{j+1}}^T = p_{t_{j}}^T \\pi_{t_j,t_{j+1}}.$$\n",
    "\n",
    "Multiplying $p_{t_{j+1}}$ by $\\pi_{t_{j+1},t_{j+2}}$ would push it forward again to give the descendant distribution at time $t_{j+2}$. \n",
    "Continuing in this way, we can compute the descendant distribution at any later time point $t_{\\ell} > t_j$. \n",
    "\n",
    "To compute the **ancestors** of $C$ at an earlier time point $t_i < t_j$, we pull the cell set back through the transport map. \n",
    "This **pull-back** operation is also implemented as a matrix multiplication\n",
    "$$p_{t_{j-1}} = \\pi_{t_{j-1},t_j} p_{t_j}.$$\n",
    "The **trajectory** of a cell set $C$ refers to the sequence of ancestor distributions at earlier time points and descendant distributions at later time points. \n",
    "\n",
    "The method $\\texttt{compute_trajectories}$ takes a list of probability vectors and returns the trajectories containing descendant distributions at later time points and ancestor distributions at earlier time points. "
   ]
  },
  {
   "cell_type": "code",
   "execution_count": 60,
   "metadata": {
    "pycharm": {}
   },
   "outputs": [],
   "source": [
    "trajectory_ds = tmap_model.compute_trajectories(populations)"
   ]
  },
  {
   "cell_type": "markdown",
   "metadata": {
    "pycharm": {}
   },
   "source": [
    "We can now visualize trajectories on the force layout embedding coordinates."
   ]
  },
  {
   "cell_type": "code",
   "execution_count": 62,
   "metadata": {
    "pycharm": {}
   },
   "outputs": [
    {
     "data": {
      "application/vnd.jupyter.widget-view+json": {
       "model_id": "106e1f8009a745fe88982272ddfbcd6b",
       "version_major": 2,
       "version_minor": 0
      },
      "text/plain": [
       "interactive(children=(Dropdown(description='Trajectory:', options=('IPS', 'Stromal', 'Neural', 'Epithelial', '…"
      ]
     },
     "metadata": {},
     "output_type": "display_data"
    },
    {
     "data": {
      "text/plain": [
       "<function __main__.update_trajectory_vis(name)>"
      ]
     },
     "execution_count": 62,
     "metadata": {},
     "output_type": "execute_result"
    }
   ],
   "source": [
    "# Load embedding coordinates\n",
    "coord_df = pd.read_csv('data/fle_coords.txt', sep='\\t', index_col=0)\n",
    "nbins = 500\n",
    "xrange = coord_df['x'].min(), coord_df['x'].max()\n",
    "yrange = coord_df['y'].min(), coord_df['y'].max()\n",
    "coord_df['x'] = np.floor(\n",
    "    np.interp(coord_df['x'], [xrange[0], xrange[1]], [0, nbins - 1])).astype(int)\n",
    "coord_df['y'] = np.floor(\n",
    "    np.interp(coord_df['y'], [yrange[0], yrange[1]], [0, nbins - 1])).astype(int)\n",
    "trajectory_ds.obs = trajectory_ds.obs.join(coord_df)\n",
    "\n",
    "\n",
    "#Visualize trajectories\n",
    "trajectory_dropdown = widgets.Dropdown(\n",
    "    options=trajectory_ds.var.index,\n",
    "    description='Trajectory:'\n",
    ")\n",
    "\n",
    "def update_trajectory_vis(name):\n",
    "    figure = plt.figure(figsize=(10, 10))\n",
    "    plt.axis('off')\n",
    "    plt.tight_layout()\n",
    "    plt.title(name)\n",
    "    plt.scatter(coord_df['x'], coord_df['y'], c='#f0f0f0',\n",
    "                   s=4, marker=',', edgecolors='none', alpha=0.8)\n",
    "    binned_df = trajectory_ds.obs.copy()\n",
    "    binned_df['values'] = trajectory_ds[:, name].X\n",
    "    binned_df = binned_df.groupby(['x', 'y'], as_index=False).sum()\n",
    "    plt.scatter(binned_df['x'], binned_df['y'], c=binned_df['values'],\n",
    "                   s=6, marker=',', edgecolors='none', vmax=0.01)\n",
    "    plt.colorbar().ax.set_title('Trajectory')\n",
    "\n",
    "widgets.interact(update_trajectory_vis, name=trajectory_dropdown)"
   ]
  },
  {
   "cell_type": "markdown",
   "metadata": {
    "pycharm": {}
   },
   "source": [
    "# Ancestor Census"
   ]
  },
  {
   "cell_type": "code",
   "execution_count": null,
   "metadata": {},
   "outputs": [],
   "source": []
  },
  {
   "cell_type": "code",
   "execution_count": null,
   "metadata": {},
   "outputs": [],
   "source": []
  },
  {
   "cell_type": "markdown",
   "metadata": {},
   "source": [
    "# Shared Ancestry"
   ]
  },
  {
   "cell_type": "code",
   "execution_count": null,
   "metadata": {},
   "outputs": [],
   "source": []
  },
  {
   "cell_type": "code",
   "execution_count": null,
   "metadata": {},
   "outputs": [],
   "source": []
  }
 ],
 "metadata": {
  "kernelspec": {
   "display_name": "Python 3",
   "language": "python",
   "name": "python3"
  },
  "language_info": {
   "codemirror_mode": {
    "name": "ipython",
    "version": 3
   },
   "file_extension": ".py",
   "mimetype": "text/x-python",
   "name": "python",
   "nbconvert_exporter": "python",
   "pygments_lexer": "ipython3",
   "version": "3.6.4"
  }
 },
 "nbformat": 4,
 "nbformat_minor": 2
}
